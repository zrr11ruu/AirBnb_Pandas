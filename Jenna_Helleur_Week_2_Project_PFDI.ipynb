{
  "cells": [
    {
      "cell_type": "markdown",
      "metadata": {
        "id": "view-in-github",
        "colab_type": "text"
      },
      "source": [
        "<a href=\"https://colab.research.google.com/github/zrr11ruu/AirBnb_Pandas/blob/main/Jenna_Helleur_Week_2_Project_PFDI.ipynb\" target=\"_parent\"><img src=\"https://colab.research.google.com/assets/colab-badge.svg\" alt=\"Open In Colab\"/></a>"
      ]
    },
    {
      "cell_type": "markdown",
      "id": "a2040e3d-bfb8-40b8-8861-4485db413cf7",
      "metadata": {
        "id": "a2040e3d-bfb8-40b8-8861-4485db413cf7"
      },
      "source": [
        "> 1. DUPLICATE THIS COLAB DOCUMENT TO START WORKING ON IT: On the top-left corner of this page, go to File > Save a copy to drive.\n",
        "> 2. SHARE SETTINGS: In the new notebook, set the sharing settings to \"Anyone with the link\" by clicking \"Share\" on the top-right corner.\n",
        "\n",
        "<center>\n",
        "  <img src=https://www.freevector.com/uploads/vector/preview/31087/07Januari2021-06_generated.jpg width=\"500\" align=\"center\" />\n",
        "</center>\n",
        "<br/>\n",
        "\n",
        "# Week 2: Discover the Airbnb Dataset (and Filter It!)\n",
        "\n",
        "Hi! 👋👋👋 Are you excited to start the second week's project for Python for Data Science? \n",
        "\n",
        "This week's lecture and material on CoRise showed you how to clean a DataFrame and merge one DataFrame into another. As you might have noticed, our dataset this week has way more columns than our dataset from Week 1. This is much more true to real life. It's messy, it's bloated, every time is unique, and above all, it's MUCH MORE interesting!\n",
        "\n",
        "For this project, we saved an older version of the \"clean\" **Listings DataFrame** so that you can apply all the steps we performed on the **Calendar DataFrame** directly to this older version and reproduce the methods you learned on slightly different data. Let's get started 💪💪!"
      ]
    },
    {
      "cell_type": "markdown",
      "source": [
        "## Downloading the Dataset\n",
        "\n",
        "You'll need to download some prerequisite Python packages in order to run all the code below. Let's install them!"
      ],
      "metadata": {
        "id": "rISRrL2X93Yx"
      },
      "id": "rISRrL2X93Yx"
    },
    {
      "cell_type": "code",
      "source": [
        "%%capture\n",
        "!pip install numpy pandas streamlit gdown pyarrow"
      ],
      "metadata": {
        "id": "JspZZKEj9ytH"
      },
      "id": "JspZZKEj9ytH",
      "execution_count": null,
      "outputs": []
    },
    {
      "cell_type": "markdown",
      "id": "0c21b1ad-25c8-4a99-a4e0-764d568f711b",
      "metadata": {
        "id": "0c21b1ad-25c8-4a99-a4e0-764d568f711b"
      },
      "source": [
        "We will download the datasets from Google Drive just like we did last week, but this time the datasets are in [Pickle](https://pythonnumericalmethods.berkeley.edu/notebooks/chapter11.03-Pickle-Files.html) and [Parquet](https://arrow.apache.org/docs/python/parquet.html) format. "
      ]
    },
    {
      "cell_type": "code",
      "execution_count": null,
      "id": "383cc4c4-c43c-4e77-bfce-8b4f1ab29bb4",
      "metadata": {
        "id": "383cc4c4-c43c-4e77-bfce-8b4f1ab29bb4",
        "colab": {
          "base_uri": "https://localhost:8080/",
          "height": 174
        },
        "outputId": "c440496d-43c3-419a-9e62-cb02e1f4a162"
      },
      "outputs": [
        {
          "output_type": "stream",
          "name": "stderr",
          "text": [
            "Downloading...\n",
            "From: https://drive.google.com/uc?id=1m185vTdh-u7_A2ZElBvUD4SCO6oETll2\n",
            "To: /content/listings_project.pkl\n",
            "100%|██████████| 1.42M/1.42M [00:00<00:00, 112MB/s]\n",
            "Downloading...\n",
            "From: https://drive.google.com/uc?id=1w41V1oWHJrBdaNJJQ4oxVBuml5CO7MQX\n",
            "To: /content/calendar_project.parquet\n",
            "100%|██████████| 1.23M/1.23M [00:00<00:00, 107MB/s]\n"
          ]
        },
        {
          "output_type": "execute_result",
          "data": {
            "text/plain": [
              "'calendar_project.parquet'"
            ],
            "application/vnd.google.colaboratory.intrinsic+json": {
              "type": "string"
            }
          },
          "metadata": {},
          "execution_count": 2
        }
      ],
      "source": [
        "import os\n",
        "import shutil\n",
        "\n",
        "import gdown\n",
        "import numpy as np\n",
        "import pandas as pd\n",
        "\n",
        "# Download files from Google Drive\n",
        "# Based on data from: http://insideairbnb.com/get-the-data/\n",
        "file_id_1 = \"1m185vTdh-u7_A2ZElBvUD4SCO6oETll2\"\n",
        "file_id_2 = \"1w41V1oWHJrBdaNJJQ4oxVBuml5CO7MQX\"\n",
        "downloaded_file_1 = \"listings_project.pkl\"\n",
        "downloaded_file_2 = \"calendar_project.parquet\"\n",
        "# Download the files from Google Drive\n",
        "gdown.download(id=file_id_1, output=downloaded_file_1)\n",
        "gdown.download(id=file_id_2, output=downloaded_file_2)"
      ]
    },
    {
      "cell_type": "code",
      "execution_count": null,
      "id": "70509240-553f-4c0a-9ba8-54559efc606d",
      "metadata": {
        "id": "70509240-553f-4c0a-9ba8-54559efc606d"
      },
      "outputs": [],
      "source": [
        "# Show all columns (instead of cascading columns in the middle)\n",
        "pd.set_option(\"display.max_columns\", None)\n",
        "# Don't show numbers in scientific notation\n",
        "pd.set_option(\"display.float_format\", \"{:.2f}\".format)"
      ]
    },
    {
      "cell_type": "markdown",
      "source": [
        "## Preprocessing the Dataset\n",
        "Please load the downloaded files as DataFrames (dfs). The method for loading these datasets is the same as what we did on the CoRise platform."
      ],
      "metadata": {
        "id": "RNofYa-GU8D2"
      },
      "id": "RNofYa-GU8D2"
    },
    {
      "cell_type": "markdown",
      "id": "4511c023-4bc6-4399-b5bf-c4977fdf1ea0",
      "metadata": {
        "id": "4511c023-4bc6-4399-b5bf-c4977fdf1ea0"
      },
      "source": [
        "#### Task 1: Read Pickle and Parquet\n",
        "\n",
        "[*\\[Related section on CoRise\\]*](https://corise.com/course/python-for-data-science/v2/module/details-dataset#corise_cl9jxhls800403b6pf9k9nh9e)\n",
        "\n",
        "Read the Python Pickle and PyArrow Parquet files we've just downloaded as `df_list` and `df_cal`."
      ]
    },
    {
      "cell_type": "code",
      "source": [
        "df_list = pd.read_pickle('/content/listings_project.pkl')\n",
        "df_cal = pd.read_parquet('/content/calendar_project.parquet', engine = 'pyarrow')"
      ],
      "metadata": {
        "id": "cnFmfiydVawy"
      },
      "id": "cnFmfiydVawy",
      "execution_count": null,
      "outputs": []
    },
    {
      "cell_type": "markdown",
      "id": "3f375704-9648-49cc-a6fc-a7f7208b476f",
      "metadata": {
        "tags": [],
        "id": "3f375704-9648-49cc-a6fc-a7f7208b476f"
      },
      "source": [
        "Now instead of cleaning the **Calendar DataFrame**, you are going to clean the **Listings DataFrame**. You will use the same steps we used to clean the Calendar data on the CoRise platform this week. Let's first get an overview of the columns that are in this particular DataFrame 🧐."
      ]
    },
    {
      "cell_type": "markdown",
      "id": "38b21f27-24ea-4622-8c2a-c4bb065b5d4e",
      "metadata": {
        "id": "38b21f27-24ea-4622-8c2a-c4bb065b5d4e"
      },
      "source": [
        "#### Task 2: Print column names, types, and non-null values \n",
        "\n",
        "[*\\[Related section on CoRise\\]*](https://corise.com/course/python-for-data-science/v2/module/clean-inspect#corise_cl9wmh42v001l3b6pcxidoxp2)\n",
        "\n",
        "Let's try and get an overview of the **Listings DataFrame**, called `df_list`. This should show us some details about the columns in the DataFrame, like the column names, their data types, and the number of non-null values."
      ]
    },
    {
      "cell_type": "code",
      "source": [
        "df_list.head(3)\n",
        "\n"
      ],
      "metadata": {
        "id": "wOKwdo8gH9Th",
        "colab": {
          "base_uri": "https://localhost:8080/",
          "height": 259
        },
        "outputId": "5f5f5e15-6e4f-46fe-9ffd-985694ca9074"
      },
      "id": "wOKwdo8gH9Th",
      "execution_count": null,
      "outputs": [
        {
          "output_type": "execute_result",
          "data": {
            "text/plain": [
              "         id  host_acceptance_rate host_is_superhost  host_listings_count  \\\n",
              "0  23726706                  0.95                 f                    1   \n",
              "1  35815036                  1.00                 t                    1   \n",
              "2  31553121                  1.00                 f                    1   \n",
              "\n",
              "   host_total_listings_count    neighbourhood_cleansed  latitude  longitude  \\\n",
              "0                          1  IJburg - Zeeburgereiland     52.35       4.98   \n",
              "1                          1                Noord-Oost     52.42       4.96   \n",
              "2                          1                Noord-West     52.43       4.92   \n",
              "\n",
              "         room_type  accommodates  bedrooms  beds  amenities    price  \\\n",
              "0     Private room             2      1.00  1.00          6   $88.00   \n",
              "1  Entire home/apt             2       NaN  1.00          5  $105.00   \n",
              "2  Entire home/apt             4      1.00  3.00          3  $152.00   \n",
              "\n",
              "   minimum_nights  maximum_nights has_availability  availability_30  \\\n",
              "0               2              14                t                0   \n",
              "1               3             100                t                4   \n",
              "2               2              60                t                0   \n",
              "\n",
              "   availability_60  availability_90  availability_365  number_of_reviews  \\\n",
              "0                6               20                66                 78   \n",
              "1                6               12               243                 95   \n",
              "2                3                3                 3                 82   \n",
              "\n",
              "   number_of_reviews_ltm  number_of_reviews_l30d  review_scores_rating  \\\n",
              "0                     11                       3                  4.99   \n",
              "1                     36                       6                  4.96   \n",
              "2                     26                       1                  4.74   \n",
              "\n",
              "  instant_bookable  reviews_per_month price_in_euros price_per_person  \\\n",
              "0                t               1.53           None              $44   \n",
              "1                f               2.65           None            $52.5   \n",
              "2                f               2.02           None              $38   \n",
              "\n",
              "  minimum_price discount_per_5_days_booked discount_per_10_days_booked  \\\n",
              "0          $176                         5%                         11%   \n",
              "1          $315                         5%                         12%   \n",
              "2          $304                         7%                         11%   \n",
              "\n",
              "  discount_per_30_and_more_days_booked service_cost  \n",
              "0                                  16%        $4.99  \n",
              "1                                  16%        $4.99  \n",
              "2                                  22%        $4.99  "
            ],
            "text/html": [
              "\n",
              "  <div id=\"df-3c531454-89b7-4a6b-8472-1d5f40894d25\">\n",
              "    <div class=\"colab-df-container\">\n",
              "      <div>\n",
              "<style scoped>\n",
              "    .dataframe tbody tr th:only-of-type {\n",
              "        vertical-align: middle;\n",
              "    }\n",
              "\n",
              "    .dataframe tbody tr th {\n",
              "        vertical-align: top;\n",
              "    }\n",
              "\n",
              "    .dataframe thead th {\n",
              "        text-align: right;\n",
              "    }\n",
              "</style>\n",
              "<table border=\"1\" class=\"dataframe\">\n",
              "  <thead>\n",
              "    <tr style=\"text-align: right;\">\n",
              "      <th></th>\n",
              "      <th>id</th>\n",
              "      <th>host_acceptance_rate</th>\n",
              "      <th>host_is_superhost</th>\n",
              "      <th>host_listings_count</th>\n",
              "      <th>host_total_listings_count</th>\n",
              "      <th>neighbourhood_cleansed</th>\n",
              "      <th>latitude</th>\n",
              "      <th>longitude</th>\n",
              "      <th>room_type</th>\n",
              "      <th>accommodates</th>\n",
              "      <th>bedrooms</th>\n",
              "      <th>beds</th>\n",
              "      <th>amenities</th>\n",
              "      <th>price</th>\n",
              "      <th>minimum_nights</th>\n",
              "      <th>maximum_nights</th>\n",
              "      <th>has_availability</th>\n",
              "      <th>availability_30</th>\n",
              "      <th>availability_60</th>\n",
              "      <th>availability_90</th>\n",
              "      <th>availability_365</th>\n",
              "      <th>number_of_reviews</th>\n",
              "      <th>number_of_reviews_ltm</th>\n",
              "      <th>number_of_reviews_l30d</th>\n",
              "      <th>review_scores_rating</th>\n",
              "      <th>instant_bookable</th>\n",
              "      <th>reviews_per_month</th>\n",
              "      <th>price_in_euros</th>\n",
              "      <th>price_per_person</th>\n",
              "      <th>minimum_price</th>\n",
              "      <th>discount_per_5_days_booked</th>\n",
              "      <th>discount_per_10_days_booked</th>\n",
              "      <th>discount_per_30_and_more_days_booked</th>\n",
              "      <th>service_cost</th>\n",
              "    </tr>\n",
              "  </thead>\n",
              "  <tbody>\n",
              "    <tr>\n",
              "      <th>0</th>\n",
              "      <td>23726706</td>\n",
              "      <td>0.95</td>\n",
              "      <td>f</td>\n",
              "      <td>1</td>\n",
              "      <td>1</td>\n",
              "      <td>IJburg - Zeeburgereiland</td>\n",
              "      <td>52.35</td>\n",
              "      <td>4.98</td>\n",
              "      <td>Private room</td>\n",
              "      <td>2</td>\n",
              "      <td>1.00</td>\n",
              "      <td>1.00</td>\n",
              "      <td>6</td>\n",
              "      <td>$88.00</td>\n",
              "      <td>2</td>\n",
              "      <td>14</td>\n",
              "      <td>t</td>\n",
              "      <td>0</td>\n",
              "      <td>6</td>\n",
              "      <td>20</td>\n",
              "      <td>66</td>\n",
              "      <td>78</td>\n",
              "      <td>11</td>\n",
              "      <td>3</td>\n",
              "      <td>4.99</td>\n",
              "      <td>t</td>\n",
              "      <td>1.53</td>\n",
              "      <td>None</td>\n",
              "      <td>$44</td>\n",
              "      <td>$176</td>\n",
              "      <td>5%</td>\n",
              "      <td>11%</td>\n",
              "      <td>16%</td>\n",
              "      <td>$4.99</td>\n",
              "    </tr>\n",
              "    <tr>\n",
              "      <th>1</th>\n",
              "      <td>35815036</td>\n",
              "      <td>1.00</td>\n",
              "      <td>t</td>\n",
              "      <td>1</td>\n",
              "      <td>1</td>\n",
              "      <td>Noord-Oost</td>\n",
              "      <td>52.42</td>\n",
              "      <td>4.96</td>\n",
              "      <td>Entire home/apt</td>\n",
              "      <td>2</td>\n",
              "      <td>NaN</td>\n",
              "      <td>1.00</td>\n",
              "      <td>5</td>\n",
              "      <td>$105.00</td>\n",
              "      <td>3</td>\n",
              "      <td>100</td>\n",
              "      <td>t</td>\n",
              "      <td>4</td>\n",
              "      <td>6</td>\n",
              "      <td>12</td>\n",
              "      <td>243</td>\n",
              "      <td>95</td>\n",
              "      <td>36</td>\n",
              "      <td>6</td>\n",
              "      <td>4.96</td>\n",
              "      <td>f</td>\n",
              "      <td>2.65</td>\n",
              "      <td>None</td>\n",
              "      <td>$52.5</td>\n",
              "      <td>$315</td>\n",
              "      <td>5%</td>\n",
              "      <td>12%</td>\n",
              "      <td>16%</td>\n",
              "      <td>$4.99</td>\n",
              "    </tr>\n",
              "    <tr>\n",
              "      <th>2</th>\n",
              "      <td>31553121</td>\n",
              "      <td>1.00</td>\n",
              "      <td>f</td>\n",
              "      <td>1</td>\n",
              "      <td>1</td>\n",
              "      <td>Noord-West</td>\n",
              "      <td>52.43</td>\n",
              "      <td>4.92</td>\n",
              "      <td>Entire home/apt</td>\n",
              "      <td>4</td>\n",
              "      <td>1.00</td>\n",
              "      <td>3.00</td>\n",
              "      <td>3</td>\n",
              "      <td>$152.00</td>\n",
              "      <td>2</td>\n",
              "      <td>60</td>\n",
              "      <td>t</td>\n",
              "      <td>0</td>\n",
              "      <td>3</td>\n",
              "      <td>3</td>\n",
              "      <td>3</td>\n",
              "      <td>82</td>\n",
              "      <td>26</td>\n",
              "      <td>1</td>\n",
              "      <td>4.74</td>\n",
              "      <td>f</td>\n",
              "      <td>2.02</td>\n",
              "      <td>None</td>\n",
              "      <td>$38</td>\n",
              "      <td>$304</td>\n",
              "      <td>7%</td>\n",
              "      <td>11%</td>\n",
              "      <td>22%</td>\n",
              "      <td>$4.99</td>\n",
              "    </tr>\n",
              "  </tbody>\n",
              "</table>\n",
              "</div>\n",
              "      <button class=\"colab-df-convert\" onclick=\"convertToInteractive('df-3c531454-89b7-4a6b-8472-1d5f40894d25')\"\n",
              "              title=\"Convert this dataframe to an interactive table.\"\n",
              "              style=\"display:none;\">\n",
              "        \n",
              "  <svg xmlns=\"http://www.w3.org/2000/svg\" height=\"24px\"viewBox=\"0 0 24 24\"\n",
              "       width=\"24px\">\n",
              "    <path d=\"M0 0h24v24H0V0z\" fill=\"none\"/>\n",
              "    <path d=\"M18.56 5.44l.94 2.06.94-2.06 2.06-.94-2.06-.94-.94-2.06-.94 2.06-2.06.94zm-11 1L8.5 8.5l.94-2.06 2.06-.94-2.06-.94L8.5 2.5l-.94 2.06-2.06.94zm10 10l.94 2.06.94-2.06 2.06-.94-2.06-.94-.94-2.06-.94 2.06-2.06.94z\"/><path d=\"M17.41 7.96l-1.37-1.37c-.4-.4-.92-.59-1.43-.59-.52 0-1.04.2-1.43.59L10.3 9.45l-7.72 7.72c-.78.78-.78 2.05 0 2.83L4 21.41c.39.39.9.59 1.41.59.51 0 1.02-.2 1.41-.59l7.78-7.78 2.81-2.81c.8-.78.8-2.07 0-2.86zM5.41 20L4 18.59l7.72-7.72 1.47 1.35L5.41 20z\"/>\n",
              "  </svg>\n",
              "      </button>\n",
              "      \n",
              "  <style>\n",
              "    .colab-df-container {\n",
              "      display:flex;\n",
              "      flex-wrap:wrap;\n",
              "      gap: 12px;\n",
              "    }\n",
              "\n",
              "    .colab-df-convert {\n",
              "      background-color: #E8F0FE;\n",
              "      border: none;\n",
              "      border-radius: 50%;\n",
              "      cursor: pointer;\n",
              "      display: none;\n",
              "      fill: #1967D2;\n",
              "      height: 32px;\n",
              "      padding: 0 0 0 0;\n",
              "      width: 32px;\n",
              "    }\n",
              "\n",
              "    .colab-df-convert:hover {\n",
              "      background-color: #E2EBFA;\n",
              "      box-shadow: 0px 1px 2px rgba(60, 64, 67, 0.3), 0px 1px 3px 1px rgba(60, 64, 67, 0.15);\n",
              "      fill: #174EA6;\n",
              "    }\n",
              "\n",
              "    [theme=dark] .colab-df-convert {\n",
              "      background-color: #3B4455;\n",
              "      fill: #D2E3FC;\n",
              "    }\n",
              "\n",
              "    [theme=dark] .colab-df-convert:hover {\n",
              "      background-color: #434B5C;\n",
              "      box-shadow: 0px 1px 3px 1px rgba(0, 0, 0, 0.15);\n",
              "      filter: drop-shadow(0px 1px 2px rgba(0, 0, 0, 0.3));\n",
              "      fill: #FFFFFF;\n",
              "    }\n",
              "  </style>\n",
              "\n",
              "      <script>\n",
              "        const buttonEl =\n",
              "          document.querySelector('#df-3c531454-89b7-4a6b-8472-1d5f40894d25 button.colab-df-convert');\n",
              "        buttonEl.style.display =\n",
              "          google.colab.kernel.accessAllowed ? 'block' : 'none';\n",
              "\n",
              "        async function convertToInteractive(key) {\n",
              "          const element = document.querySelector('#df-3c531454-89b7-4a6b-8472-1d5f40894d25');\n",
              "          const dataTable =\n",
              "            await google.colab.kernel.invokeFunction('convertToInteractive',\n",
              "                                                     [key], {});\n",
              "          if (!dataTable) return;\n",
              "\n",
              "          const docLinkHtml = 'Like what you see? Visit the ' +\n",
              "            '<a target=\"_blank\" href=https://colab.research.google.com/notebooks/data_table.ipynb>data table notebook</a>'\n",
              "            + ' to learn more about interactive tables.';\n",
              "          element.innerHTML = '';\n",
              "          dataTable['output_type'] = 'display_data';\n",
              "          await google.colab.output.renderOutput(dataTable, element);\n",
              "          const docLink = document.createElement('div');\n",
              "          docLink.innerHTML = docLinkHtml;\n",
              "          element.appendChild(docLink);\n",
              "        }\n",
              "      </script>\n",
              "    </div>\n",
              "  </div>\n",
              "  "
            ]
          },
          "metadata": {},
          "execution_count": 276
        }
      ]
    },
    {
      "cell_type": "code",
      "source": [
        "df_list.shape"
      ],
      "metadata": {
        "colab": {
          "base_uri": "https://localhost:8080/"
        },
        "id": "ruZWdc8a8zLA",
        "outputId": "9fb617a6-238e-4738-b037-caf9c74f6c0d"
      },
      "id": "ruZWdc8a8zLA",
      "execution_count": null,
      "outputs": [
        {
          "output_type": "execute_result",
          "data": {
            "text/plain": [
              "(6165, 34)"
            ]
          },
          "metadata": {},
          "execution_count": 277
        }
      ]
    },
    {
      "cell_type": "code",
      "source": [
        "df_list.describe()"
      ],
      "metadata": {
        "colab": {
          "base_uri": "https://localhost:8080/",
          "height": 364
        },
        "id": "to_FKNb883V3",
        "outputId": "aab3494e-833a-4f90-d562-e65a8aaa7e0b"
      },
      "id": "to_FKNb883V3",
      "execution_count": null,
      "outputs": [
        {
          "output_type": "execute_result",
          "data": {
            "text/plain": [
              "                         id  host_acceptance_rate  host_listings_count  \\\n",
              "count               6165.00               5365.00              6165.00   \n",
              "mean   44318340926243752.00                  0.71                 2.85   \n",
              "std   157560383690789888.00                  0.31                29.94   \n",
              "min                 2818.00                  0.00                 0.00   \n",
              "25%             12885866.00                  0.51                 1.00   \n",
              "50%             27348973.00                  0.79                 1.00   \n",
              "75%             44297369.00                  1.00                 2.00   \n",
              "max   641131762118036096.00                  1.00              1926.00   \n",
              "\n",
              "       host_total_listings_count  latitude  longitude  accommodates  bedrooms  \\\n",
              "count                    6165.00   6165.00    6165.00       6165.00   5859.00   \n",
              "mean                        2.85     52.37       4.89          3.00      1.60   \n",
              "std                        29.94      0.02       0.04          1.52      0.95   \n",
              "min                         0.00     52.27       4.74          1.00      1.00   \n",
              "25%                         1.00     52.36       4.87          2.00      1.00   \n",
              "50%                         1.00     52.37       4.89          2.00      1.00   \n",
              "75%                         2.00     52.38       4.91          4.00      2.00   \n",
              "max                      1926.00     52.44       5.07         16.00     15.00   \n",
              "\n",
              "         beds  amenities  minimum_nights  maximum_nights  availability_30  \\\n",
              "count 6082.00    6165.00         6165.00         6165.00          6165.00   \n",
              "mean     1.98       8.10            4.50          493.12             3.16   \n",
              "std      1.71       5.76           31.24          515.26             5.85   \n",
              "min      1.00       1.00            1.00            1.00             0.00   \n",
              "25%      1.00       4.00            2.00           22.00             0.00   \n",
              "50%      1.00       7.00            2.00          180.00             0.00   \n",
              "75%      2.00      11.00            3.00         1125.00             4.00   \n",
              "max     34.00      92.00         1001.00         1825.00            30.00   \n",
              "\n",
              "       availability_60  availability_90  availability_365  number_of_reviews  \\\n",
              "count          6165.00          6165.00           6165.00            6165.00   \n",
              "mean              8.34            14.98             88.11              50.82   \n",
              "std              13.30            22.01            112.60              94.41   \n",
              "min               0.00             0.00              0.00               0.00   \n",
              "25%               0.00             0.00              0.00               4.00   \n",
              "50%               2.00             4.00             23.00              17.00   \n",
              "75%              11.00            22.00            158.00              49.00   \n",
              "max              60.00            90.00            365.00            1110.00   \n",
              "\n",
              "       number_of_reviews_ltm  number_of_reviews_l30d  review_scores_rating  \\\n",
              "count                6165.00                 6165.00               5581.00   \n",
              "mean                   10.27                    1.28                  4.76   \n",
              "std                    29.66                    3.03                  0.35   \n",
              "min                     0.00                    0.00                  0.00   \n",
              "25%                     0.00                    0.00                  4.67   \n",
              "50%                     3.00                    0.00                  4.86   \n",
              "75%                    10.00                    2.00                  4.98   \n",
              "max                  1088.00                  128.00                  5.00   \n",
              "\n",
              "       reviews_per_month  \n",
              "count            5581.00  \n",
              "mean                1.21  \n",
              "std                 2.25  \n",
              "min                 0.01  \n",
              "25%                 0.26  \n",
              "50%                 0.57  \n",
              "75%                 1.43  \n",
              "max                94.88  "
            ],
            "text/html": [
              "\n",
              "  <div id=\"df-a013f3a4-3511-46ae-8e86-174565913fd5\">\n",
              "    <div class=\"colab-df-container\">\n",
              "      <div>\n",
              "<style scoped>\n",
              "    .dataframe tbody tr th:only-of-type {\n",
              "        vertical-align: middle;\n",
              "    }\n",
              "\n",
              "    .dataframe tbody tr th {\n",
              "        vertical-align: top;\n",
              "    }\n",
              "\n",
              "    .dataframe thead th {\n",
              "        text-align: right;\n",
              "    }\n",
              "</style>\n",
              "<table border=\"1\" class=\"dataframe\">\n",
              "  <thead>\n",
              "    <tr style=\"text-align: right;\">\n",
              "      <th></th>\n",
              "      <th>id</th>\n",
              "      <th>host_acceptance_rate</th>\n",
              "      <th>host_listings_count</th>\n",
              "      <th>host_total_listings_count</th>\n",
              "      <th>latitude</th>\n",
              "      <th>longitude</th>\n",
              "      <th>accommodates</th>\n",
              "      <th>bedrooms</th>\n",
              "      <th>beds</th>\n",
              "      <th>amenities</th>\n",
              "      <th>minimum_nights</th>\n",
              "      <th>maximum_nights</th>\n",
              "      <th>availability_30</th>\n",
              "      <th>availability_60</th>\n",
              "      <th>availability_90</th>\n",
              "      <th>availability_365</th>\n",
              "      <th>number_of_reviews</th>\n",
              "      <th>number_of_reviews_ltm</th>\n",
              "      <th>number_of_reviews_l30d</th>\n",
              "      <th>review_scores_rating</th>\n",
              "      <th>reviews_per_month</th>\n",
              "    </tr>\n",
              "  </thead>\n",
              "  <tbody>\n",
              "    <tr>\n",
              "      <th>count</th>\n",
              "      <td>6165.00</td>\n",
              "      <td>5365.00</td>\n",
              "      <td>6165.00</td>\n",
              "      <td>6165.00</td>\n",
              "      <td>6165.00</td>\n",
              "      <td>6165.00</td>\n",
              "      <td>6165.00</td>\n",
              "      <td>5859.00</td>\n",
              "      <td>6082.00</td>\n",
              "      <td>6165.00</td>\n",
              "      <td>6165.00</td>\n",
              "      <td>6165.00</td>\n",
              "      <td>6165.00</td>\n",
              "      <td>6165.00</td>\n",
              "      <td>6165.00</td>\n",
              "      <td>6165.00</td>\n",
              "      <td>6165.00</td>\n",
              "      <td>6165.00</td>\n",
              "      <td>6165.00</td>\n",
              "      <td>5581.00</td>\n",
              "      <td>5581.00</td>\n",
              "    </tr>\n",
              "    <tr>\n",
              "      <th>mean</th>\n",
              "      <td>44318340926243752.00</td>\n",
              "      <td>0.71</td>\n",
              "      <td>2.85</td>\n",
              "      <td>2.85</td>\n",
              "      <td>52.37</td>\n",
              "      <td>4.89</td>\n",
              "      <td>3.00</td>\n",
              "      <td>1.60</td>\n",
              "      <td>1.98</td>\n",
              "      <td>8.10</td>\n",
              "      <td>4.50</td>\n",
              "      <td>493.12</td>\n",
              "      <td>3.16</td>\n",
              "      <td>8.34</td>\n",
              "      <td>14.98</td>\n",
              "      <td>88.11</td>\n",
              "      <td>50.82</td>\n",
              "      <td>10.27</td>\n",
              "      <td>1.28</td>\n",
              "      <td>4.76</td>\n",
              "      <td>1.21</td>\n",
              "    </tr>\n",
              "    <tr>\n",
              "      <th>std</th>\n",
              "      <td>157560383690789888.00</td>\n",
              "      <td>0.31</td>\n",
              "      <td>29.94</td>\n",
              "      <td>29.94</td>\n",
              "      <td>0.02</td>\n",
              "      <td>0.04</td>\n",
              "      <td>1.52</td>\n",
              "      <td>0.95</td>\n",
              "      <td>1.71</td>\n",
              "      <td>5.76</td>\n",
              "      <td>31.24</td>\n",
              "      <td>515.26</td>\n",
              "      <td>5.85</td>\n",
              "      <td>13.30</td>\n",
              "      <td>22.01</td>\n",
              "      <td>112.60</td>\n",
              "      <td>94.41</td>\n",
              "      <td>29.66</td>\n",
              "      <td>3.03</td>\n",
              "      <td>0.35</td>\n",
              "      <td>2.25</td>\n",
              "    </tr>\n",
              "    <tr>\n",
              "      <th>min</th>\n",
              "      <td>2818.00</td>\n",
              "      <td>0.00</td>\n",
              "      <td>0.00</td>\n",
              "      <td>0.00</td>\n",
              "      <td>52.27</td>\n",
              "      <td>4.74</td>\n",
              "      <td>1.00</td>\n",
              "      <td>1.00</td>\n",
              "      <td>1.00</td>\n",
              "      <td>1.00</td>\n",
              "      <td>1.00</td>\n",
              "      <td>1.00</td>\n",
              "      <td>0.00</td>\n",
              "      <td>0.00</td>\n",
              "      <td>0.00</td>\n",
              "      <td>0.00</td>\n",
              "      <td>0.00</td>\n",
              "      <td>0.00</td>\n",
              "      <td>0.00</td>\n",
              "      <td>0.00</td>\n",
              "      <td>0.01</td>\n",
              "    </tr>\n",
              "    <tr>\n",
              "      <th>25%</th>\n",
              "      <td>12885866.00</td>\n",
              "      <td>0.51</td>\n",
              "      <td>1.00</td>\n",
              "      <td>1.00</td>\n",
              "      <td>52.36</td>\n",
              "      <td>4.87</td>\n",
              "      <td>2.00</td>\n",
              "      <td>1.00</td>\n",
              "      <td>1.00</td>\n",
              "      <td>4.00</td>\n",
              "      <td>2.00</td>\n",
              "      <td>22.00</td>\n",
              "      <td>0.00</td>\n",
              "      <td>0.00</td>\n",
              "      <td>0.00</td>\n",
              "      <td>0.00</td>\n",
              "      <td>4.00</td>\n",
              "      <td>0.00</td>\n",
              "      <td>0.00</td>\n",
              "      <td>4.67</td>\n",
              "      <td>0.26</td>\n",
              "    </tr>\n",
              "    <tr>\n",
              "      <th>50%</th>\n",
              "      <td>27348973.00</td>\n",
              "      <td>0.79</td>\n",
              "      <td>1.00</td>\n",
              "      <td>1.00</td>\n",
              "      <td>52.37</td>\n",
              "      <td>4.89</td>\n",
              "      <td>2.00</td>\n",
              "      <td>1.00</td>\n",
              "      <td>1.00</td>\n",
              "      <td>7.00</td>\n",
              "      <td>2.00</td>\n",
              "      <td>180.00</td>\n",
              "      <td>0.00</td>\n",
              "      <td>2.00</td>\n",
              "      <td>4.00</td>\n",
              "      <td>23.00</td>\n",
              "      <td>17.00</td>\n",
              "      <td>3.00</td>\n",
              "      <td>0.00</td>\n",
              "      <td>4.86</td>\n",
              "      <td>0.57</td>\n",
              "    </tr>\n",
              "    <tr>\n",
              "      <th>75%</th>\n",
              "      <td>44297369.00</td>\n",
              "      <td>1.00</td>\n",
              "      <td>2.00</td>\n",
              "      <td>2.00</td>\n",
              "      <td>52.38</td>\n",
              "      <td>4.91</td>\n",
              "      <td>4.00</td>\n",
              "      <td>2.00</td>\n",
              "      <td>2.00</td>\n",
              "      <td>11.00</td>\n",
              "      <td>3.00</td>\n",
              "      <td>1125.00</td>\n",
              "      <td>4.00</td>\n",
              "      <td>11.00</td>\n",
              "      <td>22.00</td>\n",
              "      <td>158.00</td>\n",
              "      <td>49.00</td>\n",
              "      <td>10.00</td>\n",
              "      <td>2.00</td>\n",
              "      <td>4.98</td>\n",
              "      <td>1.43</td>\n",
              "    </tr>\n",
              "    <tr>\n",
              "      <th>max</th>\n",
              "      <td>641131762118036096.00</td>\n",
              "      <td>1.00</td>\n",
              "      <td>1926.00</td>\n",
              "      <td>1926.00</td>\n",
              "      <td>52.44</td>\n",
              "      <td>5.07</td>\n",
              "      <td>16.00</td>\n",
              "      <td>15.00</td>\n",
              "      <td>34.00</td>\n",
              "      <td>92.00</td>\n",
              "      <td>1001.00</td>\n",
              "      <td>1825.00</td>\n",
              "      <td>30.00</td>\n",
              "      <td>60.00</td>\n",
              "      <td>90.00</td>\n",
              "      <td>365.00</td>\n",
              "      <td>1110.00</td>\n",
              "      <td>1088.00</td>\n",
              "      <td>128.00</td>\n",
              "      <td>5.00</td>\n",
              "      <td>94.88</td>\n",
              "    </tr>\n",
              "  </tbody>\n",
              "</table>\n",
              "</div>\n",
              "      <button class=\"colab-df-convert\" onclick=\"convertToInteractive('df-a013f3a4-3511-46ae-8e86-174565913fd5')\"\n",
              "              title=\"Convert this dataframe to an interactive table.\"\n",
              "              style=\"display:none;\">\n",
              "        \n",
              "  <svg xmlns=\"http://www.w3.org/2000/svg\" height=\"24px\"viewBox=\"0 0 24 24\"\n",
              "       width=\"24px\">\n",
              "    <path d=\"M0 0h24v24H0V0z\" fill=\"none\"/>\n",
              "    <path d=\"M18.56 5.44l.94 2.06.94-2.06 2.06-.94-2.06-.94-.94-2.06-.94 2.06-2.06.94zm-11 1L8.5 8.5l.94-2.06 2.06-.94-2.06-.94L8.5 2.5l-.94 2.06-2.06.94zm10 10l.94 2.06.94-2.06 2.06-.94-2.06-.94-.94-2.06-.94 2.06-2.06.94z\"/><path d=\"M17.41 7.96l-1.37-1.37c-.4-.4-.92-.59-1.43-.59-.52 0-1.04.2-1.43.59L10.3 9.45l-7.72 7.72c-.78.78-.78 2.05 0 2.83L4 21.41c.39.39.9.59 1.41.59.51 0 1.02-.2 1.41-.59l7.78-7.78 2.81-2.81c.8-.78.8-2.07 0-2.86zM5.41 20L4 18.59l7.72-7.72 1.47 1.35L5.41 20z\"/>\n",
              "  </svg>\n",
              "      </button>\n",
              "      \n",
              "  <style>\n",
              "    .colab-df-container {\n",
              "      display:flex;\n",
              "      flex-wrap:wrap;\n",
              "      gap: 12px;\n",
              "    }\n",
              "\n",
              "    .colab-df-convert {\n",
              "      background-color: #E8F0FE;\n",
              "      border: none;\n",
              "      border-radius: 50%;\n",
              "      cursor: pointer;\n",
              "      display: none;\n",
              "      fill: #1967D2;\n",
              "      height: 32px;\n",
              "      padding: 0 0 0 0;\n",
              "      width: 32px;\n",
              "    }\n",
              "\n",
              "    .colab-df-convert:hover {\n",
              "      background-color: #E2EBFA;\n",
              "      box-shadow: 0px 1px 2px rgba(60, 64, 67, 0.3), 0px 1px 3px 1px rgba(60, 64, 67, 0.15);\n",
              "      fill: #174EA6;\n",
              "    }\n",
              "\n",
              "    [theme=dark] .colab-df-convert {\n",
              "      background-color: #3B4455;\n",
              "      fill: #D2E3FC;\n",
              "    }\n",
              "\n",
              "    [theme=dark] .colab-df-convert:hover {\n",
              "      background-color: #434B5C;\n",
              "      box-shadow: 0px 1px 3px 1px rgba(0, 0, 0, 0.15);\n",
              "      filter: drop-shadow(0px 1px 2px rgba(0, 0, 0, 0.3));\n",
              "      fill: #FFFFFF;\n",
              "    }\n",
              "  </style>\n",
              "\n",
              "      <script>\n",
              "        const buttonEl =\n",
              "          document.querySelector('#df-a013f3a4-3511-46ae-8e86-174565913fd5 button.colab-df-convert');\n",
              "        buttonEl.style.display =\n",
              "          google.colab.kernel.accessAllowed ? 'block' : 'none';\n",
              "\n",
              "        async function convertToInteractive(key) {\n",
              "          const element = document.querySelector('#df-a013f3a4-3511-46ae-8e86-174565913fd5');\n",
              "          const dataTable =\n",
              "            await google.colab.kernel.invokeFunction('convertToInteractive',\n",
              "                                                     [key], {});\n",
              "          if (!dataTable) return;\n",
              "\n",
              "          const docLinkHtml = 'Like what you see? Visit the ' +\n",
              "            '<a target=\"_blank\" href=https://colab.research.google.com/notebooks/data_table.ipynb>data table notebook</a>'\n",
              "            + ' to learn more about interactive tables.';\n",
              "          element.innerHTML = '';\n",
              "          dataTable['output_type'] = 'display_data';\n",
              "          await google.colab.output.renderOutput(dataTable, element);\n",
              "          const docLink = document.createElement('div');\n",
              "          docLink.innerHTML = docLinkHtml;\n",
              "          element.appendChild(docLink);\n",
              "        }\n",
              "      </script>\n",
              "    </div>\n",
              "  </div>\n",
              "  "
            ]
          },
          "metadata": {},
          "execution_count": 278
        }
      ]
    },
    {
      "cell_type": "code",
      "source": [
        "df_list.info()"
      ],
      "metadata": {
        "colab": {
          "base_uri": "https://localhost:8080/"
        },
        "id": "Jj9UyscC8-gw",
        "outputId": "3bc4c872-906d-4a7a-a10e-d801e86709e4"
      },
      "id": "Jj9UyscC8-gw",
      "execution_count": null,
      "outputs": [
        {
          "output_type": "stream",
          "name": "stdout",
          "text": [
            "<class 'pandas.core.frame.DataFrame'>\n",
            "Int64Index: 6165 entries, 0 to 6172\n",
            "Data columns (total 34 columns):\n",
            " #   Column                                Non-Null Count  Dtype  \n",
            "---  ------                                --------------  -----  \n",
            " 0   id                                    6165 non-null   int64  \n",
            " 1   host_acceptance_rate                  5365 non-null   float64\n",
            " 2   host_is_superhost                     6165 non-null   object \n",
            " 3   host_listings_count                   6165 non-null   int64  \n",
            " 4   host_total_listings_count             6165 non-null   int64  \n",
            " 5   neighbourhood_cleansed                6165 non-null   object \n",
            " 6   latitude                              6165 non-null   float64\n",
            " 7   longitude                             6165 non-null   float64\n",
            " 8   room_type                             6165 non-null   object \n",
            " 9   accommodates                          6165 non-null   int64  \n",
            " 10  bedrooms                              5859 non-null   float64\n",
            " 11  beds                                  6082 non-null   float64\n",
            " 12  amenities                             6165 non-null   int64  \n",
            " 13  price                                 6165 non-null   object \n",
            " 14  minimum_nights                        6165 non-null   int64  \n",
            " 15  maximum_nights                        6165 non-null   int64  \n",
            " 16  has_availability                      6165 non-null   object \n",
            " 17  availability_30                       6165 non-null   int64  \n",
            " 18  availability_60                       6165 non-null   int64  \n",
            " 19  availability_90                       6165 non-null   int64  \n",
            " 20  availability_365                      6165 non-null   int64  \n",
            " 21  number_of_reviews                     6165 non-null   int64  \n",
            " 22  number_of_reviews_ltm                 6165 non-null   int64  \n",
            " 23  number_of_reviews_l30d                6165 non-null   int64  \n",
            " 24  review_scores_rating                  5581 non-null   float64\n",
            " 25  instant_bookable                      6165 non-null   object \n",
            " 26  reviews_per_month                     5581 non-null   float64\n",
            " 27  price_in_euros                        0 non-null      object \n",
            " 28  price_per_person                      6165 non-null   object \n",
            " 29  minimum_price                         6165 non-null   object \n",
            " 30  discount_per_5_days_booked            6165 non-null   object \n",
            " 31  discount_per_10_days_booked           6165 non-null   object \n",
            " 32  discount_per_30_and_more_days_booked  6165 non-null   object \n",
            " 33  service_cost                          6165 non-null   object \n",
            "dtypes: float64(7), int64(14), object(13)\n",
            "memory usage: 1.6+ MB\n"
          ]
        }
      ]
    },
    {
      "cell_type": "markdown",
      "source": [
        "This info printout provides a good overview of which columns we need to investigate further. We saw on CoRise this week that columns with the dtype **object** and sometimes **float** require inspection and cleaning.\n",
        "\n",
        "Let's start first with the `discount_per_...` columns, where your output should look somthing like this\n",
        "\n",
        "```\n",
        "0    5%\n",
        "1    5%\n",
        "2    7%\n",
        "3    6%\n",
        "4    9%\n",
        "Name: discount_per_5_days_booked, dtype: object\n",
        "```"
      ],
      "metadata": {
        "id": "4ml13_W2eKvm"
      },
      "id": "4ml13_W2eKvm"
    },
    {
      "cell_type": "code",
      "source": [
        "df_list.discount_per_5_days_booked.head(5)"
      ],
      "metadata": {
        "id": "e-FGn3l8Nd3u",
        "colab": {
          "base_uri": "https://localhost:8080/"
        },
        "outputId": "18b8bf5d-fe0d-4b1f-faab-e2cbc90e157e"
      },
      "id": "e-FGn3l8Nd3u",
      "execution_count": null,
      "outputs": [
        {
          "output_type": "execute_result",
          "data": {
            "text/plain": [
              "0    5%\n",
              "1    5%\n",
              "2    7%\n",
              "3    6%\n",
              "4    9%\n",
              "Name: discount_per_5_days_booked, dtype: object"
            ]
          },
          "metadata": {},
          "execution_count": 280
        }
      ]
    },
    {
      "cell_type": "code",
      "source": [
        "df_list.discount_per_5_days_booked.describe()"
      ],
      "metadata": {
        "id": "kwUofRZENfoa",
        "colab": {
          "base_uri": "https://localhost:8080/"
        },
        "outputId": "e007dfd1-83a1-47bf-94f1-694b2a11aae9"
      },
      "id": "kwUofRZENfoa",
      "execution_count": null,
      "outputs": [
        {
          "output_type": "execute_result",
          "data": {
            "text/plain": [
              "count     6165\n",
              "unique      24\n",
              "top         7%\n",
              "freq      1323\n",
              "Name: discount_per_5_days_booked, dtype: object"
            ]
          },
          "metadata": {},
          "execution_count": 281
        }
      ]
    },
    {
      "cell_type": "markdown",
      "id": "0ec3d60a-f71b-4c00-9953-2aaf200ff149",
      "metadata": {
        "id": "0ec3d60a-f71b-4c00-9953-2aaf200ff149"
      },
      "source": [
        "#### Task 3: Remove, convert, and format\n",
        "\n",
        "[*\\[Related section on CoRise\\]*](https://corise.com/course/python-for-data-science/v2/module/clean-inspect#corise_cl9wmqqgx001x3b6p54g1ka2y)\n",
        "\n",
        "Perform this four-step process to change each of the three `discount_per_...` columns into their proper format:\n",
        "1. Remove non-numeric characters, like the percent symbol, so you can perform mathematical calculations on the column\n",
        "1. Change the column into a `float` data type in order to convert the data into a ratio\n",
        "1. Multiply the whole column by 0.01 so you end up with a probability ratio instead of a percentage\n",
        "1. Overwrite the old `discount_per_...` column with this new column\n",
        "\n",
        "Perform these four steps for all thee columns.\n",
        "\n",
        "***Please note that running this code block more than once might cause an error. This is because you are re-assigning your columns with this code, and if you run the code again, the variable/column you are referring to has already been changed to its preferred state.***\n"
      ]
    },
    {
      "cell_type": "code",
      "source": [
        "df_list[\"discount_per_5_days_booked\"] = df_list[\"discount_per_5_days_booked\"].str.replace(\"%\", \"\").astype(\"float\")*0.01"
      ],
      "metadata": {
        "id": "Bbr-olAlC7A0"
      },
      "id": "Bbr-olAlC7A0",
      "execution_count": null,
      "outputs": []
    },
    {
      "cell_type": "code",
      "source": [
        "df_list[\"discount_per_10_days_booked\"]= df_list[\"discount_per_10_days_booked\"].str.replace(\"%\", \"\").astype(\"float\")*0.01\n",
        "df_list[\"discount_per_30_and_more_days_booked\"]= df_list[\"discount_per_30_and_more_days_booked\"].str.replace(\"%\", \"\").astype(\"float\")*0.01\n"
      ],
      "metadata": {
        "id": "OdlvrgxDf-7j"
      },
      "id": "OdlvrgxDf-7j",
      "execution_count": null,
      "outputs": []
    },
    {
      "cell_type": "markdown",
      "source": [
        "\n",
        "Awesome! Let's inspect our results. Your column output should look something like this:\n",
        "\n",
        "```\n",
        "0   0.05\n",
        "1   0.05\n",
        "2   0.07\n",
        "3   0.06\n",
        "4   0.09\n",
        "Name: discount_per_5_days_booked, dtype: float64\n",
        "```"
      ],
      "metadata": {
        "id": "0WtFWoWegFM4"
      },
      "id": "0WtFWoWegFM4"
    },
    {
      "cell_type": "code",
      "source": [
        "df_list.discount_per_5_days_booked.head(5)"
      ],
      "metadata": {
        "id": "Gfc0pNmSNiMG",
        "colab": {
          "base_uri": "https://localhost:8080/"
        },
        "outputId": "d4062af2-be33-41fb-ec24-fe03bf9f46c6"
      },
      "id": "Gfc0pNmSNiMG",
      "execution_count": null,
      "outputs": [
        {
          "output_type": "execute_result",
          "data": {
            "text/plain": [
              "0   0.05\n",
              "1   0.05\n",
              "2   0.07\n",
              "3   0.06\n",
              "4   0.09\n",
              "Name: discount_per_5_days_booked, dtype: float64"
            ]
          },
          "metadata": {},
          "execution_count": 284
        }
      ]
    },
    {
      "cell_type": "markdown",
      "source": [
        "This data looks great for performing calculations!\n",
        "\n",
        "Next, the columns `host_is_superhost`, `instant_bookable`, and `has_availability` are all boolean columns in the sense that their data represents true and false values, but currently are recognized as objects."
      ],
      "metadata": {
        "id": "q5qtc6L0gYQB"
      },
      "id": "q5qtc6L0gYQB"
    },
    {
      "cell_type": "code",
      "source": [
        "df_list[[\"host_is_superhost\", \"instant_bookable\", \"has_availability\"]].head(5)"
      ],
      "metadata": {
        "id": "Zgg-sLPhgtIc",
        "colab": {
          "base_uri": "https://localhost:8080/",
          "height": 206
        },
        "outputId": "dbca1281-7be8-4454-a369-436ebc144f43"
      },
      "id": "Zgg-sLPhgtIc",
      "execution_count": null,
      "outputs": [
        {
          "output_type": "execute_result",
          "data": {
            "text/plain": [
              "  host_is_superhost instant_bookable has_availability\n",
              "0                 f                t                t\n",
              "1                 t                f                t\n",
              "2                 f                f                t\n",
              "3                 f                f                t\n",
              "4                 t                f                t"
            ],
            "text/html": [
              "\n",
              "  <div id=\"df-04f799a9-1ed2-4cfd-8351-a625ac189f43\">\n",
              "    <div class=\"colab-df-container\">\n",
              "      <div>\n",
              "<style scoped>\n",
              "    .dataframe tbody tr th:only-of-type {\n",
              "        vertical-align: middle;\n",
              "    }\n",
              "\n",
              "    .dataframe tbody tr th {\n",
              "        vertical-align: top;\n",
              "    }\n",
              "\n",
              "    .dataframe thead th {\n",
              "        text-align: right;\n",
              "    }\n",
              "</style>\n",
              "<table border=\"1\" class=\"dataframe\">\n",
              "  <thead>\n",
              "    <tr style=\"text-align: right;\">\n",
              "      <th></th>\n",
              "      <th>host_is_superhost</th>\n",
              "      <th>instant_bookable</th>\n",
              "      <th>has_availability</th>\n",
              "    </tr>\n",
              "  </thead>\n",
              "  <tbody>\n",
              "    <tr>\n",
              "      <th>0</th>\n",
              "      <td>f</td>\n",
              "      <td>t</td>\n",
              "      <td>t</td>\n",
              "    </tr>\n",
              "    <tr>\n",
              "      <th>1</th>\n",
              "      <td>t</td>\n",
              "      <td>f</td>\n",
              "      <td>t</td>\n",
              "    </tr>\n",
              "    <tr>\n",
              "      <th>2</th>\n",
              "      <td>f</td>\n",
              "      <td>f</td>\n",
              "      <td>t</td>\n",
              "    </tr>\n",
              "    <tr>\n",
              "      <th>3</th>\n",
              "      <td>f</td>\n",
              "      <td>f</td>\n",
              "      <td>t</td>\n",
              "    </tr>\n",
              "    <tr>\n",
              "      <th>4</th>\n",
              "      <td>t</td>\n",
              "      <td>f</td>\n",
              "      <td>t</td>\n",
              "    </tr>\n",
              "  </tbody>\n",
              "</table>\n",
              "</div>\n",
              "      <button class=\"colab-df-convert\" onclick=\"convertToInteractive('df-04f799a9-1ed2-4cfd-8351-a625ac189f43')\"\n",
              "              title=\"Convert this dataframe to an interactive table.\"\n",
              "              style=\"display:none;\">\n",
              "        \n",
              "  <svg xmlns=\"http://www.w3.org/2000/svg\" height=\"24px\"viewBox=\"0 0 24 24\"\n",
              "       width=\"24px\">\n",
              "    <path d=\"M0 0h24v24H0V0z\" fill=\"none\"/>\n",
              "    <path d=\"M18.56 5.44l.94 2.06.94-2.06 2.06-.94-2.06-.94-.94-2.06-.94 2.06-2.06.94zm-11 1L8.5 8.5l.94-2.06 2.06-.94-2.06-.94L8.5 2.5l-.94 2.06-2.06.94zm10 10l.94 2.06.94-2.06 2.06-.94-2.06-.94-.94-2.06-.94 2.06-2.06.94z\"/><path d=\"M17.41 7.96l-1.37-1.37c-.4-.4-.92-.59-1.43-.59-.52 0-1.04.2-1.43.59L10.3 9.45l-7.72 7.72c-.78.78-.78 2.05 0 2.83L4 21.41c.39.39.9.59 1.41.59.51 0 1.02-.2 1.41-.59l7.78-7.78 2.81-2.81c.8-.78.8-2.07 0-2.86zM5.41 20L4 18.59l7.72-7.72 1.47 1.35L5.41 20z\"/>\n",
              "  </svg>\n",
              "      </button>\n",
              "      \n",
              "  <style>\n",
              "    .colab-df-container {\n",
              "      display:flex;\n",
              "      flex-wrap:wrap;\n",
              "      gap: 12px;\n",
              "    }\n",
              "\n",
              "    .colab-df-convert {\n",
              "      background-color: #E8F0FE;\n",
              "      border: none;\n",
              "      border-radius: 50%;\n",
              "      cursor: pointer;\n",
              "      display: none;\n",
              "      fill: #1967D2;\n",
              "      height: 32px;\n",
              "      padding: 0 0 0 0;\n",
              "      width: 32px;\n",
              "    }\n",
              "\n",
              "    .colab-df-convert:hover {\n",
              "      background-color: #E2EBFA;\n",
              "      box-shadow: 0px 1px 2px rgba(60, 64, 67, 0.3), 0px 1px 3px 1px rgba(60, 64, 67, 0.15);\n",
              "      fill: #174EA6;\n",
              "    }\n",
              "\n",
              "    [theme=dark] .colab-df-convert {\n",
              "      background-color: #3B4455;\n",
              "      fill: #D2E3FC;\n",
              "    }\n",
              "\n",
              "    [theme=dark] .colab-df-convert:hover {\n",
              "      background-color: #434B5C;\n",
              "      box-shadow: 0px 1px 3px 1px rgba(0, 0, 0, 0.15);\n",
              "      filter: drop-shadow(0px 1px 2px rgba(0, 0, 0, 0.3));\n",
              "      fill: #FFFFFF;\n",
              "    }\n",
              "  </style>\n",
              "\n",
              "      <script>\n",
              "        const buttonEl =\n",
              "          document.querySelector('#df-04f799a9-1ed2-4cfd-8351-a625ac189f43 button.colab-df-convert');\n",
              "        buttonEl.style.display =\n",
              "          google.colab.kernel.accessAllowed ? 'block' : 'none';\n",
              "\n",
              "        async function convertToInteractive(key) {\n",
              "          const element = document.querySelector('#df-04f799a9-1ed2-4cfd-8351-a625ac189f43');\n",
              "          const dataTable =\n",
              "            await google.colab.kernel.invokeFunction('convertToInteractive',\n",
              "                                                     [key], {});\n",
              "          if (!dataTable) return;\n",
              "\n",
              "          const docLinkHtml = 'Like what you see? Visit the ' +\n",
              "            '<a target=\"_blank\" href=https://colab.research.google.com/notebooks/data_table.ipynb>data table notebook</a>'\n",
              "            + ' to learn more about interactive tables.';\n",
              "          element.innerHTML = '';\n",
              "          dataTable['output_type'] = 'display_data';\n",
              "          await google.colab.output.renderOutput(dataTable, element);\n",
              "          const docLink = document.createElement('div');\n",
              "          docLink.innerHTML = docLinkHtml;\n",
              "          element.appendChild(docLink);\n",
              "        }\n",
              "      </script>\n",
              "    </div>\n",
              "  </div>\n",
              "  "
            ]
          },
          "metadata": {},
          "execution_count": 285
        }
      ]
    },
    {
      "cell_type": "markdown",
      "source": [
        "This is because the letters in these columns (**t** and **f**) are written as **strings** and not as **boolean** data types. This means we need to replace our string values with the boolean equivalent dtype."
      ],
      "metadata": {
        "id": "ThpOkbPKg2SA"
      },
      "id": "ThpOkbPKg2SA"
    },
    {
      "cell_type": "markdown",
      "id": "c3df5f1d-f758-4ab7-9cd2-fba8b49f6b22",
      "metadata": {
        "id": "c3df5f1d-f758-4ab7-9cd2-fba8b49f6b22"
      },
      "source": [
        "#### Task 4: Booleans!\n",
        "\n",
        "[*\\[Related section on CoRise\\]*](https://corise.com/course/python-for-data-science/v2/module/clean-inspect#corise_cl9wmkhbi001r3b6pb2o5kfxd)\n",
        "\n",
        "Change the columns `host_is_superhost`, `instant_bookable`, and `has_availability` into a boolean data type for better data processing:\n",
        "\n",
        "1. Replace `f` and `t` with `False` and `True`\n",
        "1. Set the column as type `bool`\n",
        "1. Overwrite the old columns with the new values\n"
      ]
    },
    {
      "cell_type": "code",
      "source": [
        "df_list[\"host_is_superhost\"]=(df_list[\"host_is_superhost\"].replace({\"t\":True, \"f\":False}).astype(bool))"
      ],
      "metadata": {
        "id": "p1_8AhRxDXhb"
      },
      "id": "p1_8AhRxDXhb",
      "execution_count": null,
      "outputs": []
    },
    {
      "cell_type": "code",
      "source": [
        "df_list[\"instant_bookable\"]=(df_list[\"instant_bookable\"].replace({\"t\":True, \"f\":False}).astype(bool)) \n",
        "df_list[\"has_availability\"]=(df_list[\"has_availability\"].replace({\"t\":True, \"f\":False}).astype(bool)) "
      ],
      "metadata": {
        "id": "eSdr3z8Ug-mB"
      },
      "id": "eSdr3z8Ug-mB",
      "execution_count": null,
      "outputs": []
    },
    {
      "cell_type": "markdown",
      "source": [
        "Let's now check to confirm we executed these changes correctly. As seen previously,inspecting the different columns should give you an output that looks something like this:\n",
        "\n",
        "\n",
        "|index|host\\_is\\_superhost|instant\\_bookable|has\\_availability|\n",
        "|---|---|---|---|\n",
        "|0|false|true|true|\n",
        "|1|true|false|true|\n",
        "|2|false|false|true|\n",
        "|3|false|false|true|\n",
        "|4|true|false|true|"
      ],
      "metadata": {
        "id": "k3ULBTZKhYCb"
      },
      "id": "k3ULBTZKhYCb"
    },
    {
      "cell_type": "code",
      "source": [
        "df_list[[\"host_is_superhost\", \"instant_bookable\", \"has_availability\"]].head(5)"
      ],
      "metadata": {
        "id": "9MaVbdgLQDCJ",
        "colab": {
          "base_uri": "https://localhost:8080/",
          "height": 206
        },
        "outputId": "15545d31-04df-4ddf-e9e8-81b0ef71ae9e"
      },
      "id": "9MaVbdgLQDCJ",
      "execution_count": null,
      "outputs": [
        {
          "output_type": "execute_result",
          "data": {
            "text/plain": [
              "   host_is_superhost  instant_bookable  has_availability\n",
              "0              False              True              True\n",
              "1               True             False              True\n",
              "2              False             False              True\n",
              "3              False             False              True\n",
              "4               True             False              True"
            ],
            "text/html": [
              "\n",
              "  <div id=\"df-06ad569a-838b-45d1-a97c-2a46e791baf4\">\n",
              "    <div class=\"colab-df-container\">\n",
              "      <div>\n",
              "<style scoped>\n",
              "    .dataframe tbody tr th:only-of-type {\n",
              "        vertical-align: middle;\n",
              "    }\n",
              "\n",
              "    .dataframe tbody tr th {\n",
              "        vertical-align: top;\n",
              "    }\n",
              "\n",
              "    .dataframe thead th {\n",
              "        text-align: right;\n",
              "    }\n",
              "</style>\n",
              "<table border=\"1\" class=\"dataframe\">\n",
              "  <thead>\n",
              "    <tr style=\"text-align: right;\">\n",
              "      <th></th>\n",
              "      <th>host_is_superhost</th>\n",
              "      <th>instant_bookable</th>\n",
              "      <th>has_availability</th>\n",
              "    </tr>\n",
              "  </thead>\n",
              "  <tbody>\n",
              "    <tr>\n",
              "      <th>0</th>\n",
              "      <td>False</td>\n",
              "      <td>True</td>\n",
              "      <td>True</td>\n",
              "    </tr>\n",
              "    <tr>\n",
              "      <th>1</th>\n",
              "      <td>True</td>\n",
              "      <td>False</td>\n",
              "      <td>True</td>\n",
              "    </tr>\n",
              "    <tr>\n",
              "      <th>2</th>\n",
              "      <td>False</td>\n",
              "      <td>False</td>\n",
              "      <td>True</td>\n",
              "    </tr>\n",
              "    <tr>\n",
              "      <th>3</th>\n",
              "      <td>False</td>\n",
              "      <td>False</td>\n",
              "      <td>True</td>\n",
              "    </tr>\n",
              "    <tr>\n",
              "      <th>4</th>\n",
              "      <td>True</td>\n",
              "      <td>False</td>\n",
              "      <td>True</td>\n",
              "    </tr>\n",
              "  </tbody>\n",
              "</table>\n",
              "</div>\n",
              "      <button class=\"colab-df-convert\" onclick=\"convertToInteractive('df-06ad569a-838b-45d1-a97c-2a46e791baf4')\"\n",
              "              title=\"Convert this dataframe to an interactive table.\"\n",
              "              style=\"display:none;\">\n",
              "        \n",
              "  <svg xmlns=\"http://www.w3.org/2000/svg\" height=\"24px\"viewBox=\"0 0 24 24\"\n",
              "       width=\"24px\">\n",
              "    <path d=\"M0 0h24v24H0V0z\" fill=\"none\"/>\n",
              "    <path d=\"M18.56 5.44l.94 2.06.94-2.06 2.06-.94-2.06-.94-.94-2.06-.94 2.06-2.06.94zm-11 1L8.5 8.5l.94-2.06 2.06-.94-2.06-.94L8.5 2.5l-.94 2.06-2.06.94zm10 10l.94 2.06.94-2.06 2.06-.94-2.06-.94-.94-2.06-.94 2.06-2.06.94z\"/><path d=\"M17.41 7.96l-1.37-1.37c-.4-.4-.92-.59-1.43-.59-.52 0-1.04.2-1.43.59L10.3 9.45l-7.72 7.72c-.78.78-.78 2.05 0 2.83L4 21.41c.39.39.9.59 1.41.59.51 0 1.02-.2 1.41-.59l7.78-7.78 2.81-2.81c.8-.78.8-2.07 0-2.86zM5.41 20L4 18.59l7.72-7.72 1.47 1.35L5.41 20z\"/>\n",
              "  </svg>\n",
              "      </button>\n",
              "      \n",
              "  <style>\n",
              "    .colab-df-container {\n",
              "      display:flex;\n",
              "      flex-wrap:wrap;\n",
              "      gap: 12px;\n",
              "    }\n",
              "\n",
              "    .colab-df-convert {\n",
              "      background-color: #E8F0FE;\n",
              "      border: none;\n",
              "      border-radius: 50%;\n",
              "      cursor: pointer;\n",
              "      display: none;\n",
              "      fill: #1967D2;\n",
              "      height: 32px;\n",
              "      padding: 0 0 0 0;\n",
              "      width: 32px;\n",
              "    }\n",
              "\n",
              "    .colab-df-convert:hover {\n",
              "      background-color: #E2EBFA;\n",
              "      box-shadow: 0px 1px 2px rgba(60, 64, 67, 0.3), 0px 1px 3px 1px rgba(60, 64, 67, 0.15);\n",
              "      fill: #174EA6;\n",
              "    }\n",
              "\n",
              "    [theme=dark] .colab-df-convert {\n",
              "      background-color: #3B4455;\n",
              "      fill: #D2E3FC;\n",
              "    }\n",
              "\n",
              "    [theme=dark] .colab-df-convert:hover {\n",
              "      background-color: #434B5C;\n",
              "      box-shadow: 0px 1px 3px 1px rgba(0, 0, 0, 0.15);\n",
              "      filter: drop-shadow(0px 1px 2px rgba(0, 0, 0, 0.3));\n",
              "      fill: #FFFFFF;\n",
              "    }\n",
              "  </style>\n",
              "\n",
              "      <script>\n",
              "        const buttonEl =\n",
              "          document.querySelector('#df-06ad569a-838b-45d1-a97c-2a46e791baf4 button.colab-df-convert');\n",
              "        buttonEl.style.display =\n",
              "          google.colab.kernel.accessAllowed ? 'block' : 'none';\n",
              "\n",
              "        async function convertToInteractive(key) {\n",
              "          const element = document.querySelector('#df-06ad569a-838b-45d1-a97c-2a46e791baf4');\n",
              "          const dataTable =\n",
              "            await google.colab.kernel.invokeFunction('convertToInteractive',\n",
              "                                                     [key], {});\n",
              "          if (!dataTable) return;\n",
              "\n",
              "          const docLinkHtml = 'Like what you see? Visit the ' +\n",
              "            '<a target=\"_blank\" href=https://colab.research.google.com/notebooks/data_table.ipynb>data table notebook</a>'\n",
              "            + ' to learn more about interactive tables.';\n",
              "          element.innerHTML = '';\n",
              "          dataTable['output_type'] = 'display_data';\n",
              "          await google.colab.output.renderOutput(dataTable, element);\n",
              "          const docLink = document.createElement('div');\n",
              "          docLink.innerHTML = docLinkHtml;\n",
              "          element.appendChild(docLink);\n",
              "        }\n",
              "      </script>\n",
              "    </div>\n",
              "  </div>\n",
              "  "
            ]
          },
          "metadata": {},
          "execution_count": 288
        }
      ]
    },
    {
      "cell_type": "markdown",
      "source": [
        "Great, you are making a lot of progress! Let's continue!"
      ],
      "metadata": {
        "id": "_BAAPr8lhkmX"
      },
      "id": "_BAAPr8lhkmX"
    },
    {
      "cell_type": "markdown",
      "id": "99f65a90-261f-4382-ad13-ce9f9c898673",
      "metadata": {
        "id": "99f65a90-261f-4382-ad13-ce9f9c898673"
      },
      "source": [
        "#### Task 5: \\~\\~ Float away ~~\n",
        "\n",
        "[*\\[Related section on CoRise\\]*](https://corise.com/course/python-for-data-science/v2/module/clean-inspect#corise_cl9wmqqgx001x3b6p54g1ka2y)\n",
        "\n",
        "A closer look at the prices in the four columns `price`, `price_per_person`, `minimum_price`, and `service_cost` reveals that they all follow the same pattern:"
      ]
    },
    {
      "cell_type": "code",
      "source": [
        "df_list[[\"price\", \"price_per_person\", \"minimum_price\", 'service_cost']].head(5)"
      ],
      "metadata": {
        "id": "LGZRcYsnyeLD",
        "colab": {
          "base_uri": "https://localhost:8080/",
          "height": 206
        },
        "outputId": "12c8960b-caee-425b-fdfc-af431b443b26"
      },
      "id": "LGZRcYsnyeLD",
      "execution_count": null,
      "outputs": [
        {
          "output_type": "execute_result",
          "data": {
            "text/plain": [
              "     price price_per_person minimum_price service_cost\n",
              "0   $88.00              $44          $176        $4.99\n",
              "1  $105.00            $52.5          $315        $4.99\n",
              "2  $152.00              $38          $304        $4.99\n",
              "3   $87.00            $43.5          $174        $4.99\n",
              "4  $160.00              $40          $320        $4.99"
            ],
            "text/html": [
              "\n",
              "  <div id=\"df-69b938c2-7f17-4b59-9df2-74ddb40cc0f7\">\n",
              "    <div class=\"colab-df-container\">\n",
              "      <div>\n",
              "<style scoped>\n",
              "    .dataframe tbody tr th:only-of-type {\n",
              "        vertical-align: middle;\n",
              "    }\n",
              "\n",
              "    .dataframe tbody tr th {\n",
              "        vertical-align: top;\n",
              "    }\n",
              "\n",
              "    .dataframe thead th {\n",
              "        text-align: right;\n",
              "    }\n",
              "</style>\n",
              "<table border=\"1\" class=\"dataframe\">\n",
              "  <thead>\n",
              "    <tr style=\"text-align: right;\">\n",
              "      <th></th>\n",
              "      <th>price</th>\n",
              "      <th>price_per_person</th>\n",
              "      <th>minimum_price</th>\n",
              "      <th>service_cost</th>\n",
              "    </tr>\n",
              "  </thead>\n",
              "  <tbody>\n",
              "    <tr>\n",
              "      <th>0</th>\n",
              "      <td>$88.00</td>\n",
              "      <td>$44</td>\n",
              "      <td>$176</td>\n",
              "      <td>$4.99</td>\n",
              "    </tr>\n",
              "    <tr>\n",
              "      <th>1</th>\n",
              "      <td>$105.00</td>\n",
              "      <td>$52.5</td>\n",
              "      <td>$315</td>\n",
              "      <td>$4.99</td>\n",
              "    </tr>\n",
              "    <tr>\n",
              "      <th>2</th>\n",
              "      <td>$152.00</td>\n",
              "      <td>$38</td>\n",
              "      <td>$304</td>\n",
              "      <td>$4.99</td>\n",
              "    </tr>\n",
              "    <tr>\n",
              "      <th>3</th>\n",
              "      <td>$87.00</td>\n",
              "      <td>$43.5</td>\n",
              "      <td>$174</td>\n",
              "      <td>$4.99</td>\n",
              "    </tr>\n",
              "    <tr>\n",
              "      <th>4</th>\n",
              "      <td>$160.00</td>\n",
              "      <td>$40</td>\n",
              "      <td>$320</td>\n",
              "      <td>$4.99</td>\n",
              "    </tr>\n",
              "  </tbody>\n",
              "</table>\n",
              "</div>\n",
              "      <button class=\"colab-df-convert\" onclick=\"convertToInteractive('df-69b938c2-7f17-4b59-9df2-74ddb40cc0f7')\"\n",
              "              title=\"Convert this dataframe to an interactive table.\"\n",
              "              style=\"display:none;\">\n",
              "        \n",
              "  <svg xmlns=\"http://www.w3.org/2000/svg\" height=\"24px\"viewBox=\"0 0 24 24\"\n",
              "       width=\"24px\">\n",
              "    <path d=\"M0 0h24v24H0V0z\" fill=\"none\"/>\n",
              "    <path d=\"M18.56 5.44l.94 2.06.94-2.06 2.06-.94-2.06-.94-.94-2.06-.94 2.06-2.06.94zm-11 1L8.5 8.5l.94-2.06 2.06-.94-2.06-.94L8.5 2.5l-.94 2.06-2.06.94zm10 10l.94 2.06.94-2.06 2.06-.94-2.06-.94-.94-2.06-.94 2.06-2.06.94z\"/><path d=\"M17.41 7.96l-1.37-1.37c-.4-.4-.92-.59-1.43-.59-.52 0-1.04.2-1.43.59L10.3 9.45l-7.72 7.72c-.78.78-.78 2.05 0 2.83L4 21.41c.39.39.9.59 1.41.59.51 0 1.02-.2 1.41-.59l7.78-7.78 2.81-2.81c.8-.78.8-2.07 0-2.86zM5.41 20L4 18.59l7.72-7.72 1.47 1.35L5.41 20z\"/>\n",
              "  </svg>\n",
              "      </button>\n",
              "      \n",
              "  <style>\n",
              "    .colab-df-container {\n",
              "      display:flex;\n",
              "      flex-wrap:wrap;\n",
              "      gap: 12px;\n",
              "    }\n",
              "\n",
              "    .colab-df-convert {\n",
              "      background-color: #E8F0FE;\n",
              "      border: none;\n",
              "      border-radius: 50%;\n",
              "      cursor: pointer;\n",
              "      display: none;\n",
              "      fill: #1967D2;\n",
              "      height: 32px;\n",
              "      padding: 0 0 0 0;\n",
              "      width: 32px;\n",
              "    }\n",
              "\n",
              "    .colab-df-convert:hover {\n",
              "      background-color: #E2EBFA;\n",
              "      box-shadow: 0px 1px 2px rgba(60, 64, 67, 0.3), 0px 1px 3px 1px rgba(60, 64, 67, 0.15);\n",
              "      fill: #174EA6;\n",
              "    }\n",
              "\n",
              "    [theme=dark] .colab-df-convert {\n",
              "      background-color: #3B4455;\n",
              "      fill: #D2E3FC;\n",
              "    }\n",
              "\n",
              "    [theme=dark] .colab-df-convert:hover {\n",
              "      background-color: #434B5C;\n",
              "      box-shadow: 0px 1px 3px 1px rgba(0, 0, 0, 0.15);\n",
              "      filter: drop-shadow(0px 1px 2px rgba(0, 0, 0, 0.3));\n",
              "      fill: #FFFFFF;\n",
              "    }\n",
              "  </style>\n",
              "\n",
              "      <script>\n",
              "        const buttonEl =\n",
              "          document.querySelector('#df-69b938c2-7f17-4b59-9df2-74ddb40cc0f7 button.colab-df-convert');\n",
              "        buttonEl.style.display =\n",
              "          google.colab.kernel.accessAllowed ? 'block' : 'none';\n",
              "\n",
              "        async function convertToInteractive(key) {\n",
              "          const element = document.querySelector('#df-69b938c2-7f17-4b59-9df2-74ddb40cc0f7');\n",
              "          const dataTable =\n",
              "            await google.colab.kernel.invokeFunction('convertToInteractive',\n",
              "                                                     [key], {});\n",
              "          if (!dataTable) return;\n",
              "\n",
              "          const docLinkHtml = 'Like what you see? Visit the ' +\n",
              "            '<a target=\"_blank\" href=https://colab.research.google.com/notebooks/data_table.ipynb>data table notebook</a>'\n",
              "            + ' to learn more about interactive tables.';\n",
              "          element.innerHTML = '';\n",
              "          dataTable['output_type'] = 'display_data';\n",
              "          await google.colab.output.renderOutput(dataTable, element);\n",
              "          const docLink = document.createElement('div');\n",
              "          docLink.innerHTML = docLinkHtml;\n",
              "          element.appendChild(docLink);\n",
              "        }\n",
              "      </script>\n",
              "    </div>\n",
              "  </div>\n",
              "  "
            ]
          },
          "metadata": {},
          "execution_count": 289
        }
      ]
    },
    {
      "cell_type": "markdown",
      "source": [
        "All of these four columns have some special characters that you will need to remove before you can change the dtype from object to float.\n",
        "1. Remove dollar signs and commas\n",
        "1. Convert to `float`\n",
        "\n"
      ],
      "metadata": {
        "id": "_s0hBaWfyb5x"
      },
      "id": "_s0hBaWfyb5x"
    },
    {
      "cell_type": "code",
      "source": [
        "df_list[\"price\"]= (df_list[\"price\"].str.replace(\"$\", \"\").str.replace(\",\", \"\").astype(\"float\"))"
      ],
      "metadata": {
        "colab": {
          "base_uri": "https://localhost:8080/"
        },
        "id": "LJ7oIJlhEwrF",
        "outputId": "53e92f3c-2397-4c74-ab95-5a37b8363a6e"
      },
      "id": "LJ7oIJlhEwrF",
      "execution_count": null,
      "outputs": [
        {
          "output_type": "stream",
          "name": "stderr",
          "text": [
            "<ipython-input-290-67ce6c68a242>:1: FutureWarning: The default value of regex will change from True to False in a future version. In addition, single character regular expressions will *not* be treated as literal strings when regex=True.\n",
            "  df_list[\"price\"]= (df_list[\"price\"].str.replace(\"$\", \"\").str.replace(\",\", \"\").astype(\"float\"))\n"
          ]
        }
      ]
    },
    {
      "cell_type": "code",
      "source": [
        "df_list[\"price_per_person\"] = (df_list[\"price_per_person\"].str.replace(\"$\", \"\").str.replace(\",\", \"\").astype(\"float\"))\n",
        "df_list[\"minimum_price\"] = (df_list[\"minimum_price\"].str.replace(\"$\", \"\").str.replace(\",\", \"\").astype(\"float\"))\n",
        "df_list[\"service_cost\"] = (df_list[\"service_cost\"].str.replace(\"$\", \"\").str.replace(\",\", \"\").astype(\"float\"))"
      ],
      "metadata": {
        "id": "MGHiOAZJIniT",
        "colab": {
          "base_uri": "https://localhost:8080/"
        },
        "outputId": "d68c91b6-ef2f-4238-ebc6-f006ada478f2"
      },
      "id": "MGHiOAZJIniT",
      "execution_count": null,
      "outputs": [
        {
          "output_type": "stream",
          "name": "stderr",
          "text": [
            "<ipython-input-291-c52f598bcba1>:1: FutureWarning: The default value of regex will change from True to False in a future version. In addition, single character regular expressions will *not* be treated as literal strings when regex=True.\n",
            "  df_list[\"price_per_person\"] = (df_list[\"price_per_person\"].str.replace(\"$\", \"\").str.replace(\",\", \"\").astype(\"float\"))\n",
            "<ipython-input-291-c52f598bcba1>:2: FutureWarning: The default value of regex will change from True to False in a future version. In addition, single character regular expressions will *not* be treated as literal strings when regex=True.\n",
            "  df_list[\"minimum_price\"] = (df_list[\"minimum_price\"].str.replace(\"$\", \"\").str.replace(\",\", \"\").astype(\"float\"))\n",
            "<ipython-input-291-c52f598bcba1>:3: FutureWarning: The default value of regex will change from True to False in a future version. In addition, single character regular expressions will *not* be treated as literal strings when regex=True.\n",
            "  df_list[\"service_cost\"] = (df_list[\"service_cost\"].str.replace(\"$\", \"\").str.replace(\",\", \"\").astype(\"float\"))\n"
          ]
        }
      ]
    },
    {
      "cell_type": "markdown",
      "source": [
        "Let's inspect the different price columns again and see what it look like, expected output should look like the table below.\n",
        "\n",
        "|index|price|price\\_per\\_person|minimum\\_price|service\\_cost|\n",
        "|---|---|---|---|---|\n",
        "|0|88\\.0|44\\.0|176\\.0|4\\.99|\n",
        "|1|105\\.0|52\\.5|315\\.0|4\\.99|\n",
        "|2|152\\.0|38\\.0|304\\.0|4\\.99|\n",
        "|3|87\\.0|43\\.5|174\\.0|4\\.99|\n",
        "|4|160\\.0|40\\.0|320\\.0|4\\.99|"
      ],
      "metadata": {
        "id": "43No39UKyAV2"
      },
      "id": "43No39UKyAV2"
    },
    {
      "cell_type": "code",
      "source": [
        "df_list[[\"price\", \"price_per_person\", \"minimum_price\", 'service_cost']].head(5)"
      ],
      "metadata": {
        "id": "7U8IryrlIvBh",
        "colab": {
          "base_uri": "https://localhost:8080/",
          "height": 206
        },
        "outputId": "66643962-e7b0-4391-d3ca-73b3caab0c2f"
      },
      "id": "7U8IryrlIvBh",
      "execution_count": null,
      "outputs": [
        {
          "output_type": "execute_result",
          "data": {
            "text/plain": [
              "   price  price_per_person  minimum_price  service_cost\n",
              "0  88.00             44.00         176.00          4.99\n",
              "1 105.00             52.50         315.00          4.99\n",
              "2 152.00             38.00         304.00          4.99\n",
              "3  87.00             43.50         174.00          4.99\n",
              "4 160.00             40.00         320.00          4.99"
            ],
            "text/html": [
              "\n",
              "  <div id=\"df-899a7886-f090-4350-b2da-2d9e70b7c3c9\">\n",
              "    <div class=\"colab-df-container\">\n",
              "      <div>\n",
              "<style scoped>\n",
              "    .dataframe tbody tr th:only-of-type {\n",
              "        vertical-align: middle;\n",
              "    }\n",
              "\n",
              "    .dataframe tbody tr th {\n",
              "        vertical-align: top;\n",
              "    }\n",
              "\n",
              "    .dataframe thead th {\n",
              "        text-align: right;\n",
              "    }\n",
              "</style>\n",
              "<table border=\"1\" class=\"dataframe\">\n",
              "  <thead>\n",
              "    <tr style=\"text-align: right;\">\n",
              "      <th></th>\n",
              "      <th>price</th>\n",
              "      <th>price_per_person</th>\n",
              "      <th>minimum_price</th>\n",
              "      <th>service_cost</th>\n",
              "    </tr>\n",
              "  </thead>\n",
              "  <tbody>\n",
              "    <tr>\n",
              "      <th>0</th>\n",
              "      <td>88.00</td>\n",
              "      <td>44.00</td>\n",
              "      <td>176.00</td>\n",
              "      <td>4.99</td>\n",
              "    </tr>\n",
              "    <tr>\n",
              "      <th>1</th>\n",
              "      <td>105.00</td>\n",
              "      <td>52.50</td>\n",
              "      <td>315.00</td>\n",
              "      <td>4.99</td>\n",
              "    </tr>\n",
              "    <tr>\n",
              "      <th>2</th>\n",
              "      <td>152.00</td>\n",
              "      <td>38.00</td>\n",
              "      <td>304.00</td>\n",
              "      <td>4.99</td>\n",
              "    </tr>\n",
              "    <tr>\n",
              "      <th>3</th>\n",
              "      <td>87.00</td>\n",
              "      <td>43.50</td>\n",
              "      <td>174.00</td>\n",
              "      <td>4.99</td>\n",
              "    </tr>\n",
              "    <tr>\n",
              "      <th>4</th>\n",
              "      <td>160.00</td>\n",
              "      <td>40.00</td>\n",
              "      <td>320.00</td>\n",
              "      <td>4.99</td>\n",
              "    </tr>\n",
              "  </tbody>\n",
              "</table>\n",
              "</div>\n",
              "      <button class=\"colab-df-convert\" onclick=\"convertToInteractive('df-899a7886-f090-4350-b2da-2d9e70b7c3c9')\"\n",
              "              title=\"Convert this dataframe to an interactive table.\"\n",
              "              style=\"display:none;\">\n",
              "        \n",
              "  <svg xmlns=\"http://www.w3.org/2000/svg\" height=\"24px\"viewBox=\"0 0 24 24\"\n",
              "       width=\"24px\">\n",
              "    <path d=\"M0 0h24v24H0V0z\" fill=\"none\"/>\n",
              "    <path d=\"M18.56 5.44l.94 2.06.94-2.06 2.06-.94-2.06-.94-.94-2.06-.94 2.06-2.06.94zm-11 1L8.5 8.5l.94-2.06 2.06-.94-2.06-.94L8.5 2.5l-.94 2.06-2.06.94zm10 10l.94 2.06.94-2.06 2.06-.94-2.06-.94-.94-2.06-.94 2.06-2.06.94z\"/><path d=\"M17.41 7.96l-1.37-1.37c-.4-.4-.92-.59-1.43-.59-.52 0-1.04.2-1.43.59L10.3 9.45l-7.72 7.72c-.78.78-.78 2.05 0 2.83L4 21.41c.39.39.9.59 1.41.59.51 0 1.02-.2 1.41-.59l7.78-7.78 2.81-2.81c.8-.78.8-2.07 0-2.86zM5.41 20L4 18.59l7.72-7.72 1.47 1.35L5.41 20z\"/>\n",
              "  </svg>\n",
              "      </button>\n",
              "      \n",
              "  <style>\n",
              "    .colab-df-container {\n",
              "      display:flex;\n",
              "      flex-wrap:wrap;\n",
              "      gap: 12px;\n",
              "    }\n",
              "\n",
              "    .colab-df-convert {\n",
              "      background-color: #E8F0FE;\n",
              "      border: none;\n",
              "      border-radius: 50%;\n",
              "      cursor: pointer;\n",
              "      display: none;\n",
              "      fill: #1967D2;\n",
              "      height: 32px;\n",
              "      padding: 0 0 0 0;\n",
              "      width: 32px;\n",
              "    }\n",
              "\n",
              "    .colab-df-convert:hover {\n",
              "      background-color: #E2EBFA;\n",
              "      box-shadow: 0px 1px 2px rgba(60, 64, 67, 0.3), 0px 1px 3px 1px rgba(60, 64, 67, 0.15);\n",
              "      fill: #174EA6;\n",
              "    }\n",
              "\n",
              "    [theme=dark] .colab-df-convert {\n",
              "      background-color: #3B4455;\n",
              "      fill: #D2E3FC;\n",
              "    }\n",
              "\n",
              "    [theme=dark] .colab-df-convert:hover {\n",
              "      background-color: #434B5C;\n",
              "      box-shadow: 0px 1px 3px 1px rgba(0, 0, 0, 0.15);\n",
              "      filter: drop-shadow(0px 1px 2px rgba(0, 0, 0, 0.3));\n",
              "      fill: #FFFFFF;\n",
              "    }\n",
              "  </style>\n",
              "\n",
              "      <script>\n",
              "        const buttonEl =\n",
              "          document.querySelector('#df-899a7886-f090-4350-b2da-2d9e70b7c3c9 button.colab-df-convert');\n",
              "        buttonEl.style.display =\n",
              "          google.colab.kernel.accessAllowed ? 'block' : 'none';\n",
              "\n",
              "        async function convertToInteractive(key) {\n",
              "          const element = document.querySelector('#df-899a7886-f090-4350-b2da-2d9e70b7c3c9');\n",
              "          const dataTable =\n",
              "            await google.colab.kernel.invokeFunction('convertToInteractive',\n",
              "                                                     [key], {});\n",
              "          if (!dataTable) return;\n",
              "\n",
              "          const docLinkHtml = 'Like what you see? Visit the ' +\n",
              "            '<a target=\"_blank\" href=https://colab.research.google.com/notebooks/data_table.ipynb>data table notebook</a>'\n",
              "            + ' to learn more about interactive tables.';\n",
              "          element.innerHTML = '';\n",
              "          dataTable['output_type'] = 'display_data';\n",
              "          await google.colab.output.renderOutput(dataTable, element);\n",
              "          const docLink = document.createElement('div');\n",
              "          docLink.innerHTML = docLinkHtml;\n",
              "          element.appendChild(docLink);\n",
              "        }\n",
              "      </script>\n",
              "    </div>\n",
              "  </div>\n",
              "  "
            ]
          },
          "metadata": {},
          "execution_count": 292
        }
      ]
    },
    {
      "cell_type": "markdown",
      "source": [
        "#### Task 6: Columns with other names\n",
        "\n",
        "[*\\[Related section on CoRise\\]*](https://corise.com/course/python-for-data-science/v2/module/clean-inspect#corise_cl9wmxdm800313b6p8z422k7r)\n",
        "\n",
        "The following column names need to be changed:\n",
        "- `price` into `price_in_dollar`\n",
        "- `neighbourhood_cleansed` into `neighbourhood`  \n",
        "\n",
        "Please finish the code below."
      ],
      "metadata": {
        "id": "cN3B8ZTg0Dvz"
      },
      "id": "cN3B8ZTg0Dvz"
    },
    {
      "cell_type": "code",
      "source": [
        "df_list = df_list.rename(columns = {\"price\":\"price_in_dollar\", \"neighbourhood_cleansed\":\"neighbourhood\"})"
      ],
      "metadata": {
        "id": "silFcFrGI0gB"
      },
      "id": "silFcFrGI0gB",
      "execution_count": null,
      "outputs": []
    },
    {
      "cell_type": "code",
      "source": [
        "df_list.head(3)"
      ],
      "metadata": {
        "colab": {
          "base_uri": "https://localhost:8080/",
          "height": 259
        },
        "id": "NwjFoip-Gnbe",
        "outputId": "0ae46ef0-531d-4ab6-c37d-50af687371f7"
      },
      "id": "NwjFoip-Gnbe",
      "execution_count": null,
      "outputs": [
        {
          "output_type": "execute_result",
          "data": {
            "text/plain": [
              "         id  host_acceptance_rate  host_is_superhost  host_listings_count  \\\n",
              "0  23726706                  0.95              False                    1   \n",
              "1  35815036                  1.00               True                    1   \n",
              "2  31553121                  1.00              False                    1   \n",
              "\n",
              "   host_total_listings_count             neighbourhood  latitude  longitude  \\\n",
              "0                          1  IJburg - Zeeburgereiland     52.35       4.98   \n",
              "1                          1                Noord-Oost     52.42       4.96   \n",
              "2                          1                Noord-West     52.43       4.92   \n",
              "\n",
              "         room_type  accommodates  bedrooms  beds  amenities  price_in_dollar  \\\n",
              "0     Private room             2      1.00  1.00          6            88.00   \n",
              "1  Entire home/apt             2       NaN  1.00          5           105.00   \n",
              "2  Entire home/apt             4      1.00  3.00          3           152.00   \n",
              "\n",
              "   minimum_nights  maximum_nights  has_availability  availability_30  \\\n",
              "0               2              14              True                0   \n",
              "1               3             100              True                4   \n",
              "2               2              60              True                0   \n",
              "\n",
              "   availability_60  availability_90  availability_365  number_of_reviews  \\\n",
              "0                6               20                66                 78   \n",
              "1                6               12               243                 95   \n",
              "2                3                3                 3                 82   \n",
              "\n",
              "   number_of_reviews_ltm  number_of_reviews_l30d  review_scores_rating  \\\n",
              "0                     11                       3                  4.99   \n",
              "1                     36                       6                  4.96   \n",
              "2                     26                       1                  4.74   \n",
              "\n",
              "   instant_bookable  reviews_per_month price_in_euros  price_per_person  \\\n",
              "0              True               1.53           None             44.00   \n",
              "1             False               2.65           None             52.50   \n",
              "2             False               2.02           None             38.00   \n",
              "\n",
              "   minimum_price  discount_per_5_days_booked  discount_per_10_days_booked  \\\n",
              "0         176.00                        0.05                         0.11   \n",
              "1         315.00                        0.05                         0.12   \n",
              "2         304.00                        0.07                         0.11   \n",
              "\n",
              "   discount_per_30_and_more_days_booked  service_cost  \n",
              "0                                  0.16          4.99  \n",
              "1                                  0.16          4.99  \n",
              "2                                  0.22          4.99  "
            ],
            "text/html": [
              "\n",
              "  <div id=\"df-90130259-3e8e-453c-9d61-aa7509f2e5a8\">\n",
              "    <div class=\"colab-df-container\">\n",
              "      <div>\n",
              "<style scoped>\n",
              "    .dataframe tbody tr th:only-of-type {\n",
              "        vertical-align: middle;\n",
              "    }\n",
              "\n",
              "    .dataframe tbody tr th {\n",
              "        vertical-align: top;\n",
              "    }\n",
              "\n",
              "    .dataframe thead th {\n",
              "        text-align: right;\n",
              "    }\n",
              "</style>\n",
              "<table border=\"1\" class=\"dataframe\">\n",
              "  <thead>\n",
              "    <tr style=\"text-align: right;\">\n",
              "      <th></th>\n",
              "      <th>id</th>\n",
              "      <th>host_acceptance_rate</th>\n",
              "      <th>host_is_superhost</th>\n",
              "      <th>host_listings_count</th>\n",
              "      <th>host_total_listings_count</th>\n",
              "      <th>neighbourhood</th>\n",
              "      <th>latitude</th>\n",
              "      <th>longitude</th>\n",
              "      <th>room_type</th>\n",
              "      <th>accommodates</th>\n",
              "      <th>bedrooms</th>\n",
              "      <th>beds</th>\n",
              "      <th>amenities</th>\n",
              "      <th>price_in_dollar</th>\n",
              "      <th>minimum_nights</th>\n",
              "      <th>maximum_nights</th>\n",
              "      <th>has_availability</th>\n",
              "      <th>availability_30</th>\n",
              "      <th>availability_60</th>\n",
              "      <th>availability_90</th>\n",
              "      <th>availability_365</th>\n",
              "      <th>number_of_reviews</th>\n",
              "      <th>number_of_reviews_ltm</th>\n",
              "      <th>number_of_reviews_l30d</th>\n",
              "      <th>review_scores_rating</th>\n",
              "      <th>instant_bookable</th>\n",
              "      <th>reviews_per_month</th>\n",
              "      <th>price_in_euros</th>\n",
              "      <th>price_per_person</th>\n",
              "      <th>minimum_price</th>\n",
              "      <th>discount_per_5_days_booked</th>\n",
              "      <th>discount_per_10_days_booked</th>\n",
              "      <th>discount_per_30_and_more_days_booked</th>\n",
              "      <th>service_cost</th>\n",
              "    </tr>\n",
              "  </thead>\n",
              "  <tbody>\n",
              "    <tr>\n",
              "      <th>0</th>\n",
              "      <td>23726706</td>\n",
              "      <td>0.95</td>\n",
              "      <td>False</td>\n",
              "      <td>1</td>\n",
              "      <td>1</td>\n",
              "      <td>IJburg - Zeeburgereiland</td>\n",
              "      <td>52.35</td>\n",
              "      <td>4.98</td>\n",
              "      <td>Private room</td>\n",
              "      <td>2</td>\n",
              "      <td>1.00</td>\n",
              "      <td>1.00</td>\n",
              "      <td>6</td>\n",
              "      <td>88.00</td>\n",
              "      <td>2</td>\n",
              "      <td>14</td>\n",
              "      <td>True</td>\n",
              "      <td>0</td>\n",
              "      <td>6</td>\n",
              "      <td>20</td>\n",
              "      <td>66</td>\n",
              "      <td>78</td>\n",
              "      <td>11</td>\n",
              "      <td>3</td>\n",
              "      <td>4.99</td>\n",
              "      <td>True</td>\n",
              "      <td>1.53</td>\n",
              "      <td>None</td>\n",
              "      <td>44.00</td>\n",
              "      <td>176.00</td>\n",
              "      <td>0.05</td>\n",
              "      <td>0.11</td>\n",
              "      <td>0.16</td>\n",
              "      <td>4.99</td>\n",
              "    </tr>\n",
              "    <tr>\n",
              "      <th>1</th>\n",
              "      <td>35815036</td>\n",
              "      <td>1.00</td>\n",
              "      <td>True</td>\n",
              "      <td>1</td>\n",
              "      <td>1</td>\n",
              "      <td>Noord-Oost</td>\n",
              "      <td>52.42</td>\n",
              "      <td>4.96</td>\n",
              "      <td>Entire home/apt</td>\n",
              "      <td>2</td>\n",
              "      <td>NaN</td>\n",
              "      <td>1.00</td>\n",
              "      <td>5</td>\n",
              "      <td>105.00</td>\n",
              "      <td>3</td>\n",
              "      <td>100</td>\n",
              "      <td>True</td>\n",
              "      <td>4</td>\n",
              "      <td>6</td>\n",
              "      <td>12</td>\n",
              "      <td>243</td>\n",
              "      <td>95</td>\n",
              "      <td>36</td>\n",
              "      <td>6</td>\n",
              "      <td>4.96</td>\n",
              "      <td>False</td>\n",
              "      <td>2.65</td>\n",
              "      <td>None</td>\n",
              "      <td>52.50</td>\n",
              "      <td>315.00</td>\n",
              "      <td>0.05</td>\n",
              "      <td>0.12</td>\n",
              "      <td>0.16</td>\n",
              "      <td>4.99</td>\n",
              "    </tr>\n",
              "    <tr>\n",
              "      <th>2</th>\n",
              "      <td>31553121</td>\n",
              "      <td>1.00</td>\n",
              "      <td>False</td>\n",
              "      <td>1</td>\n",
              "      <td>1</td>\n",
              "      <td>Noord-West</td>\n",
              "      <td>52.43</td>\n",
              "      <td>4.92</td>\n",
              "      <td>Entire home/apt</td>\n",
              "      <td>4</td>\n",
              "      <td>1.00</td>\n",
              "      <td>3.00</td>\n",
              "      <td>3</td>\n",
              "      <td>152.00</td>\n",
              "      <td>2</td>\n",
              "      <td>60</td>\n",
              "      <td>True</td>\n",
              "      <td>0</td>\n",
              "      <td>3</td>\n",
              "      <td>3</td>\n",
              "      <td>3</td>\n",
              "      <td>82</td>\n",
              "      <td>26</td>\n",
              "      <td>1</td>\n",
              "      <td>4.74</td>\n",
              "      <td>False</td>\n",
              "      <td>2.02</td>\n",
              "      <td>None</td>\n",
              "      <td>38.00</td>\n",
              "      <td>304.00</td>\n",
              "      <td>0.07</td>\n",
              "      <td>0.11</td>\n",
              "      <td>0.22</td>\n",
              "      <td>4.99</td>\n",
              "    </tr>\n",
              "  </tbody>\n",
              "</table>\n",
              "</div>\n",
              "      <button class=\"colab-df-convert\" onclick=\"convertToInteractive('df-90130259-3e8e-453c-9d61-aa7509f2e5a8')\"\n",
              "              title=\"Convert this dataframe to an interactive table.\"\n",
              "              style=\"display:none;\">\n",
              "        \n",
              "  <svg xmlns=\"http://www.w3.org/2000/svg\" height=\"24px\"viewBox=\"0 0 24 24\"\n",
              "       width=\"24px\">\n",
              "    <path d=\"M0 0h24v24H0V0z\" fill=\"none\"/>\n",
              "    <path d=\"M18.56 5.44l.94 2.06.94-2.06 2.06-.94-2.06-.94-.94-2.06-.94 2.06-2.06.94zm-11 1L8.5 8.5l.94-2.06 2.06-.94-2.06-.94L8.5 2.5l-.94 2.06-2.06.94zm10 10l.94 2.06.94-2.06 2.06-.94-2.06-.94-.94-2.06-.94 2.06-2.06.94z\"/><path d=\"M17.41 7.96l-1.37-1.37c-.4-.4-.92-.59-1.43-.59-.52 0-1.04.2-1.43.59L10.3 9.45l-7.72 7.72c-.78.78-.78 2.05 0 2.83L4 21.41c.39.39.9.59 1.41.59.51 0 1.02-.2 1.41-.59l7.78-7.78 2.81-2.81c.8-.78.8-2.07 0-2.86zM5.41 20L4 18.59l7.72-7.72 1.47 1.35L5.41 20z\"/>\n",
              "  </svg>\n",
              "      </button>\n",
              "      \n",
              "  <style>\n",
              "    .colab-df-container {\n",
              "      display:flex;\n",
              "      flex-wrap:wrap;\n",
              "      gap: 12px;\n",
              "    }\n",
              "\n",
              "    .colab-df-convert {\n",
              "      background-color: #E8F0FE;\n",
              "      border: none;\n",
              "      border-radius: 50%;\n",
              "      cursor: pointer;\n",
              "      display: none;\n",
              "      fill: #1967D2;\n",
              "      height: 32px;\n",
              "      padding: 0 0 0 0;\n",
              "      width: 32px;\n",
              "    }\n",
              "\n",
              "    .colab-df-convert:hover {\n",
              "      background-color: #E2EBFA;\n",
              "      box-shadow: 0px 1px 2px rgba(60, 64, 67, 0.3), 0px 1px 3px 1px rgba(60, 64, 67, 0.15);\n",
              "      fill: #174EA6;\n",
              "    }\n",
              "\n",
              "    [theme=dark] .colab-df-convert {\n",
              "      background-color: #3B4455;\n",
              "      fill: #D2E3FC;\n",
              "    }\n",
              "\n",
              "    [theme=dark] .colab-df-convert:hover {\n",
              "      background-color: #434B5C;\n",
              "      box-shadow: 0px 1px 3px 1px rgba(0, 0, 0, 0.15);\n",
              "      filter: drop-shadow(0px 1px 2px rgba(0, 0, 0, 0.3));\n",
              "      fill: #FFFFFF;\n",
              "    }\n",
              "  </style>\n",
              "\n",
              "      <script>\n",
              "        const buttonEl =\n",
              "          document.querySelector('#df-90130259-3e8e-453c-9d61-aa7509f2e5a8 button.colab-df-convert');\n",
              "        buttonEl.style.display =\n",
              "          google.colab.kernel.accessAllowed ? 'block' : 'none';\n",
              "\n",
              "        async function convertToInteractive(key) {\n",
              "          const element = document.querySelector('#df-90130259-3e8e-453c-9d61-aa7509f2e5a8');\n",
              "          const dataTable =\n",
              "            await google.colab.kernel.invokeFunction('convertToInteractive',\n",
              "                                                     [key], {});\n",
              "          if (!dataTable) return;\n",
              "\n",
              "          const docLinkHtml = 'Like what you see? Visit the ' +\n",
              "            '<a target=\"_blank\" href=https://colab.research.google.com/notebooks/data_table.ipynb>data table notebook</a>'\n",
              "            + ' to learn more about interactive tables.';\n",
              "          element.innerHTML = '';\n",
              "          dataTable['output_type'] = 'display_data';\n",
              "          await google.colab.output.renderOutput(dataTable, element);\n",
              "          const docLink = document.createElement('div');\n",
              "          docLink.innerHTML = docLinkHtml;\n",
              "          element.appendChild(docLink);\n",
              "        }\n",
              "      </script>\n",
              "    </div>\n",
              "  </div>\n",
              "  "
            ]
          },
          "metadata": {},
          "execution_count": 294
        }
      ]
    },
    {
      "cell_type": "markdown",
      "id": "2edb088a-619b-470b-b1fd-d9f848e91b03",
      "metadata": {
        "id": "2edb088a-619b-470b-b1fd-d9f848e91b03"
      },
      "source": [
        "#### Task 7: Categories aren't objects\n",
        "\n",
        "[*\\[Related section on CoRise\\]*](https://corise.com/course/python-for-data-science/v2/module/clean-inspect#corise_cl9wn60iu003i3b6p65ww9p38)\n",
        "\n"
      ]
    },
    {
      "cell_type": "markdown",
      "source": [
        "Taking a closer look at the `neighbourhood` and `room_type` columns reveals that these columns are assigned an **object** dtype. We want them to be a **category** dtype. Please set the correct data type below."
      ],
      "metadata": {
        "id": "FfzOT7_N02j8"
      },
      "id": "FfzOT7_N02j8"
    },
    {
      "cell_type": "code",
      "source": [
        "df_list = df_list.astype({\"neighbourhood\":'category', \"room_type\":'category'})"
      ],
      "metadata": {
        "id": "KmrVlXc6JITM"
      },
      "id": "KmrVlXc6JITM",
      "execution_count": null,
      "outputs": []
    },
    {
      "cell_type": "code",
      "source": [
        "df_list.dtypes"
      ],
      "metadata": {
        "colab": {
          "base_uri": "https://localhost:8080/"
        },
        "id": "YmANQpO8KKI6",
        "outputId": "31c67fc3-5af4-49d1-d72b-9f1db6e811da"
      },
      "id": "YmANQpO8KKI6",
      "execution_count": null,
      "outputs": [
        {
          "output_type": "execute_result",
          "data": {
            "text/plain": [
              "id                                         int64\n",
              "host_acceptance_rate                     float64\n",
              "host_is_superhost                           bool\n",
              "neighbourhood                           category\n",
              "latitude                                 float64\n",
              "longitude                                float64\n",
              "room_type                               category\n",
              "accommodates                               int64\n",
              "bedrooms                                 float64\n",
              "beds                                     float64\n",
              "amenities                                  int64\n",
              "price_in_dollar                          float64\n",
              "minimum_nights                             int64\n",
              "maximum_nights                             int64\n",
              "has_availability                            bool\n",
              "availability_30                            int64\n",
              "number_of_reviews_l30d                     int64\n",
              "review_scores_rating                     float64\n",
              "instant_bookable                            bool\n",
              "price_in_euros                            object\n",
              "price_per_person                         float64\n",
              "minimum_price                            float64\n",
              "discount_per_5_days_booked               float64\n",
              "discount_per_10_days_booked               object\n",
              "discount_per_30_and_more_days_booked      object\n",
              "service_cost                             float64\n",
              "dtype: object"
            ]
          },
          "metadata": {},
          "execution_count": 57
        }
      ]
    },
    {
      "cell_type": "markdown",
      "id": "cc90e78d-99ca-45b9-af83-523ee7d5d316",
      "metadata": {
        "id": "cc90e78d-99ca-45b9-af83-523ee7d5d316"
      },
      "source": [
        "We've made quite a few changes 👌, but we're not done yet! Next we need to delete any columns in the DataFrame that we won't use in our analysis. "
      ]
    },
    {
      "cell_type": "markdown",
      "id": "39f08964-e685-4e65-81da-d6fadbddfbd1",
      "metadata": {
        "id": "39f08964-e685-4e65-81da-d6fadbddfbd1"
      },
      "source": [
        "#### Task 8: Delete irrelevant columns\n",
        "\n",
        "[*\\[Related section on CoRise\\]*](https://corise.com/course/python-for-data-science/v2/module/clean-inspect#corise_cl9wo15ct005h3b6pbbez3a3u)\n",
        "\n",
        "It might seem intuitive that more data is always better. But that's not always the case. Often in data science you want *just* the right amount of data — nothing more, nothing less.\n",
        "\n",
        "We need to delete some columns that are irrelevant to our current use case. Those irrelevant columns are:\n",
        "* `host_listings_count`\n",
        "* `host_total_listings_count`\n",
        "* `availability_60`\n",
        "* `availability_90`\n",
        "* `availability_365`\n",
        "* `number_of_reviews`\n",
        "* `number_of_reviews_ltm`\n",
        "* `reviews_per_month`"
      ]
    },
    {
      "cell_type": "code",
      "source": [
        "df_list = df_list.drop(columns = [\"host_listings_count\", \"host_total_listings_count\", \"availability_60\",\n",
        "                                  \"availability_90\", \"availability_365\", \"number_of_reviews\", \"number_of_reviews_ltm\",\n",
        "                                  \"reviews_per_month\"])\n",
        "df_list.head(1)"
      ],
      "metadata": {
        "id": "ljXUO3JNJUxm",
        "colab": {
          "base_uri": "https://localhost:8080/",
          "height": 162
        },
        "outputId": "b3f5eb9e-83de-4566-c342-0d6860403e57"
      },
      "id": "ljXUO3JNJUxm",
      "execution_count": null,
      "outputs": [
        {
          "output_type": "execute_result",
          "data": {
            "text/plain": [
              "         id  host_acceptance_rate  host_is_superhost  \\\n",
              "0  23726706                  0.95              False   \n",
              "\n",
              "              neighbourhood  latitude  longitude     room_type  accommodates  \\\n",
              "0  IJburg - Zeeburgereiland     52.35       4.98  Private room             2   \n",
              "\n",
              "   bedrooms  beds  amenities  price_in_dollar  minimum_nights  maximum_nights  \\\n",
              "0      1.00  1.00          6            88.00               2              14   \n",
              "\n",
              "   has_availability  availability_30  number_of_reviews_l30d  \\\n",
              "0              True                0                       3   \n",
              "\n",
              "   review_scores_rating  instant_bookable price_in_euros  price_per_person  \\\n",
              "0                  4.99              True           None             44.00   \n",
              "\n",
              "   minimum_price  discount_per_5_days_booked  discount_per_10_days_booked  \\\n",
              "0         176.00                        0.05                         0.11   \n",
              "\n",
              "   discount_per_30_and_more_days_booked  service_cost  \n",
              "0                                  0.16          4.99  "
            ],
            "text/html": [
              "\n",
              "  <div id=\"df-0562c1d7-7a47-4030-a228-f6db538d6be2\">\n",
              "    <div class=\"colab-df-container\">\n",
              "      <div>\n",
              "<style scoped>\n",
              "    .dataframe tbody tr th:only-of-type {\n",
              "        vertical-align: middle;\n",
              "    }\n",
              "\n",
              "    .dataframe tbody tr th {\n",
              "        vertical-align: top;\n",
              "    }\n",
              "\n",
              "    .dataframe thead th {\n",
              "        text-align: right;\n",
              "    }\n",
              "</style>\n",
              "<table border=\"1\" class=\"dataframe\">\n",
              "  <thead>\n",
              "    <tr style=\"text-align: right;\">\n",
              "      <th></th>\n",
              "      <th>id</th>\n",
              "      <th>host_acceptance_rate</th>\n",
              "      <th>host_is_superhost</th>\n",
              "      <th>neighbourhood</th>\n",
              "      <th>latitude</th>\n",
              "      <th>longitude</th>\n",
              "      <th>room_type</th>\n",
              "      <th>accommodates</th>\n",
              "      <th>bedrooms</th>\n",
              "      <th>beds</th>\n",
              "      <th>amenities</th>\n",
              "      <th>price_in_dollar</th>\n",
              "      <th>minimum_nights</th>\n",
              "      <th>maximum_nights</th>\n",
              "      <th>has_availability</th>\n",
              "      <th>availability_30</th>\n",
              "      <th>number_of_reviews_l30d</th>\n",
              "      <th>review_scores_rating</th>\n",
              "      <th>instant_bookable</th>\n",
              "      <th>price_in_euros</th>\n",
              "      <th>price_per_person</th>\n",
              "      <th>minimum_price</th>\n",
              "      <th>discount_per_5_days_booked</th>\n",
              "      <th>discount_per_10_days_booked</th>\n",
              "      <th>discount_per_30_and_more_days_booked</th>\n",
              "      <th>service_cost</th>\n",
              "    </tr>\n",
              "  </thead>\n",
              "  <tbody>\n",
              "    <tr>\n",
              "      <th>0</th>\n",
              "      <td>23726706</td>\n",
              "      <td>0.95</td>\n",
              "      <td>False</td>\n",
              "      <td>IJburg - Zeeburgereiland</td>\n",
              "      <td>52.35</td>\n",
              "      <td>4.98</td>\n",
              "      <td>Private room</td>\n",
              "      <td>2</td>\n",
              "      <td>1.00</td>\n",
              "      <td>1.00</td>\n",
              "      <td>6</td>\n",
              "      <td>88.00</td>\n",
              "      <td>2</td>\n",
              "      <td>14</td>\n",
              "      <td>True</td>\n",
              "      <td>0</td>\n",
              "      <td>3</td>\n",
              "      <td>4.99</td>\n",
              "      <td>True</td>\n",
              "      <td>None</td>\n",
              "      <td>44.00</td>\n",
              "      <td>176.00</td>\n",
              "      <td>0.05</td>\n",
              "      <td>0.11</td>\n",
              "      <td>0.16</td>\n",
              "      <td>4.99</td>\n",
              "    </tr>\n",
              "  </tbody>\n",
              "</table>\n",
              "</div>\n",
              "      <button class=\"colab-df-convert\" onclick=\"convertToInteractive('df-0562c1d7-7a47-4030-a228-f6db538d6be2')\"\n",
              "              title=\"Convert this dataframe to an interactive table.\"\n",
              "              style=\"display:none;\">\n",
              "        \n",
              "  <svg xmlns=\"http://www.w3.org/2000/svg\" height=\"24px\"viewBox=\"0 0 24 24\"\n",
              "       width=\"24px\">\n",
              "    <path d=\"M0 0h24v24H0V0z\" fill=\"none\"/>\n",
              "    <path d=\"M18.56 5.44l.94 2.06.94-2.06 2.06-.94-2.06-.94-.94-2.06-.94 2.06-2.06.94zm-11 1L8.5 8.5l.94-2.06 2.06-.94-2.06-.94L8.5 2.5l-.94 2.06-2.06.94zm10 10l.94 2.06.94-2.06 2.06-.94-2.06-.94-.94-2.06-.94 2.06-2.06.94z\"/><path d=\"M17.41 7.96l-1.37-1.37c-.4-.4-.92-.59-1.43-.59-.52 0-1.04.2-1.43.59L10.3 9.45l-7.72 7.72c-.78.78-.78 2.05 0 2.83L4 21.41c.39.39.9.59 1.41.59.51 0 1.02-.2 1.41-.59l7.78-7.78 2.81-2.81c.8-.78.8-2.07 0-2.86zM5.41 20L4 18.59l7.72-7.72 1.47 1.35L5.41 20z\"/>\n",
              "  </svg>\n",
              "      </button>\n",
              "      \n",
              "  <style>\n",
              "    .colab-df-container {\n",
              "      display:flex;\n",
              "      flex-wrap:wrap;\n",
              "      gap: 12px;\n",
              "    }\n",
              "\n",
              "    .colab-df-convert {\n",
              "      background-color: #E8F0FE;\n",
              "      border: none;\n",
              "      border-radius: 50%;\n",
              "      cursor: pointer;\n",
              "      display: none;\n",
              "      fill: #1967D2;\n",
              "      height: 32px;\n",
              "      padding: 0 0 0 0;\n",
              "      width: 32px;\n",
              "    }\n",
              "\n",
              "    .colab-df-convert:hover {\n",
              "      background-color: #E2EBFA;\n",
              "      box-shadow: 0px 1px 2px rgba(60, 64, 67, 0.3), 0px 1px 3px 1px rgba(60, 64, 67, 0.15);\n",
              "      fill: #174EA6;\n",
              "    }\n",
              "\n",
              "    [theme=dark] .colab-df-convert {\n",
              "      background-color: #3B4455;\n",
              "      fill: #D2E3FC;\n",
              "    }\n",
              "\n",
              "    [theme=dark] .colab-df-convert:hover {\n",
              "      background-color: #434B5C;\n",
              "      box-shadow: 0px 1px 3px 1px rgba(0, 0, 0, 0.15);\n",
              "      filter: drop-shadow(0px 1px 2px rgba(0, 0, 0, 0.3));\n",
              "      fill: #FFFFFF;\n",
              "    }\n",
              "  </style>\n",
              "\n",
              "      <script>\n",
              "        const buttonEl =\n",
              "          document.querySelector('#df-0562c1d7-7a47-4030-a228-f6db538d6be2 button.colab-df-convert');\n",
              "        buttonEl.style.display =\n",
              "          google.colab.kernel.accessAllowed ? 'block' : 'none';\n",
              "\n",
              "        async function convertToInteractive(key) {\n",
              "          const element = document.querySelector('#df-0562c1d7-7a47-4030-a228-f6db538d6be2');\n",
              "          const dataTable =\n",
              "            await google.colab.kernel.invokeFunction('convertToInteractive',\n",
              "                                                     [key], {});\n",
              "          if (!dataTable) return;\n",
              "\n",
              "          const docLinkHtml = 'Like what you see? Visit the ' +\n",
              "            '<a target=\"_blank\" href=https://colab.research.google.com/notebooks/data_table.ipynb>data table notebook</a>'\n",
              "            + ' to learn more about interactive tables.';\n",
              "          element.innerHTML = '';\n",
              "          dataTable['output_type'] = 'display_data';\n",
              "          await google.colab.output.renderOutput(dataTable, element);\n",
              "          const docLink = document.createElement('div');\n",
              "          docLink.innerHTML = docLinkHtml;\n",
              "          element.appendChild(docLink);\n",
              "        }\n",
              "      </script>\n",
              "    </div>\n",
              "  </div>\n",
              "  "
            ]
          },
          "metadata": {},
          "execution_count": 296
        }
      ]
    },
    {
      "cell_type": "code",
      "source": [
        "df_list.columns"
      ],
      "metadata": {
        "colab": {
          "base_uri": "https://localhost:8080/"
        },
        "id": "_CIBdUB3XEgv",
        "outputId": "a90d4218-3402-43da-b4c0-bc1e1828da4d"
      },
      "id": "_CIBdUB3XEgv",
      "execution_count": null,
      "outputs": [
        {
          "output_type": "execute_result",
          "data": {
            "text/plain": [
              "Index(['id', 'host_acceptance_rate', 'host_is_superhost', 'neighbourhood',\n",
              "       'latitude', 'longitude', 'room_type', 'accommodates', 'bedrooms',\n",
              "       'beds', 'amenities', 'price_in_dollar', 'minimum_nights',\n",
              "       'maximum_nights', 'has_availability', 'availability_30',\n",
              "       'number_of_reviews_l30d', 'review_scores_rating', 'instant_bookable',\n",
              "       'price_in_euros', 'price_per_person', 'minimum_price',\n",
              "       'discount_per_5_days_booked', 'discount_per_10_days_booked',\n",
              "       'discount_per_30_and_more_days_booked', 'service_cost'],\n",
              "      dtype='object')"
            ]
          },
          "metadata": {},
          "execution_count": 297
        }
      ]
    },
    {
      "cell_type": "markdown",
      "id": "b442f925-1192-4451-9276-0ff78cd8ec4c",
      "metadata": {
        "id": "b442f925-1192-4451-9276-0ff78cd8ec4c"
      },
      "source": [
        "## -- Your Progress --\n",
        "\n",
        "Let's now have a look at which data types we still need to change and which columns have some null values."
      ]
    },
    {
      "cell_type": "code",
      "source": [
        "df_list.info(verbose=True, show_counts=True)"
      ],
      "metadata": {
        "id": "S48Xv1Vv4LaH",
        "colab": {
          "base_uri": "https://localhost:8080/"
        },
        "outputId": "5b271dd4-6689-4558-cfeb-5c93450e0658"
      },
      "id": "S48Xv1Vv4LaH",
      "execution_count": null,
      "outputs": [
        {
          "output_type": "stream",
          "name": "stdout",
          "text": [
            "<class 'pandas.core.frame.DataFrame'>\n",
            "Int64Index: 6165 entries, 0 to 6172\n",
            "Data columns (total 26 columns):\n",
            " #   Column                                Non-Null Count  Dtype   \n",
            "---  ------                                --------------  -----   \n",
            " 0   id                                    6165 non-null   int64   \n",
            " 1   host_acceptance_rate                  5365 non-null   float64 \n",
            " 2   host_is_superhost                     6165 non-null   bool    \n",
            " 3   neighbourhood                         6165 non-null   category\n",
            " 4   latitude                              6165 non-null   float64 \n",
            " 5   longitude                             6165 non-null   float64 \n",
            " 6   room_type                             6165 non-null   category\n",
            " 7   accommodates                          6165 non-null   int64   \n",
            " 8   bedrooms                              5859 non-null   float64 \n",
            " 9   beds                                  6082 non-null   float64 \n",
            " 10  amenities                             6165 non-null   int64   \n",
            " 11  price_in_dollar                       6165 non-null   float64 \n",
            " 12  minimum_nights                        6165 non-null   int64   \n",
            " 13  maximum_nights                        6165 non-null   int64   \n",
            " 14  has_availability                      6165 non-null   bool    \n",
            " 15  availability_30                       6165 non-null   int64   \n",
            " 16  number_of_reviews_l30d                6165 non-null   int64   \n",
            " 17  review_scores_rating                  5581 non-null   float64 \n",
            " 18  instant_bookable                      6165 non-null   bool    \n",
            " 19  price_in_euros                        0 non-null      object  \n",
            " 20  price_per_person                      6165 non-null   float64 \n",
            " 21  minimum_price                         6165 non-null   float64 \n",
            " 22  discount_per_5_days_booked            6165 non-null   float64 \n",
            " 23  discount_per_10_days_booked           6165 non-null   float64 \n",
            " 24  discount_per_30_and_more_days_booked  6165 non-null   float64 \n",
            " 25  service_cost                          6165 non-null   float64 \n",
            "dtypes: bool(3), category(2), float64(13), int64(7), object(1)\n",
            "memory usage: 1.1+ MB\n"
          ]
        }
      ]
    },
    {
      "cell_type": "markdown",
      "id": "f9ebf852-d145-4ce9-84f2-b5eafb35f3a0",
      "metadata": {
        "id": "f9ebf852-d145-4ce9-84f2-b5eafb35f3a0"
      },
      "source": [
        "We can see from the output above that the columns `host_acceptance_rate`, `review_scores_rating`, `bedrooms`, `beds`, and `price_in_euros` still require some processing, as they contain missing values, and/or have dtypes like object or float when they need an integer data type.\n",
        "\n",
        "To summarize, your cleanup so far has reduced memory usage by almost half, which admittedly given the current amount of memory we are using does not really matter that much. But more importantly, our DataFrame is also more readable now, and we can continue to process it in the next sections."
      ]
    },
    {
      "cell_type": "markdown",
      "source": [
        "#### Task 9: No unique values\n",
        "\n",
        "[*\\[Related section on CoRise\\]*](https://corise.com/course/python-for-data-science/v2/module/clean-inspect#corise_cl9wo1sr2005i3b6phwt2cvvg)\n",
        "\n",
        "Let's inspect the `price_in_euros` column first, because this column seems to contain only null values, which inherently do not add any meaning to our dataset. Remember our `unique` approach?"
      ],
      "metadata": {
        "id": "j1lKXknZ5559"
      },
      "id": "j1lKXknZ5559"
    },
    {
      "cell_type": "code",
      "source": [
        "df_list[\"price_in_euros\"].unique()"
      ],
      "metadata": {
        "id": "3keZMkvQMDvX",
        "colab": {
          "base_uri": "https://localhost:8080/"
        },
        "outputId": "ca2dd758-df39-4c03-e5dc-ad11292986b9"
      },
      "id": "3keZMkvQMDvX",
      "execution_count": null,
      "outputs": [
        {
          "output_type": "execute_result",
          "data": {
            "text/plain": [
              "array([None], dtype=object)"
            ]
          },
          "metadata": {},
          "execution_count": 299
        }
      ]
    },
    {
      "cell_type": "markdown",
      "source": [
        "The approach should reveal that this column contains no unique values and is thus empty. Please `drop` this column."
      ],
      "metadata": {
        "id": "Lco7cMRM6nEn"
      },
      "id": "Lco7cMRM6nEn"
    },
    {
      "cell_type": "code",
      "source": [
        "df_list = df_list.drop(columns = \"price_in_euros\")"
      ],
      "metadata": {
        "id": "3FK-xAZ-MKh-"
      },
      "id": "3FK-xAZ-MKh-",
      "execution_count": null,
      "outputs": []
    },
    {
      "cell_type": "code",
      "source": [
        "df_list.columns"
      ],
      "metadata": {
        "colab": {
          "base_uri": "https://localhost:8080/"
        },
        "id": "cEwQzWF5bGKB",
        "outputId": "b73f81b5-f380-458b-fbd9-705d88cba874"
      },
      "id": "cEwQzWF5bGKB",
      "execution_count": null,
      "outputs": [
        {
          "output_type": "execute_result",
          "data": {
            "text/plain": [
              "Index(['id', 'host_acceptance_rate', 'host_is_superhost', 'neighbourhood',\n",
              "       'latitude', 'longitude', 'room_type', 'accommodates', 'bedrooms',\n",
              "       'beds', 'amenities', 'price_in_dollar', 'minimum_nights',\n",
              "       'maximum_nights', 'has_availability', 'availability_30',\n",
              "       'number_of_reviews_l30d', 'review_scores_rating', 'instant_bookable',\n",
              "       'price_per_person', 'minimum_price', 'discount_per_5_days_booked',\n",
              "       'discount_per_10_days_booked', 'discount_per_30_and_more_days_booked',\n",
              "       'service_cost'],\n",
              "      dtype='object')"
            ]
          },
          "metadata": {},
          "execution_count": 301
        }
      ]
    },
    {
      "cell_type": "markdown",
      "id": "67b0eb3d-c8fe-4a31-aa2e-740a4b70e495",
      "metadata": {
        "id": "67b0eb3d-c8fe-4a31-aa2e-740a4b70e495"
      },
      "source": [
        "#### Task 10: Dropping rows\n",
        "\n",
        "[*\\[Related section on CoRise\\]*](https://corise.com/course/python-for-data-science/v2/module/clean-inspect#corise_cl9wntsuo004t3b6pff12ek7d)\n",
        "\n",
        "DataFrame [`info()`](https://pandas.pydata.org/docs/reference/api/pandas.DataFrame.info.html) revealed that some listings have no reviews and an unknown host acceptance rate. Most Airbnb users exclude such listings from their search results. To mimic this filtering approach, please filter out any rows that do not have a `review_scores_rating` and without a `host_acceptance_rate`.\n",
        "\n",
        "A useful method for this approach is the [`dropna()`](https://pandas.pydata.org/pandas-docs/stable/reference/api/pandas.DataFrame.dropna.html) function."
      ]
    },
    {
      "cell_type": "code",
      "source": [
        "df_list[\"review_scores_rating\"].unique()"
      ],
      "metadata": {
        "id": "n-KzW3s_bRG6"
      },
      "id": "n-KzW3s_bRG6",
      "execution_count": null,
      "outputs": []
    },
    {
      "cell_type": "code",
      "source": [
        "df_list[\"host_acceptance_rate\"].unique()"
      ],
      "metadata": {
        "id": "zdXiOqddbdVQ"
      },
      "id": "zdXiOqddbdVQ",
      "execution_count": null,
      "outputs": []
    },
    {
      "cell_type": "code",
      "source": [
        "df_list = df_list.dropna(subset = [\"review_scores_rating\", \"host_acceptance_rate\"])\n"
      ],
      "metadata": {
        "id": "mELc4tTd8C4L"
      },
      "id": "mELc4tTd8C4L",
      "execution_count": null,
      "outputs": []
    },
    {
      "cell_type": "code",
      "source": [
        "df_list.info()"
      ],
      "metadata": {
        "colab": {
          "base_uri": "https://localhost:8080/"
        },
        "id": "P27KiYhqc6bM",
        "outputId": "1e1efb10-f063-422b-cb33-b1eceaa23e6b"
      },
      "id": "P27KiYhqc6bM",
      "execution_count": null,
      "outputs": [
        {
          "output_type": "stream",
          "name": "stdout",
          "text": [
            "<class 'pandas.core.frame.DataFrame'>\n",
            "Int64Index: 4886 entries, 0 to 6172\n",
            "Data columns (total 25 columns):\n",
            " #   Column                                Non-Null Count  Dtype   \n",
            "---  ------                                --------------  -----   \n",
            " 0   id                                    4886 non-null   int64   \n",
            " 1   host_acceptance_rate                  4886 non-null   float64 \n",
            " 2   host_is_superhost                     4886 non-null   bool    \n",
            " 3   neighbourhood                         4886 non-null   category\n",
            " 4   latitude                              4886 non-null   float64 \n",
            " 5   longitude                             4886 non-null   float64 \n",
            " 6   room_type                             4886 non-null   category\n",
            " 7   accommodates                          4886 non-null   int64   \n",
            " 8   bedrooms                              4622 non-null   float64 \n",
            " 9   beds                                  4817 non-null   float64 \n",
            " 10  amenities                             4886 non-null   int64   \n",
            " 11  price_in_dollar                       4886 non-null   float64 \n",
            " 12  minimum_nights                        4886 non-null   int64   \n",
            " 13  maximum_nights                        4886 non-null   int64   \n",
            " 14  has_availability                      4886 non-null   bool    \n",
            " 15  availability_30                       4886 non-null   int64   \n",
            " 16  number_of_reviews_l30d                4886 non-null   int64   \n",
            " 17  review_scores_rating                  4886 non-null   float64 \n",
            " 18  instant_bookable                      4886 non-null   bool    \n",
            " 19  price_per_person                      4886 non-null   float64 \n",
            " 20  minimum_price                         4886 non-null   float64 \n",
            " 21  discount_per_5_days_booked            4886 non-null   float64 \n",
            " 22  discount_per_10_days_booked           4886 non-null   object  \n",
            " 23  discount_per_30_and_more_days_booked  4886 non-null   object  \n",
            " 24  service_cost                          4886 non-null   float64 \n",
            "dtypes: bool(3), category(2), float64(11), int64(7), object(2)\n",
            "memory usage: 826.4+ KB\n"
          ]
        }
      ]
    },
    {
      "cell_type": "markdown",
      "id": "a56ee44e-f810-4a42-96d9-2bfbb65834ff",
      "metadata": {
        "id": "a56ee44e-f810-4a42-96d9-2bfbb65834ff"
      },
      "source": [
        "#### Task 11: Reason through your missing data\n",
        "\n",
        "After setting the right data types, you are often left with making some hard decisions and assumptions about any *partially* incomplete data in your working dataset. In this case, some `beds` and `bedrooms` have no properly assigned values. You can check this by running `df_list.info(verbose=True, show_counts=True)`, which will show that `beds` and `bedrooms` have some missing values.\n",
        "\n",
        "\n",
        "Let's try and make some simple assumptions based on the `room_type` assigned to the listing. First, inspect which room types are found in the dataset. "
      ]
    },
    {
      "cell_type": "code",
      "execution_count": null,
      "id": "5e0aa7f3-8b04-45af-b3a3-47bc3e9eb340",
      "metadata": {
        "id": "5e0aa7f3-8b04-45af-b3a3-47bc3e9eb340",
        "colab": {
          "base_uri": "https://localhost:8080/"
        },
        "outputId": "bcad7bff-5b29-47b0-b07b-6f18f1f5ad52"
      },
      "outputs": [
        {
          "output_type": "execute_result",
          "data": {
            "text/plain": [
              "['Private room', 'Entire home/apt', 'Hotel room', 'Shared room']\n",
              "Categories (4, object): ['Entire home/apt', 'Hotel room', 'Private room', 'Shared room']"
            ]
          },
          "metadata": {},
          "execution_count": 304
        }
      ],
      "source": [
        "df_list[\"room_type\"].unique()"
      ]
    },
    {
      "cell_type": "markdown",
      "id": "5917ddc5-cc89-4773-8ed4-4caac60be33d",
      "metadata": {
        "id": "5917ddc5-cc89-4773-8ed4-4caac60be33d"
      },
      "source": [
        "There are four room types. Let's make the assumption that the columns `bedrooms` and `beds` are potentially influenced by `room_type`.\n",
        "\n",
        "Therefore, we can make the following rules:\n",
        "- If you have a **\"Private room\"** or **\"Shared room\"** as `room_type`, then we believe the listing only has one bedroom. \n",
        "- If the listing has **\"Hotel room\"** or **\"Entire home/apt\"** as `room_type`, then we can divide the number of guests the listing accomodates by 2 and round up. \n",
        "- If any of these numbers are missing, then we can leave it empty.\n",
        "\n",
        "Translate these requirements into a Python function, and you get:\n",
        "\n",
        "```python\n",
        "def fill_empty_bedrooms(accommodates: int, bedrooms: int, room_type: str) -> int:\n",
        "    if (room_type == \"Private room\") or (room_type == \"Shared room\"):\n",
        "        return 1\n",
        "    elif (room_type == \"Hotel room\") or (room_type == \"Entire home/apt\"):\n",
        "        return np.ceil(accommodates / 2)\n",
        "    else:\n",
        "        return bedrooms\n",
        "```\n",
        "\n",
        "Let's time this function and see its performance 💪💪! Please run both cells."
      ]
    },
    {
      "cell_type": "code",
      "execution_count": null,
      "id": "f710c2e4-86df-4c22-8e59-f8e14792133f",
      "metadata": {
        "id": "f710c2e4-86df-4c22-8e59-f8e14792133f"
      },
      "outputs": [],
      "source": [
        "def fill_empty_bedrooms(accommodates: int, bedrooms: int, room_type: str) -> int:\n",
        "    if (room_type == \"Private room\") or (room_type == \"Shared room\"):\n",
        "        return 1\n",
        "    elif (room_type == \"Hotel room\") or (room_type == \"Entire home/apt\"):\n",
        "        return np.ceil(accommodates / 2)\n",
        "    else:\n",
        "        return bedrooms"
      ]
    },
    {
      "cell_type": "code",
      "execution_count": null,
      "id": "6f7f7b33-f85d-46a2-85cd-6816267c0926",
      "metadata": {
        "id": "6f7f7b33-f85d-46a2-85cd-6816267c0926",
        "colab": {
          "base_uri": "https://localhost:8080/"
        },
        "outputId": "46e4723e-3a6f-48df-b012-9bfc5c7de18f"
      },
      "outputs": [
        {
          "output_type": "stream",
          "name": "stdout",
          "text": [
            "80.9 ms ± 612 µs per loop (mean ± std. dev. of 4 runs, 100 loops each)\n"
          ]
        }
      ],
      "source": [
        "%%timeit -r 4 -n 100\n",
        "\n",
        "temp_df = df_list.copy()  # Deep copy of the df, not a \"view\"\n",
        "temp_df[\"rooms\"] = df_list[[\"accommodates\", \"bedrooms\", \"room_type\"]].apply(\n",
        "    lambda x: fill_empty_bedrooms(x[\"accommodates\"], x[\"bedrooms\"], x[\"room_type\"]),\n",
        "    axis=1,\n",
        ")"
      ]
    },
    {
      "cell_type": "markdown",
      "id": "b79ff3cd-3890-442e-b637-68b794a5a311",
      "metadata": {
        "id": "b79ff3cd-3890-442e-b637-68b794a5a311"
      },
      "source": [
        "Just like in Week 1, we use `timeit` to measure the performance of our function. In the case of Pandas, we are using [`apply()`](https://pandas.pydata.org/docs/reference/api/pandas.DataFrame.apply.html) to semi-vectorize our function, but secretly this function just implements something that mimics a for loop. Using [a lambda](https://www.geeksforgeeks.org/applying-lambda-functions-to-pandas-dataframe/) together with [`apply()`](https://pandas.pydata.org/docs/reference/api/pandas.DataFrame.apply.html) allows us to access multiple columns to generate an outcome.\n",
        "\n",
        "\n",
        "This approach is often good enough, but not always, especially if you are dealing with large datasets. Below we will run the [`apply()`](https://pandas.pydata.org/docs/reference/api/pandas.DataFrame.apply.html) function for output. We've also provided some alternative functions, though they are often found to be slower. (However, it can be a bit of a grey area, [so it really depends](https://stackoverflow.com/questions/24870953/does-pandas-iterrows-have-performance-issues/24871316#24871316).)"
      ]
    },
    {
      "cell_type": "code",
      "source": [
        "df_list[\"bedrooms\"].head()"
      ],
      "metadata": {
        "id": "m74v9tZHA0c_",
        "colab": {
          "base_uri": "https://localhost:8080/"
        },
        "outputId": "54997e22-542d-4f47-a105-dec24a509f6e"
      },
      "id": "m74v9tZHA0c_",
      "execution_count": null,
      "outputs": [
        {
          "output_type": "execute_result",
          "data": {
            "text/plain": [
              "0   1.00\n",
              "1    NaN\n",
              "2   1.00\n",
              "3   1.00\n",
              "4   2.00\n",
              "Name: bedrooms, dtype: float64"
            ]
          },
          "metadata": {},
          "execution_count": 307
        }
      ]
    },
    {
      "cell_type": "code",
      "source": [
        "df_list[\"bedrooms\"] = df_list[[\"accommodates\", \"bedrooms\", \"room_type\"]].apply(\n",
        "    lambda x: fill_empty_bedrooms(x[\"accommodates\"], x[\"bedrooms\"], x[\"room_type\"]),\n",
        "    axis=1,\n",
        ")"
      ],
      "metadata": {
        "id": "aZB2IlpQp7bR"
      },
      "id": "aZB2IlpQp7bR",
      "execution_count": null,
      "outputs": []
    },
    {
      "cell_type": "code",
      "source": [
        "df_list[\"bedrooms\"].head()"
      ],
      "metadata": {
        "colab": {
          "base_uri": "https://localhost:8080/"
        },
        "id": "1waZvvy6qRG7",
        "outputId": "5d42e723-a29d-4bcc-f255-a2b58109afed"
      },
      "id": "1waZvvy6qRG7",
      "execution_count": null,
      "outputs": [
        {
          "output_type": "execute_result",
          "data": {
            "text/plain": [
              "0   1.00\n",
              "1   1.00\n",
              "2   2.00\n",
              "3   1.00\n",
              "4   1.00\n",
              "Name: bedrooms, dtype: float64"
            ]
          },
          "metadata": {},
          "execution_count": 309
        }
      ]
    },
    {
      "cell_type": "markdown",
      "id": "37fb2d2b-e631-4630-bbf6-3de6bcecae94",
      "metadata": {
        "id": "37fb2d2b-e631-4630-bbf6-3de6bcecae94"
      },
      "source": [
        "| Related functions ([In *general* order of preference](https://stackoverflow.com/questions/24870953/does-pandas-iterrows-have-performance-issues/24871316#24871316))|\n",
        "| ---- |\n",
        "| [apply()](https://pandas.pydata.org/docs/reference/api/pandas.DataFrame.apply.html): Apply a function along one or multiple columns |\n",
        "| [pipe()](https://pandas.pydata.org/docs/reference/api/pandas.DataFrame.pipe.html): Chain multiple transformations/functions after each other |\n",
        "| [applymap()](https://pandas.pydata.org/docs/reference/api/pandas.DataFrame.applymap.html): Use strictly as a transformation of current value to a new value |\n",
        "| [itertuples()](https://pandas.pydata.org/docs/reference/api/pandas.DataFrame.itertuples.html): Iterate over DataFrame rows as named tuples |\n",
        "| [iteritems()](https://pandas.pydata.org/docs/reference/api/pandas.DataFrame.iteritems.html): Iterate  over DataFrame columns |\n",
        "| [iterrows()](https://pandas.pydata.org/docs/reference/api/pandas.DataFrame.iterrows.html): Iterate over DataFrame rows |"
      ]
    },
    {
      "cell_type": "markdown",
      "id": "6c1926ac-a65c-4636-ab6f-a2ea8926eafe",
      "metadata": {
        "id": "6c1926ac-a65c-4636-ab6f-a2ea8926eafe"
      },
      "source": [
        "If you feel like you want to take the function's performance to the next level, we have a **bonus** (**NOT** required) question 😱!"
      ]
    },
    {
      "cell_type": "markdown",
      "id": "e71cc408-ec9a-4139-8636-ee6e9aad3244",
      "metadata": {
        "id": "e71cc408-ec9a-4139-8636-ee6e9aad3244"
      },
      "source": [
        "---\n",
        "\n",
        "#### (Extra Credit) Task 12: Vectorize!\n",
        "\n",
        "Can you vectorize the function by using the method described under \"Pandas Vectorization\", with inspiration from [this link](https://towardsdatascience.com/do-you-use-apply-in-pandas-there-is-a-600x-faster-way-d2497facfa66)? On our hardware, applying vectorization led to results that were at least 30-40x faster. (This might differ a bit on your hardware.)"
      ]
    },
    {
      "cell_type": "code",
      "source": [
        "df_list.info()"
      ],
      "metadata": {
        "colab": {
          "base_uri": "https://localhost:8080/"
        },
        "id": "s1qwpUOHscBy",
        "outputId": "ae1fb57b-4d0e-4439-b1b3-c7cb3147a704"
      },
      "id": "s1qwpUOHscBy",
      "execution_count": null,
      "outputs": [
        {
          "output_type": "stream",
          "name": "stdout",
          "text": [
            "<class 'pandas.core.frame.DataFrame'>\n",
            "Int64Index: 4886 entries, 0 to 6172\n",
            "Data columns (total 25 columns):\n",
            " #   Column                                Non-Null Count  Dtype   \n",
            "---  ------                                --------------  -----   \n",
            " 0   id                                    4886 non-null   int64   \n",
            " 1   host_acceptance_rate                  4886 non-null   float64 \n",
            " 2   host_is_superhost                     4886 non-null   bool    \n",
            " 3   neighbourhood                         4886 non-null   category\n",
            " 4   latitude                              4886 non-null   float64 \n",
            " 5   longitude                             4886 non-null   float64 \n",
            " 6   room_type                             4886 non-null   category\n",
            " 7   accommodates                          4886 non-null   int64   \n",
            " 8   bedrooms                              4886 non-null   float64 \n",
            " 9   beds                                  4817 non-null   float64 \n",
            " 10  amenities                             4886 non-null   int64   \n",
            " 11  price_in_dollar                       4886 non-null   float64 \n",
            " 12  minimum_nights                        4886 non-null   int64   \n",
            " 13  maximum_nights                        4886 non-null   int64   \n",
            " 14  has_availability                      4886 non-null   bool    \n",
            " 15  availability_30                       4886 non-null   int64   \n",
            " 16  number_of_reviews_l30d                4886 non-null   int64   \n",
            " 17  review_scores_rating                  4886 non-null   float64 \n",
            " 18  instant_bookable                      4886 non-null   bool    \n",
            " 19  price_per_person                      4886 non-null   float64 \n",
            " 20  minimum_price                         4886 non-null   float64 \n",
            " 21  discount_per_5_days_booked            4886 non-null   float64 \n",
            " 22  discount_per_10_days_booked           4886 non-null   float64 \n",
            " 23  discount_per_30_and_more_days_booked  4886 non-null   float64 \n",
            " 24  service_cost                          4886 non-null   float64 \n",
            "dtypes: bool(3), category(2), float64(13), int64(7)\n",
            "memory usage: 955.4 KB\n"
          ]
        }
      ]
    },
    {
      "cell_type": "code",
      "source": [
        "%%timeit -r 4 -n 100\n",
        "\n",
        "temp_df = df_list.copy()\n",
        "\n",
        "temp_df[\"rooms\"] = temp_df[\"bedrooms\"]\n",
        "mask = (temp_df['room_type'] == \"Private room\") | (temp_df['room_type'] == \"Shared room\")\n",
        "temp_df.loc[mask,\"rooms\"] = 1\n",
        "mask = (temp_df['room_type'] == \"Hotel room\") | (temp_df['room_type'] == \"Entire home/apt\")\n",
        "temp_df.loc[mask,\"rooms\"] = np.ceil(temp_df[\"accommodates\"]/2)"
      ],
      "metadata": {
        "id": "3CjW4XiYBOLL",
        "colab": {
          "base_uri": "https://localhost:8080/"
        },
        "outputId": "a8a88b5f-54e6-4090-8273-92f7cec60ecf"
      },
      "id": "3CjW4XiYBOLL",
      "execution_count": null,
      "outputs": [
        {
          "output_type": "stream",
          "name": "stdout",
          "text": [
            "2.85 ms ± 73.9 µs per loop (mean ± std. dev. of 4 runs, 100 loops each)\n"
          ]
        }
      ]
    },
    {
      "cell_type": "markdown",
      "id": "0d720d45-b510-45eb-995f-11e43ddcba09",
      "metadata": {
        "id": "0d720d45-b510-45eb-995f-11e43ddcba09"
      },
      "source": [
        "---\n",
        "\n",
        "#### Task 13: Clean-up crew\n",
        "\n",
        "[*\\[Related section on CoRise\\]*](https://corise.com/course/python-for-data-science/v2/module/clean-inspect#corise_cl9wntsuo004t3b6pff12ek7d)\n",
        "\n",
        "Thanks to our logic and assumptions, most listings now have a proper amount of defined rooms. However, there are still a few listings without any number of rooms defined. Remove all rows/entries that have an empty `bedrooms`, `beds`."
      ]
    },
    {
      "cell_type": "code",
      "source": [
        "df_list = df_list.dropna(subset = [\"bedrooms\", 'beds'])"
      ],
      "metadata": {
        "id": "evofgflhBxx4"
      },
      "id": "evofgflhBxx4",
      "execution_count": null,
      "outputs": []
    },
    {
      "cell_type": "code",
      "source": [
        "df_list.info()"
      ],
      "metadata": {
        "colab": {
          "base_uri": "https://localhost:8080/"
        },
        "id": "OkTP_7odzrlf",
        "outputId": "3708106a-62c6-409a-ea14-d3b3c6441f22"
      },
      "id": "OkTP_7odzrlf",
      "execution_count": null,
      "outputs": [
        {
          "output_type": "stream",
          "name": "stdout",
          "text": [
            "<class 'pandas.core.frame.DataFrame'>\n",
            "Int64Index: 4817 entries, 0 to 6172\n",
            "Data columns (total 25 columns):\n",
            " #   Column                                Non-Null Count  Dtype   \n",
            "---  ------                                --------------  -----   \n",
            " 0   id                                    4817 non-null   int64   \n",
            " 1   host_acceptance_rate                  4817 non-null   float64 \n",
            " 2   host_is_superhost                     4817 non-null   bool    \n",
            " 3   neighbourhood                         4817 non-null   category\n",
            " 4   latitude                              4817 non-null   float64 \n",
            " 5   longitude                             4817 non-null   float64 \n",
            " 6   room_type                             4817 non-null   category\n",
            " 7   accommodates                          4817 non-null   int64   \n",
            " 8   bedrooms                              4817 non-null   float64 \n",
            " 9   beds                                  4817 non-null   float64 \n",
            " 10  amenities                             4817 non-null   int64   \n",
            " 11  price_in_dollar                       4817 non-null   float64 \n",
            " 12  minimum_nights                        4817 non-null   int64   \n",
            " 13  maximum_nights                        4817 non-null   int64   \n",
            " 14  has_availability                      4817 non-null   bool    \n",
            " 15  availability_30                       4817 non-null   int64   \n",
            " 16  number_of_reviews_l30d                4817 non-null   int64   \n",
            " 17  review_scores_rating                  4817 non-null   float64 \n",
            " 18  instant_bookable                      4817 non-null   bool    \n",
            " 19  price_per_person                      4817 non-null   float64 \n",
            " 20  minimum_price                         4817 non-null   float64 \n",
            " 21  discount_per_5_days_booked            4817 non-null   float64 \n",
            " 22  discount_per_10_days_booked           4817 non-null   float64 \n",
            " 23  discount_per_30_and_more_days_booked  4817 non-null   float64 \n",
            " 24  service_cost                          4817 non-null   float64 \n",
            "dtypes: bool(3), category(2), float64(13), int64(7)\n",
            "memory usage: 814.7 KB\n"
          ]
        }
      ]
    },
    {
      "cell_type": "markdown",
      "id": "b5095beb-d2ce-40bb-9536-e26e06a729bd",
      "metadata": {
        "id": "b5095beb-d2ce-40bb-9536-e26e06a729bd"
      },
      "source": [
        "Now that we have removed all the empty values, finally we can assign the dtype `int` instead of `float` to these two columns.\n",
        "\n",
        "Please set the columns `beds` and `bedrooms` as `int`. "
      ]
    },
    {
      "cell_type": "code",
      "source": [
        "df_list[\"beds\"].head()"
      ],
      "metadata": {
        "colab": {
          "base_uri": "https://localhost:8080/"
        },
        "id": "SOxL73ri0adf",
        "outputId": "d5253c86-c0b2-4b64-f058-01748bad0827"
      },
      "id": "SOxL73ri0adf",
      "execution_count": null,
      "outputs": [
        {
          "output_type": "execute_result",
          "data": {
            "text/plain": [
              "0   1.00\n",
              "1   1.00\n",
              "2   3.00\n",
              "3   2.00\n",
              "4   3.00\n",
              "Name: beds, dtype: float64"
            ]
          },
          "metadata": {},
          "execution_count": 314
        }
      ]
    },
    {
      "cell_type": "code",
      "source": [
        "df_list[\"bedrooms\"].head()"
      ],
      "metadata": {
        "colab": {
          "base_uri": "https://localhost:8080/"
        },
        "id": "NQTGf_mb0h7z",
        "outputId": "9067383c-f4c3-478a-fbf7-d6c49ad5d1b0"
      },
      "id": "NQTGf_mb0h7z",
      "execution_count": null,
      "outputs": [
        {
          "output_type": "execute_result",
          "data": {
            "text/plain": [
              "0   1.00\n",
              "1   1.00\n",
              "2   2.00\n",
              "3   1.00\n",
              "4   1.00\n",
              "Name: bedrooms, dtype: float64"
            ]
          },
          "metadata": {},
          "execution_count": 315
        }
      ]
    },
    {
      "cell_type": "code",
      "source": [
        "df_list[\"beds\"] = df_list[\"beds\"].astype(int)\n",
        "df_list[\"bedrooms\"] = df_list[\"bedrooms\"].astype(int)"
      ],
      "metadata": {
        "id": "TNWvLCDqC9Fv"
      },
      "id": "TNWvLCDqC9Fv",
      "execution_count": null,
      "outputs": []
    },
    {
      "cell_type": "code",
      "source": [
        "df_list.info()"
      ],
      "metadata": {
        "colab": {
          "base_uri": "https://localhost:8080/"
        },
        "id": "niHvL1_00vXH",
        "outputId": "bcd3d78f-ae78-4d4f-8105-e6183ec4aec0"
      },
      "id": "niHvL1_00vXH",
      "execution_count": null,
      "outputs": [
        {
          "output_type": "stream",
          "name": "stdout",
          "text": [
            "<class 'pandas.core.frame.DataFrame'>\n",
            "Int64Index: 4817 entries, 0 to 6172\n",
            "Data columns (total 25 columns):\n",
            " #   Column                                Non-Null Count  Dtype   \n",
            "---  ------                                --------------  -----   \n",
            " 0   id                                    4817 non-null   int64   \n",
            " 1   host_acceptance_rate                  4817 non-null   float64 \n",
            " 2   host_is_superhost                     4817 non-null   bool    \n",
            " 3   neighbourhood                         4817 non-null   category\n",
            " 4   latitude                              4817 non-null   float64 \n",
            " 5   longitude                             4817 non-null   float64 \n",
            " 6   room_type                             4817 non-null   category\n",
            " 7   accommodates                          4817 non-null   int64   \n",
            " 8   bedrooms                              4817 non-null   int64   \n",
            " 9   beds                                  4817 non-null   int64   \n",
            " 10  amenities                             4817 non-null   int64   \n",
            " 11  price_in_dollar                       4817 non-null   float64 \n",
            " 12  minimum_nights                        4817 non-null   int64   \n",
            " 13  maximum_nights                        4817 non-null   int64   \n",
            " 14  has_availability                      4817 non-null   bool    \n",
            " 15  availability_30                       4817 non-null   int64   \n",
            " 16  number_of_reviews_l30d                4817 non-null   int64   \n",
            " 17  review_scores_rating                  4817 non-null   float64 \n",
            " 18  instant_bookable                      4817 non-null   bool    \n",
            " 19  price_per_person                      4817 non-null   float64 \n",
            " 20  minimum_price                         4817 non-null   float64 \n",
            " 21  discount_per_5_days_booked            4817 non-null   float64 \n",
            " 22  discount_per_10_days_booked           4817 non-null   object  \n",
            " 23  discount_per_30_and_more_days_booked  4817 non-null   object  \n",
            " 24  service_cost                          4817 non-null   float64 \n",
            "dtypes: bool(3), category(2), float64(9), int64(9), object(2)\n",
            "memory usage: 814.7+ KB\n"
          ]
        }
      ]
    },
    {
      "cell_type": "markdown",
      "id": "f2deb99a-8ce8-4853-88c9-21293e1744a0",
      "metadata": {
        "id": "f2deb99a-8ce8-4853-88c9-21293e1744a0"
      },
      "source": [
        "---\n",
        "\n",
        "#### (Extra Credit) Task 14: Speed it up\n",
        "\n",
        "Lastly, and this is entirely optional, but you can further speed-up data processing by taking the appropriate number of bytes for a given data type, especially when dealing with large datasets (more info [here](https://towardsdatascience.com/reducing-memory-usage-in-pandas-with-smaller-datatypes-b527635830af)). Currently, the data types are set to 64 bits by default, but most of these could be set to lower values. Good luck 💪💪!"
      ]
    },
    {
      "cell_type": "code",
      "source": [
        "df_list.sort_values(\"bedrooms\", ascending = False)"
      ],
      "metadata": {
        "id": "qX7uOhW-1Z-h"
      },
      "id": "qX7uOhW-1Z-h",
      "execution_count": null,
      "outputs": []
    },
    {
      "cell_type": "code",
      "source": [
        "df_list[\"bedrooms\"].max()"
      ],
      "metadata": {
        "colab": {
          "base_uri": "https://localhost:8080/"
        },
        "id": "cJlXJYoy4KiP",
        "outputId": "4dbb388e-1287-43eb-91c3-3336d632234c"
      },
      "id": "cJlXJYoy4KiP",
      "execution_count": null,
      "outputs": [
        {
          "output_type": "execute_result",
          "data": {
            "text/plain": [
              "8"
            ]
          },
          "metadata": {},
          "execution_count": 317
        }
      ]
    },
    {
      "cell_type": "code",
      "source": [
        "df_list.sort_values(\"beds\", ascending = False)"
      ],
      "metadata": {
        "id": "6sQHkupC1x__"
      },
      "id": "6sQHkupC1x__",
      "execution_count": null,
      "outputs": []
    },
    {
      "cell_type": "code",
      "source": [
        "df_list[\"beds\"].max()"
      ],
      "metadata": {
        "colab": {
          "base_uri": "https://localhost:8080/"
        },
        "id": "1xHm0AYr45hf",
        "outputId": "0f2a23be-d046-4bb1-ce3a-ea18edc7b2c1"
      },
      "id": "1xHm0AYr45hf",
      "execution_count": null,
      "outputs": [
        {
          "output_type": "execute_result",
          "data": {
            "text/plain": [
              "34"
            ]
          },
          "metadata": {},
          "execution_count": 318
        }
      ]
    },
    {
      "cell_type": "code",
      "source": [
        "df_list = df_list.astype({\"bedrooms\":'int16', \"beds\":'int16'})"
      ],
      "metadata": {
        "id": "tRiUEo1pDYPS"
      },
      "id": "tRiUEo1pDYPS",
      "execution_count": null,
      "outputs": []
    },
    {
      "cell_type": "code",
      "source": [
        "df_list.dtypes"
      ],
      "metadata": {
        "id": "sS6IIZ6H3ENF"
      },
      "id": "sS6IIZ6H3ENF",
      "execution_count": null,
      "outputs": []
    },
    {
      "cell_type": "code",
      "source": [
        "for column in df_list.columns:\n",
        "  print(column + \":\")\n",
        "  print(\"\\t max:\"+str(max(df_list[column])))\n",
        "  print(\"\\t dtypes:\"+str(df_list[column].dtypes))"
      ],
      "metadata": {
        "colab": {
          "base_uri": "https://localhost:8080/"
        },
        "id": "cxDo016B5D-j",
        "outputId": "9752f4c4-7c4c-4e62-ebf7-d22666fc6a17"
      },
      "id": "cxDo016B5D-j",
      "execution_count": null,
      "outputs": [
        {
          "output_type": "stream",
          "name": "stdout",
          "text": [
            "id:\n",
            "\t max:638351211861098431\n",
            "\t dtypes:int64\n",
            "host_acceptance_rate:\n",
            "\t max:1.0\n",
            "\t dtypes:float64\n",
            "host_is_superhost:\n",
            "\t max:True\n",
            "\t dtypes:bool\n",
            "neighbourhood:\n",
            "\t max:Zuid\n",
            "\t dtypes:category\n",
            "latitude:\n",
            "\t max:52.44234\n",
            "\t dtypes:float64\n",
            "longitude:\n",
            "\t max:5.0742\n",
            "\t dtypes:float64\n",
            "room_type:\n",
            "\t max:Shared room\n",
            "\t dtypes:category\n",
            "accommodates:\n",
            "\t max:16\n",
            "\t dtypes:int64\n",
            "bedrooms:\n",
            "\t max:8\n",
            "\t dtypes:int64\n",
            "beds:\n",
            "\t max:34\n",
            "\t dtypes:int64\n",
            "amenities:\n",
            "\t max:71\n",
            "\t dtypes:int64\n",
            "price_in_dollar:\n",
            "\t max:2000.0\n",
            "\t dtypes:float64\n",
            "minimum_nights:\n",
            "\t max:1001\n",
            "\t dtypes:int64\n",
            "maximum_nights:\n",
            "\t max:1825\n",
            "\t dtypes:int64\n",
            "has_availability:\n",
            "\t max:True\n",
            "\t dtypes:bool\n",
            "availability_30:\n",
            "\t max:30\n",
            "\t dtypes:int64\n",
            "number_of_reviews_l30d:\n",
            "\t max:128\n",
            "\t dtypes:int64\n",
            "review_scores_rating:\n",
            "\t max:5.0\n",
            "\t dtypes:float64\n",
            "instant_bookable:\n",
            "\t max:True\n",
            "\t dtypes:bool\n",
            "price_per_person:\n",
            "\t max:1238.0\n",
            "\t dtypes:float64\n",
            "minimum_price:\n",
            "\t max:372000.0\n",
            "\t dtypes:float64\n",
            "discount_per_5_days_booked:\n",
            "\t max:0.24\n",
            "\t dtypes:float64\n",
            "discount_per_10_days_booked:\n",
            "\t max:0.41000000000000003\n",
            "\t dtypes:float64\n",
            "discount_per_30_and_more_days_booked:\n",
            "\t max:0.42\n",
            "\t dtypes:float64\n",
            "service_cost:\n",
            "\t max:10.99\n",
            "\t dtypes:float64\n"
          ]
        }
      ]
    },
    {
      "cell_type": "code",
      "source": [
        "df_list = df_list.astype({'longitude':'float16', 'latitude':'float16', \"accommodates\": 'int8',\n",
        "                          \"bedrooms\":'int8', \"beds\":'int8', \"amenities\":'int8', \"price_in_dollar\":'float16', \"minimum_nights\":'int16',\n",
        "                          \"maximum_nights\":'int16', \"availability_30\":'int8', \"review_scores_rating\":'float16',\n",
        "                          \"price_per_person\":'float16', \"minimum_price\": 'float32', \"discount_per_5_days_booked\": 'float16',\n",
        "                          \"discount_per_10_days_booked\": 'float16', \"discount_per_30_and_more_days_booked\": 'float16', \"service_cost\":'float16'})"
      ],
      "metadata": {
        "id": "Wgrpf1R2B3-p"
      },
      "id": "Wgrpf1R2B3-p",
      "execution_count": null,
      "outputs": []
    },
    {
      "cell_type": "code",
      "source": [
        "df_list.dtypes"
      ],
      "metadata": {
        "colab": {
          "base_uri": "https://localhost:8080/"
        },
        "id": "3m7IW_qM_qrB",
        "outputId": "429ad363-3076-4812-b52a-0e2cc2801347"
      },
      "id": "3m7IW_qM_qrB",
      "execution_count": null,
      "outputs": [
        {
          "output_type": "execute_result",
          "data": {
            "text/plain": [
              "id                                         int64\n",
              "host_acceptance_rate                     float64\n",
              "host_is_superhost                           bool\n",
              "neighbourhood                           category\n",
              "latitude                                 float16\n",
              "longitude                                float16\n",
              "room_type                               category\n",
              "accommodates                                int8\n",
              "bedrooms                                    int8\n",
              "beds                                        int8\n",
              "amenities                                   int8\n",
              "price_in_dollar                          float16\n",
              "minimum_nights                             int16\n",
              "maximum_nights                             int16\n",
              "has_availability                            bool\n",
              "availability_30                             int8\n",
              "number_of_reviews_l30d                     int64\n",
              "review_scores_rating                     float16\n",
              "instant_bookable                            bool\n",
              "price_per_person                         float16\n",
              "minimum_price                            float32\n",
              "discount_per_5_days_booked               float16\n",
              "discount_per_10_days_booked              float16\n",
              "discount_per_30_and_more_days_booked     float16\n",
              "service_cost                             float16\n",
              "dtype: object"
            ]
          },
          "metadata": {},
          "execution_count": 321
        }
      ]
    },
    {
      "cell_type": "markdown",
      "id": "696eb00f-acf8-44ee-8074-e548fa36886b",
      "metadata": {
        "id": "696eb00f-acf8-44ee-8074-e548fa36886b"
      },
      "source": [
        "---\n",
        "\n",
        "## Cleaning Is DONE!\n",
        "\n",
        "<center>\n",
        "  <img src=https://i.ibb.co/f9wQt8T/2016-celebrate-celebration-city-preview.jpg width=\"500\" align=\"center\" />\n",
        "</center>\n",
        "<br/>\n",
        "\n",
        "✨ Awesome ✨! You cleaned our data and made sure to watch that the intermediate results aligned with what we expected."
      ]
    },
    {
      "cell_type": "code",
      "execution_count": null,
      "id": "4b15e8cc-5aa3-49e7-81de-c2e30229d95b",
      "metadata": {
        "id": "4b15e8cc-5aa3-49e7-81de-c2e30229d95b",
        "colab": {
          "base_uri": "https://localhost:8080/"
        },
        "outputId": "4d0c83f3-5a1c-4e85-8920-2b8e7ea54ad9"
      },
      "outputs": [
        {
          "output_type": "stream",
          "name": "stdout",
          "text": [
            "<class 'pandas.core.frame.DataFrame'>\n",
            "Int64Index: 4817 entries, 0 to 6172\n",
            "Data columns (total 25 columns):\n",
            " #   Column                                Non-Null Count  Dtype   \n",
            "---  ------                                --------------  -----   \n",
            " 0   id                                    4817 non-null   int64   \n",
            " 1   host_acceptance_rate                  4817 non-null   float64 \n",
            " 2   host_is_superhost                     4817 non-null   bool    \n",
            " 3   neighbourhood                         4817 non-null   category\n",
            " 4   latitude                              4817 non-null   float16 \n",
            " 5   longitude                             4817 non-null   float16 \n",
            " 6   room_type                             4817 non-null   category\n",
            " 7   accommodates                          4817 non-null   int8    \n",
            " 8   bedrooms                              4817 non-null   int8    \n",
            " 9   beds                                  4817 non-null   int8    \n",
            " 10  amenities                             4817 non-null   int8    \n",
            " 11  price_in_dollar                       4817 non-null   float16 \n",
            " 12  minimum_nights                        4817 non-null   int16   \n",
            " 13  maximum_nights                        4817 non-null   int16   \n",
            " 14  has_availability                      4817 non-null   bool    \n",
            " 15  availability_30                       4817 non-null   int8    \n",
            " 16  number_of_reviews_l30d                4817 non-null   int64   \n",
            " 17  review_scores_rating                  4817 non-null   float16 \n",
            " 18  instant_bookable                      4817 non-null   bool    \n",
            " 19  price_per_person                      4817 non-null   float16 \n",
            " 20  minimum_price                         4817 non-null   float32 \n",
            " 21  discount_per_5_days_booked            4817 non-null   float16 \n",
            " 22  discount_per_10_days_booked           4817 non-null   float16 \n",
            " 23  discount_per_30_and_more_days_booked  4817 non-null   float16 \n",
            " 24  service_cost                          4817 non-null   float16 \n",
            "dtypes: bool(3), category(2), float16(9), float32(1), float64(1), int16(2), int64(2), int8(5)\n",
            "memory usage: 320.8 KB\n"
          ]
        }
      ],
      "source": [
        "df_list.info(verbose=True, show_counts=True)"
      ]
    },
    {
      "cell_type": "markdown",
      "source": [
        "Using the function [`head()`](https://pandas.pydata.org/docs/reference/api/pandas.DataFrame.head.html) reveals the same. "
      ],
      "metadata": {
        "id": "ZIJvCU2GDwDQ"
      },
      "id": "ZIJvCU2GDwDQ"
    },
    {
      "cell_type": "code",
      "execution_count": null,
      "id": "bb6771c3-67cc-43f8-bb72-f1737e74bb16",
      "metadata": {
        "id": "bb6771c3-67cc-43f8-bb72-f1737e74bb16",
        "colab": {
          "base_uri": "https://localhost:8080/",
          "height": 259
        },
        "outputId": "a71cd0c0-4f89-4ecf-c414-189209889625"
      },
      "outputs": [
        {
          "output_type": "execute_result",
          "data": {
            "text/plain": [
              "         id  host_acceptance_rate  host_is_superhost  \\\n",
              "0  23726706                  0.95              False   \n",
              "1  35815036                  1.00               True   \n",
              "2  31553121                  1.00              False   \n",
              "\n",
              "              neighbourhood  latitude  longitude        room_type  \\\n",
              "0  IJburg - Zeeburgereiland     52.34       4.98     Private room   \n",
              "1                Noord-Oost     52.44       4.96  Entire home/apt   \n",
              "2                Noord-West     52.44       4.92  Entire home/apt   \n",
              "\n",
              "   accommodates  bedrooms  beds  amenities  price_in_dollar  minimum_nights  \\\n",
              "0             2         1     1          6            88.00               2   \n",
              "1             2         1     1          5           105.00               3   \n",
              "2             4         2     3          3           152.00               2   \n",
              "\n",
              "   maximum_nights  has_availability  availability_30  number_of_reviews_l30d  \\\n",
              "0              14              True                0                       3   \n",
              "1             100              True                4                       6   \n",
              "2              60              True                0                       1   \n",
              "\n",
              "   review_scores_rating  instant_bookable  price_per_person  minimum_price  \\\n",
              "0                  4.99              True             44.00         176.00   \n",
              "1                  4.96             False             52.50         315.00   \n",
              "2                  4.74             False             38.00         304.00   \n",
              "\n",
              "   discount_per_5_days_booked  discount_per_10_days_booked  \\\n",
              "0                        0.05                         0.11   \n",
              "1                        0.05                         0.12   \n",
              "2                        0.07                         0.11   \n",
              "\n",
              "   discount_per_30_and_more_days_booked  service_cost  \n",
              "0                                  0.16          4.99  \n",
              "1                                  0.16          4.99  \n",
              "2                                  0.22          4.99  "
            ],
            "text/html": [
              "\n",
              "  <div id=\"df-a6af64c9-9d19-48c8-b1b1-b1e4a5208473\">\n",
              "    <div class=\"colab-df-container\">\n",
              "      <div>\n",
              "<style scoped>\n",
              "    .dataframe tbody tr th:only-of-type {\n",
              "        vertical-align: middle;\n",
              "    }\n",
              "\n",
              "    .dataframe tbody tr th {\n",
              "        vertical-align: top;\n",
              "    }\n",
              "\n",
              "    .dataframe thead th {\n",
              "        text-align: right;\n",
              "    }\n",
              "</style>\n",
              "<table border=\"1\" class=\"dataframe\">\n",
              "  <thead>\n",
              "    <tr style=\"text-align: right;\">\n",
              "      <th></th>\n",
              "      <th>id</th>\n",
              "      <th>host_acceptance_rate</th>\n",
              "      <th>host_is_superhost</th>\n",
              "      <th>neighbourhood</th>\n",
              "      <th>latitude</th>\n",
              "      <th>longitude</th>\n",
              "      <th>room_type</th>\n",
              "      <th>accommodates</th>\n",
              "      <th>bedrooms</th>\n",
              "      <th>beds</th>\n",
              "      <th>amenities</th>\n",
              "      <th>price_in_dollar</th>\n",
              "      <th>minimum_nights</th>\n",
              "      <th>maximum_nights</th>\n",
              "      <th>has_availability</th>\n",
              "      <th>availability_30</th>\n",
              "      <th>number_of_reviews_l30d</th>\n",
              "      <th>review_scores_rating</th>\n",
              "      <th>instant_bookable</th>\n",
              "      <th>price_per_person</th>\n",
              "      <th>minimum_price</th>\n",
              "      <th>discount_per_5_days_booked</th>\n",
              "      <th>discount_per_10_days_booked</th>\n",
              "      <th>discount_per_30_and_more_days_booked</th>\n",
              "      <th>service_cost</th>\n",
              "    </tr>\n",
              "  </thead>\n",
              "  <tbody>\n",
              "    <tr>\n",
              "      <th>0</th>\n",
              "      <td>23726706</td>\n",
              "      <td>0.95</td>\n",
              "      <td>False</td>\n",
              "      <td>IJburg - Zeeburgereiland</td>\n",
              "      <td>52.34</td>\n",
              "      <td>4.98</td>\n",
              "      <td>Private room</td>\n",
              "      <td>2</td>\n",
              "      <td>1</td>\n",
              "      <td>1</td>\n",
              "      <td>6</td>\n",
              "      <td>88.00</td>\n",
              "      <td>2</td>\n",
              "      <td>14</td>\n",
              "      <td>True</td>\n",
              "      <td>0</td>\n",
              "      <td>3</td>\n",
              "      <td>4.99</td>\n",
              "      <td>True</td>\n",
              "      <td>44.00</td>\n",
              "      <td>176.00</td>\n",
              "      <td>0.05</td>\n",
              "      <td>0.11</td>\n",
              "      <td>0.16</td>\n",
              "      <td>4.99</td>\n",
              "    </tr>\n",
              "    <tr>\n",
              "      <th>1</th>\n",
              "      <td>35815036</td>\n",
              "      <td>1.00</td>\n",
              "      <td>True</td>\n",
              "      <td>Noord-Oost</td>\n",
              "      <td>52.44</td>\n",
              "      <td>4.96</td>\n",
              "      <td>Entire home/apt</td>\n",
              "      <td>2</td>\n",
              "      <td>1</td>\n",
              "      <td>1</td>\n",
              "      <td>5</td>\n",
              "      <td>105.00</td>\n",
              "      <td>3</td>\n",
              "      <td>100</td>\n",
              "      <td>True</td>\n",
              "      <td>4</td>\n",
              "      <td>6</td>\n",
              "      <td>4.96</td>\n",
              "      <td>False</td>\n",
              "      <td>52.50</td>\n",
              "      <td>315.00</td>\n",
              "      <td>0.05</td>\n",
              "      <td>0.12</td>\n",
              "      <td>0.16</td>\n",
              "      <td>4.99</td>\n",
              "    </tr>\n",
              "    <tr>\n",
              "      <th>2</th>\n",
              "      <td>31553121</td>\n",
              "      <td>1.00</td>\n",
              "      <td>False</td>\n",
              "      <td>Noord-West</td>\n",
              "      <td>52.44</td>\n",
              "      <td>4.92</td>\n",
              "      <td>Entire home/apt</td>\n",
              "      <td>4</td>\n",
              "      <td>2</td>\n",
              "      <td>3</td>\n",
              "      <td>3</td>\n",
              "      <td>152.00</td>\n",
              "      <td>2</td>\n",
              "      <td>60</td>\n",
              "      <td>True</td>\n",
              "      <td>0</td>\n",
              "      <td>1</td>\n",
              "      <td>4.74</td>\n",
              "      <td>False</td>\n",
              "      <td>38.00</td>\n",
              "      <td>304.00</td>\n",
              "      <td>0.07</td>\n",
              "      <td>0.11</td>\n",
              "      <td>0.22</td>\n",
              "      <td>4.99</td>\n",
              "    </tr>\n",
              "  </tbody>\n",
              "</table>\n",
              "</div>\n",
              "      <button class=\"colab-df-convert\" onclick=\"convertToInteractive('df-a6af64c9-9d19-48c8-b1b1-b1e4a5208473')\"\n",
              "              title=\"Convert this dataframe to an interactive table.\"\n",
              "              style=\"display:none;\">\n",
              "        \n",
              "  <svg xmlns=\"http://www.w3.org/2000/svg\" height=\"24px\"viewBox=\"0 0 24 24\"\n",
              "       width=\"24px\">\n",
              "    <path d=\"M0 0h24v24H0V0z\" fill=\"none\"/>\n",
              "    <path d=\"M18.56 5.44l.94 2.06.94-2.06 2.06-.94-2.06-.94-.94-2.06-.94 2.06-2.06.94zm-11 1L8.5 8.5l.94-2.06 2.06-.94-2.06-.94L8.5 2.5l-.94 2.06-2.06.94zm10 10l.94 2.06.94-2.06 2.06-.94-2.06-.94-.94-2.06-.94 2.06-2.06.94z\"/><path d=\"M17.41 7.96l-1.37-1.37c-.4-.4-.92-.59-1.43-.59-.52 0-1.04.2-1.43.59L10.3 9.45l-7.72 7.72c-.78.78-.78 2.05 0 2.83L4 21.41c.39.39.9.59 1.41.59.51 0 1.02-.2 1.41-.59l7.78-7.78 2.81-2.81c.8-.78.8-2.07 0-2.86zM5.41 20L4 18.59l7.72-7.72 1.47 1.35L5.41 20z\"/>\n",
              "  </svg>\n",
              "      </button>\n",
              "      \n",
              "  <style>\n",
              "    .colab-df-container {\n",
              "      display:flex;\n",
              "      flex-wrap:wrap;\n",
              "      gap: 12px;\n",
              "    }\n",
              "\n",
              "    .colab-df-convert {\n",
              "      background-color: #E8F0FE;\n",
              "      border: none;\n",
              "      border-radius: 50%;\n",
              "      cursor: pointer;\n",
              "      display: none;\n",
              "      fill: #1967D2;\n",
              "      height: 32px;\n",
              "      padding: 0 0 0 0;\n",
              "      width: 32px;\n",
              "    }\n",
              "\n",
              "    .colab-df-convert:hover {\n",
              "      background-color: #E2EBFA;\n",
              "      box-shadow: 0px 1px 2px rgba(60, 64, 67, 0.3), 0px 1px 3px 1px rgba(60, 64, 67, 0.15);\n",
              "      fill: #174EA6;\n",
              "    }\n",
              "\n",
              "    [theme=dark] .colab-df-convert {\n",
              "      background-color: #3B4455;\n",
              "      fill: #D2E3FC;\n",
              "    }\n",
              "\n",
              "    [theme=dark] .colab-df-convert:hover {\n",
              "      background-color: #434B5C;\n",
              "      box-shadow: 0px 1px 3px 1px rgba(0, 0, 0, 0.15);\n",
              "      filter: drop-shadow(0px 1px 2px rgba(0, 0, 0, 0.3));\n",
              "      fill: #FFFFFF;\n",
              "    }\n",
              "  </style>\n",
              "\n",
              "      <script>\n",
              "        const buttonEl =\n",
              "          document.querySelector('#df-a6af64c9-9d19-48c8-b1b1-b1e4a5208473 button.colab-df-convert');\n",
              "        buttonEl.style.display =\n",
              "          google.colab.kernel.accessAllowed ? 'block' : 'none';\n",
              "\n",
              "        async function convertToInteractive(key) {\n",
              "          const element = document.querySelector('#df-a6af64c9-9d19-48c8-b1b1-b1e4a5208473');\n",
              "          const dataTable =\n",
              "            await google.colab.kernel.invokeFunction('convertToInteractive',\n",
              "                                                     [key], {});\n",
              "          if (!dataTable) return;\n",
              "\n",
              "          const docLinkHtml = 'Like what you see? Visit the ' +\n",
              "            '<a target=\"_blank\" href=https://colab.research.google.com/notebooks/data_table.ipynb>data table notebook</a>'\n",
              "            + ' to learn more about interactive tables.';\n",
              "          element.innerHTML = '';\n",
              "          dataTable['output_type'] = 'display_data';\n",
              "          await google.colab.output.renderOutput(dataTable, element);\n",
              "          const docLink = document.createElement('div');\n",
              "          docLink.innerHTML = docLinkHtml;\n",
              "          element.appendChild(docLink);\n",
              "        }\n",
              "      </script>\n",
              "    </div>\n",
              "  </div>\n",
              "  "
            ]
          },
          "metadata": {},
          "execution_count": 323
        }
      ],
      "source": [
        "df_list.head(3)"
      ]
    },
    {
      "cell_type": "markdown",
      "id": "74572dff-7ed3-4265-a90f-11280a7974e2",
      "metadata": {
        "id": "74572dff-7ed3-4265-a90f-11280a7974e2"
      },
      "source": [
        "As you might have noticed, the steps you take and the methods you use to clean your data is very dependent on the data that is given. If you'd like more practice, we encourage you to take a look at this [Kaggle tutorial](https://www.kaggle.com/learn/data-cleaning) which shows some other problems that might occur when dealing with data."
      ]
    },
    {
      "cell_type": "markdown",
      "id": "efa15f97-5cd1-47fd-bd5c-2d5eb1b0ac04",
      "metadata": {
        "id": "efa15f97-5cd1-47fd-bd5c-2d5eb1b0ac04"
      },
      "source": [
        "## Mix and Match\n",
        "\n",
        "<center>\n",
        "  <img src=https://successrice.com/wp-content/uploads/2020/08/Pride-038-1-980x551.jpg.webp width=\"500\" align=\"center\" />\n",
        "</center>\n",
        "<br/>\n",
        "\n",
        "As a next step, you will again merge these two datasets, as was shown in this week's content. However, this time around we will take a slightly different angle with the data."
      ]
    },
    {
      "cell_type": "code",
      "execution_count": null,
      "id": "eb9c7999-da32-4898-8672-4ab0f0220fa2",
      "metadata": {
        "id": "eb9c7999-da32-4898-8672-4ab0f0220fa2",
        "colab": {
          "base_uri": "https://localhost:8080/",
          "height": 143
        },
        "outputId": "d25bc624-bf3f-4789-8455-ea0507b9e19b"
      },
      "outputs": [
        {
          "output_type": "execute_result",
          "data": {
            "text/plain": [
              "   listing_id       date  available  price_in_dollar  minimum_nights  \\\n",
              "0    23726706 2022-06-05      False            90.00               2   \n",
              "1    23726706 2022-06-06      False            90.00               2   \n",
              "2    23726706 2022-06-07      False            90.00               2   \n",
              "\n",
              "   maximum_nights  \n",
              "0            1125  \n",
              "1            1125  \n",
              "2            1125  "
            ],
            "text/html": [
              "\n",
              "  <div id=\"df-ab49f0ff-7b64-4482-a44a-fdf9809807a1\">\n",
              "    <div class=\"colab-df-container\">\n",
              "      <div>\n",
              "<style scoped>\n",
              "    .dataframe tbody tr th:only-of-type {\n",
              "        vertical-align: middle;\n",
              "    }\n",
              "\n",
              "    .dataframe tbody tr th {\n",
              "        vertical-align: top;\n",
              "    }\n",
              "\n",
              "    .dataframe thead th {\n",
              "        text-align: right;\n",
              "    }\n",
              "</style>\n",
              "<table border=\"1\" class=\"dataframe\">\n",
              "  <thead>\n",
              "    <tr style=\"text-align: right;\">\n",
              "      <th></th>\n",
              "      <th>listing_id</th>\n",
              "      <th>date</th>\n",
              "      <th>available</th>\n",
              "      <th>price_in_dollar</th>\n",
              "      <th>minimum_nights</th>\n",
              "      <th>maximum_nights</th>\n",
              "    </tr>\n",
              "  </thead>\n",
              "  <tbody>\n",
              "    <tr>\n",
              "      <th>0</th>\n",
              "      <td>23726706</td>\n",
              "      <td>2022-06-05</td>\n",
              "      <td>False</td>\n",
              "      <td>90.00</td>\n",
              "      <td>2</td>\n",
              "      <td>1125</td>\n",
              "    </tr>\n",
              "    <tr>\n",
              "      <th>1</th>\n",
              "      <td>23726706</td>\n",
              "      <td>2022-06-06</td>\n",
              "      <td>False</td>\n",
              "      <td>90.00</td>\n",
              "      <td>2</td>\n",
              "      <td>1125</td>\n",
              "    </tr>\n",
              "    <tr>\n",
              "      <th>2</th>\n",
              "      <td>23726706</td>\n",
              "      <td>2022-06-07</td>\n",
              "      <td>False</td>\n",
              "      <td>90.00</td>\n",
              "      <td>2</td>\n",
              "      <td>1125</td>\n",
              "    </tr>\n",
              "  </tbody>\n",
              "</table>\n",
              "</div>\n",
              "      <button class=\"colab-df-convert\" onclick=\"convertToInteractive('df-ab49f0ff-7b64-4482-a44a-fdf9809807a1')\"\n",
              "              title=\"Convert this dataframe to an interactive table.\"\n",
              "              style=\"display:none;\">\n",
              "        \n",
              "  <svg xmlns=\"http://www.w3.org/2000/svg\" height=\"24px\"viewBox=\"0 0 24 24\"\n",
              "       width=\"24px\">\n",
              "    <path d=\"M0 0h24v24H0V0z\" fill=\"none\"/>\n",
              "    <path d=\"M18.56 5.44l.94 2.06.94-2.06 2.06-.94-2.06-.94-.94-2.06-.94 2.06-2.06.94zm-11 1L8.5 8.5l.94-2.06 2.06-.94-2.06-.94L8.5 2.5l-.94 2.06-2.06.94zm10 10l.94 2.06.94-2.06 2.06-.94-2.06-.94-.94-2.06-.94 2.06-2.06.94z\"/><path d=\"M17.41 7.96l-1.37-1.37c-.4-.4-.92-.59-1.43-.59-.52 0-1.04.2-1.43.59L10.3 9.45l-7.72 7.72c-.78.78-.78 2.05 0 2.83L4 21.41c.39.39.9.59 1.41.59.51 0 1.02-.2 1.41-.59l7.78-7.78 2.81-2.81c.8-.78.8-2.07 0-2.86zM5.41 20L4 18.59l7.72-7.72 1.47 1.35L5.41 20z\"/>\n",
              "  </svg>\n",
              "      </button>\n",
              "      \n",
              "  <style>\n",
              "    .colab-df-container {\n",
              "      display:flex;\n",
              "      flex-wrap:wrap;\n",
              "      gap: 12px;\n",
              "    }\n",
              "\n",
              "    .colab-df-convert {\n",
              "      background-color: #E8F0FE;\n",
              "      border: none;\n",
              "      border-radius: 50%;\n",
              "      cursor: pointer;\n",
              "      display: none;\n",
              "      fill: #1967D2;\n",
              "      height: 32px;\n",
              "      padding: 0 0 0 0;\n",
              "      width: 32px;\n",
              "    }\n",
              "\n",
              "    .colab-df-convert:hover {\n",
              "      background-color: #E2EBFA;\n",
              "      box-shadow: 0px 1px 2px rgba(60, 64, 67, 0.3), 0px 1px 3px 1px rgba(60, 64, 67, 0.15);\n",
              "      fill: #174EA6;\n",
              "    }\n",
              "\n",
              "    [theme=dark] .colab-df-convert {\n",
              "      background-color: #3B4455;\n",
              "      fill: #D2E3FC;\n",
              "    }\n",
              "\n",
              "    [theme=dark] .colab-df-convert:hover {\n",
              "      background-color: #434B5C;\n",
              "      box-shadow: 0px 1px 3px 1px rgba(0, 0, 0, 0.15);\n",
              "      filter: drop-shadow(0px 1px 2px rgba(0, 0, 0, 0.3));\n",
              "      fill: #FFFFFF;\n",
              "    }\n",
              "  </style>\n",
              "\n",
              "      <script>\n",
              "        const buttonEl =\n",
              "          document.querySelector('#df-ab49f0ff-7b64-4482-a44a-fdf9809807a1 button.colab-df-convert');\n",
              "        buttonEl.style.display =\n",
              "          google.colab.kernel.accessAllowed ? 'block' : 'none';\n",
              "\n",
              "        async function convertToInteractive(key) {\n",
              "          const element = document.querySelector('#df-ab49f0ff-7b64-4482-a44a-fdf9809807a1');\n",
              "          const dataTable =\n",
              "            await google.colab.kernel.invokeFunction('convertToInteractive',\n",
              "                                                     [key], {});\n",
              "          if (!dataTable) return;\n",
              "\n",
              "          const docLinkHtml = 'Like what you see? Visit the ' +\n",
              "            '<a target=\"_blank\" href=https://colab.research.google.com/notebooks/data_table.ipynb>data table notebook</a>'\n",
              "            + ' to learn more about interactive tables.';\n",
              "          element.innerHTML = '';\n",
              "          dataTable['output_type'] = 'display_data';\n",
              "          await google.colab.output.renderOutput(dataTable, element);\n",
              "          const docLink = document.createElement('div');\n",
              "          docLink.innerHTML = docLinkHtml;\n",
              "          element.appendChild(docLink);\n",
              "        }\n",
              "      </script>\n",
              "    </div>\n",
              "  </div>\n",
              "  "
            ]
          },
          "metadata": {},
          "execution_count": 324
        }
      ],
      "source": [
        "# The Calendar DataFrame!\n",
        "df_cal.head(3)"
      ]
    },
    {
      "cell_type": "markdown",
      "id": "b686c3f4-2f95-4a19-912f-b950cea40d0c",
      "metadata": {
        "id": "b686c3f4-2f95-4a19-912f-b950cea40d0c"
      },
      "source": [
        "---\n",
        "\n",
        "#### (Extra Credit) Task 15: Minimum stay\n",
        "\n",
        "[*\\[Related section on CoRise\\]*](https://corise.com/course/python-for-data-science/v2/module/merging-pros)\n",
        "\n",
        "You are looking to stay at the Airbnb for a minimum of three days, as you think that bookings with a minimum stay of three days are more likely to have discount prices. Since you are unsure which dates you want to book, you'd like to exclude all `listing_ids` that go below that threshold of three days no matter what time of year. \n",
        "\n",
        "With these listings excluded, you would like to see the total expected booking price for five days: \n",
        "\n",
        "1. Create a list of all **unique** entries for `listing_id` that go below the 3-day threshold\n",
        "1. Remove them with the provided remove code\n",
        "1. Calculate the price of booking a listing for five days by multiplying the current day by 5, and assign this to a column called `five_day_dollar_price`"
      ]
    },
    {
      "cell_type": "code",
      "execution_count": null,
      "id": "67b93fad-e42f-42b8-bb85-0a57166ecf3a",
      "metadata": {
        "id": "67b93fad-e42f-42b8-bb85-0a57166ecf3a",
        "colab": {
          "base_uri": "https://localhost:8080/"
        },
        "outputId": "f2020372-6642-4af9-f707-39d1c795575f"
      },
      "outputs": [
        {
          "output_type": "stream",
          "name": "stdout",
          "text": [
            "[35815036, 623123, 627213, 633585, 634170, 653459, 658063, 660856, 664697, 667305, 679838, 685990, 689623, 702894, 705509, 708528, 719623, 728144, 729317, 730916, 733654, 740616, 741043, 742160, 746067, 754020, 754613, 758475, 759060, 759402, 771217, 775655, 776288, 778820, 800723, 805330, 816940, 818085, 818881, 834233, 835627, 847093, 853645, 854328, 862411, 874340, 874688, 879986, 1162769, 1174506, 1182421, 1195666, 1224695, 1225622, 1236227, 1250364, 1250716, 1260229, 1271700, 1272352, 1291054, 1311373, 1315392, 1316990, 1320353, 1320438, 1321735, 1323521, 1331157, 1338064, 1338633, 1354077, 1364013, 1366058, 1375601, 1377662, 1383369, 1383494, 1394668, 1397317, 1408035, 1427610, 1447217, 1468473, 1482038, 1511360, 1514368, 1517398, 1523635, 1533103, 1534317, 1566348, 1568669, 1570315, 1580186, 1586071, 1601408, 1603630, 1605387, 1620658, 2080427, 2088011, 2090727, 2097548, 2116479, 2116719, 2144304, 2144308, 2207534, 2224903, 2235708, 2255109, 2344785, 2353432, 2368869, 2376883, 2384332, 2388275, 2400486, 2405360, 2435572, 2455913, 2459307, 2469007, 2471617, 2474754, 2476314, 2534166, 2573607, 2574202, 2606957, 2623099, 2633912, 2638773, 2639773, 2648251, 2667413, 2668398, 2697739, 2708863, 2739228, 2788545, 2797128, 3388684, 3388764, 3389300, 3407896, 3413219, 3430456, 3432883, 3436527, 3459981, 3461086, 3492282, 3500433, 3501084, 3504128, 3505002, 3508800, 3519739, 3565477, 3577411, 3590060, 3604547, 3620791, 3690880, 3696035, 3698780, 3700218, 3708105, 3722301, 3724060, 3758059, 3763507, 3763895, 3781388, 3793956, 3804795, 3829648, 3840321, 3841266, 3850766, 3853993, 3856186, 3856777, 3879930, 3911407, 3917964, 3926355, 3929712, 3934811, 3938749, 3955896, 3974283, 3982031, 4011762, 4029316, 4035170, 4043288, 4052965, 4057394, 4062563, 4064519, 4096584, 4147668, 4150731, 4157853, 4158675, 4162988, 4171701, 4185598, 4185741, 4187658, 4209897, 4216576, 4224540, 4248769, 4282415, 4295087, 4299280, 4314620, 4320334, 4339471, 4349963, 4374040, 4382235, 4382332, 4386276, 4416539, 4426990, 4435968, 4445818, 4448285, 4455237, 4467898, 4487975, 4488692, 4523624, 4530308, 4543149, 4590871, 4591192, 4591819, 4610966, 4614017, 6057672, 6068622, 6075433, 6077424, 6085243, 6091841, 6114406, 6120031, 6196535, 6196745, 6236389, 6243633, 6255736, 6258741, 6259402, 6260326, 6264293, 6283404, 6285243, 6294513, 6297430, 6323190, 6340144, 6356866, 6358749, 6361722, 6371658, 6372597, 6375033, 6392669, 6418164, 6429875, 6430582, 6439888, 6441316, 6442389, 6447564, 6463787, 6471162, 6487791, 6524982, 6532120, 6535641, 6559031, 6564052, 6564747, 6594177, 6605182, 6608540, 6619931, 6620804, 7292517, 7324648, 7332860, 7335372, 7338230, 7352133, 7378848, 7379564, 7382264, 7394725, 7416224, 7450864, 7511434, 7523012, 7539137, 7555544, 7566493, 7595349, 7597331, 7675556, 7704803, 7704893, 7743717, 7757866, 7786634, 7786801, 7787732, 7864783, 7895182, 7911798, 7924857, 7925449, 7929179, 7932992, 7945458, 7981030, 8006682, 8021127, 8073314, 8079259, 8100829, 8111159, 8122504, 8146052, 8187901, 8188948, 8189988, 8196105, 8278300, 8281663, 8359684, 8361053, 8377415, 8384069, 8475898, 8502593, 8513567, 8535626, 8551630, 8573112, 8578108, 8584779, 8591687, 8606715, 8644656, 8660698, 8707883, 8714969, 8725786, 8754550, 8770120, 8776772, 8792635, 8792777, 8798384, 8835898, 8872533, 8877094, 8879722, 8896452, 8913666, 8920212, 8930278, 8977362, 9017567, 9021865, 9045244, 9070642, 9075972, 9078341, 9103703, 9104541, 9108470, 9181640, 9186603, 9197358, 9247120, 9254675, 9271262, 9272999, 9273467, 9310110, 9322953, 9340964, 9343949, 9360964, 9420691, 9444516, 9461010, 9461142, 9490497, 9506709, 9509889, 9530785, 9536529, 9538986, 9567895, 9584580, 9632913, 9659173, 9673745, 9763557, 9799012, 9808608, 9815325, 9816257, 9895854, 9903960, 9912550, 9921636, 9981383, 9983460, 9996040, 10027284, 10036864, 10055684, 10080818, 10094980, 11317473, 11354028, 11358343, 11382530, 11386080, 11404636, 11426523, 11430214, 11454092, 11517922, 11524594, 11562257, 11597319, 11600796, 11645006, 11649293, 11650024, 11665821, 11689351, 11694315, 11711052, 11747373, 11764965, 11790061, 11822995, 11843850, 11846023, 11858660, 11867547, 11897715, 11942440, 11962960, 12006505, 12039992, 12051114, 12059101, 12065591, 12082536, 12088607, 12117800, 12130964, 12139525, 12164521, 12196335, 12213244, 12215990, 12216213, 12221842, 12227324, 12251311, 12347938, 12371557, 12373532, 12384368, 15152694, 15167502, 15209631, 15210146, 15213109, 15256155, 15260123, 15276505, 15276959, 15310556, 15351762, 15351988, 15374358, 15382115, 15404775, 15416044, 15441407, 15441753, 15465365, 15481220, 15504280, 15534081, 15546882, 15564496, 15574248, 15591889, 15599773, 15611604, 15630976, 15642871, 15645217, 15651912, 15652115, 15658599, 15659592, 15693863, 15713472, 15752260, 15756281, 15757001, 15771182, 15771785, 15780515, 15785019, 15797457, 15854242, 15861762, 15911681, 15926617, 15936857, 15946060, 15953085, 15959684, 15995195, 15997346, 16003294, 16021092, 16081933, 16107987, 16137827, 16153200, 16153298, 16185181, 16197958, 16208749, 16211736, 16222778, 16235797, 16247842, 16270813, 16317272, 16328805, 16341879, 16342515, 16350016, 16355117, 16361896, 16388616, 16389105, 16391366, 16404688, 16422457, 16425583, 16438704, 16486501, 16529838, 16529952, 16540398, 16610138, 16625355, 16630995, 16640930, 16671672, 16687949, 16697065, 16710492, 16715510, 16721604, 16751073, 16751079, 16761223, 16763977, 16775644, 16788501, 16804355, 16852387, 16878229, 16996727, 17007711, 17011476, 17011879, 17026187, 17026274, 17042462, 17050106, 17115931, 17136286, 17150944, 17236712, 17252191, 17297257, 17311781, 17327485, 17390004, 17435636, 17457335, 17461238, 18135326, 18145166, 18155399, 18155892, 18172462, 18193212, 18194727, 18210319, 18225467, 18233200, 18248976, 18261259, 18261977, 18269651, 18270441, 18285132, 18298091, 18306363, 18322730, 18335433, 18362594, 18392202, 18405300, 18410648, 18458032, 18480843, 18505331, 18523486, 18531581, 18544524, 18557924, 18558833, 18559804, 18559856, 18559901, 18573628, 18588879, 18589514, 18604324, 18606303, 18609671, 18613035, 18622311, 18622506, 18631508, 18640810, 18650212, 18661034, 18665291, 18666266, 18667438, 18687801, 18718588, 18728120, 18733380, 18750842, 18780017, 18784059, 18800259, 18816109, 18816251, 18816460, 18817028, 18844549, 18855539, 18878996, 18882208, 18882385, 18886577, 18906944, 18912531, 18945179, 18954525, 18960017, 18972421, 18993961, 19006771, 19013423, 19032996, 19051224, 19061374, 19093068, 19136133, 19138700, 19141385, 19174314, 19183967, 19200364, 19269372, 19278681, 19284547, 19300302, 19321849, 19330535, 19339621, 19343174, 19351570, 19353540, 19362044, 19384110, 19397125, 19397676, 19423489, 19444004, 19461718, 19498871, 19523311, 19548304, 19550285, 19559154, 19562542, 19616960, 19620663, 19634664, 19641424, 19644530, 19666838, 19667159, 19667168, 19670359, 19685954, 19687004, 19689332, 19715150, 19734830, 19757448, 19771245, 19782977, 19783215, 19795667, 19803300, 19804632, 19820314, 19835662, 19842083, 19845595, 19854248, 19854424, 19861238, 19866276, 19868291, 19881995, 19884996, 19885353, 19885870, 19939321, 19942146, 19960330, 19973782, 19975805, 19996091, 20001770, 20026016, 20029085, 20063640, 20101951, 20164112, 20183556, 20186480, 20190961, 20197910, 20226379, 20238854, 20259345, 20325871, 20351701, 20357045, 20430895, 20451620, 20465459, 20488828, 20498694, 20499230, 20516768, 20549160, 20596974, 20618345, 20644162, 20669946, 20672438, 20685033, 20689222, 20692335, 20701838, 20707848, 20735962, 20736260, 20743521, 20756989, 20792976, 20793220, 20808175, 20838248, 20857622, 20907952, 20922280, 20967046, 20981331, 21002581, 21005647, 21009564, 21024509, 21050762, 21073542, 21084288, 21093374, 21103093, 21114452, 21118786, 21133841, 21184567, 21187182, 21211980, 21215640, 21216557, 21226334, 21247963, 21261630, 21264368, 21287496, 21288930, 21317969, 21343131, 21353774, 21363769, 21364149, 21374801, 21511394, 21540463, 21546628, 21556688, 21574619, 21578338, 21633099, 21640663, 21653143, 21686745, 21687625, 21703780, 21731645, 21735807, 21746000, 21747088, 21747510, 21761307, 21778270, 21783686, 21783756, 21790701, 21792561, 21822487, 21825799, 21843715, 21859606, 21905300, 21930458, 21943080, 21954616, 21964561, 21976797, 21980258, 22014200, 22028930, 22032316, 22041896, 22055478, 22056733, 22062268, 22081165, 22111919, 22120577, 22148520, 22154721, 22168849, 22188437, 22198208, 22216801, 22263693, 22285140, 22289473, 22299023, 22367852, 22383098, 22383562, 22383593, 22383767, 22405862, 22458840, 22500574, 22524410, 22529423, 22543359, 22559057, 22581281, 22598232, 22605745, 22609716, 22620752, 22627191, 22643412, 22663747, 22670599, 22679414, 22697827, 22712436, 22716592, 22732874, 22738244, 22758348, 22822451, 22853545, 22872252, 22883559, 22896629, 22902625, 22919004, 22966086, 22975936, 23059863, 23083927, 23105158, 23105451, 23105565, 23266609, 23272847, 23302270, 23312970, 23326462, 23364006, 23368382, 23390929, 23404925, 23414875, 23424276, 23444823, 23462549, 23493489, 23552547, 23558784, 23593065, 23606967, 23607656, 23628998, 23642726, 23647380, 23647458, 23662346, 23678341, 23683563, 23728825, 23729261, 23776178, 23784352, 23802729, 23806047, 23815895, 23818476, 23832372, 23852143, 23890875, 23896625, 23937912, 23963946, 23971011, 23984557, 24003503, 24018750, 24035907, 24068988, 24083035, 24134953, 24137393, 24180245, 24199941, 24202491, 24217698, 24238949, 24276106, 24284070, 24305993, 24362175, 24439562, 24504360, 24507312, 24534357, 24556511, 24565009, 24590980, 24591991, 24602294, 24615144, 24615621, 24646128, 24682460, 24707022, 24712459, 24722485, 24730066, 24743141, 24766967, 24815236, 24827860, 24840523, 24870809, 24901304, 24914093, 24925828, 24965334, 24981353, 24998819, 24999963, 25004866, 25011380, 25021801, 25023128, 25051800, 25133928, 25159136, 25159692, 25162622, 25179644, 25227661, 25257623, 25273911, 25310162, 25310429, 25330294, 25331338, 25336232, 25338761, 25339698, 25341350, 25348531, 25391426, 25409372, 25414220, 25421355, 25435485, 25436146, 25436200, 25463991, 25472002, 25500038, 25735095, 25760744, 25775511, 25802945, 25818312, 25853345, 25898486, 25902355, 25960980, 25968358, 25975448, 25994034, 26000168, 26003691, 26029298, 26035980, 26061816, 26071272, 26079314, 26099020, 26105238, 26111547, 26114217, 26116665, 26139659, 26147088, 26160300, 26162908, 26185801, 26215451, 26248015, 26265461, 26271194, 26275584, 26290393, 26292322, 26294197, 26312125, 26312130, 26314462, 26329643, 26383495, 26431371, 26465711, 26489486, 26489604, 26515155, 26516140, 26519263, 26551134, 26593646, 26597244, 26625840, 26728654, 26728984, 26736625, 26744310, 26744905, 26744928, 26766473, 26781097, 26781206, 26793214, 26794556, 26794663, 26829033, 26832364, 26838436, 26842663, 26854143, 26869538, 26879765, 26907262, 26936908, 26985641, 27004085, 27020496, 27024242, 27051213, 27058302, 27061787, 27127011, 27160776, 27179290, 27184333, 27221235, 27239002, 27319090, 27348973, 27362571, 27379405, 27396373, 27397058, 27410925, 27426691, 27478968, 27482148, 27520015, 27525864, 27546826, 27595911, 27608003, 27616092, 27622005, 27677715, 27713449, 27713691, 27719323, 27745560, 27755390, 27774674, 27774794, 27800380, 27825991, 27833698, 27851626, 27865341, 27871686, 27903955, 27913527, 27916775, 27940393, 28042923, 28059954, 28064282, 28102597, 28146045, 28146773, 28198817, 28215817, 28234064, 28236509, 28252823, 28270449, 28329497, 28448785, 28515027, 28516161, 28517324, 28544205, 28578641, 28582447, 28603995, 28706467, 28750364, 28757751, 28768768, 28806971, 28854693, 28887550, 28902322, 28924243, 28946381, 28946914, 28970533, 28973269, 28983337, 28984522, 29046160, 29071896, 29116941, 29181440, 29251403, 29256776, 29268359, 29275106, 29302592, 29304751, 29307344, 29335948, 29350469, 29350903, 29389947, 29435883, 29456107, 29456931, 29471672, 29477986, 29568363, 29578670, 29648361, 29668487, 29678104, 29678352, 29705321, 29730599, 29750219, 29795660, 29845284, 29845425, 29868977, 29919168, 29919544, 29953708, 29959998, 29961732, 30030055, 30041745, 30042149, 30100534, 30108002, 30140860, 30141051, 30142159, 30152254, 30169743, 30202932, 30251394, 30261748, 30264925, 30265278, 30265387, 30282572, 30356862, 30359891, 30371430, 30394912, 30395086, 30453053, 30456037, 30467382, 30505312, 30551730, 30562707, 30691249, 30757070, 30762384, 30762441, 30765293, 30814294, 30855167, 30872076, 30901852, 30905786, 30905979, 30928188, 30933786, 30946085, 31050856, 31064558, 31072230, 31086086, 31095874, 31100723, 31110035, 31150995, 31164355, 31164874, 31196431, 31234848, 31352081, 31408508, 31536003, 31552683, 31559235, 31561365, 31582709, 31606186, 31632004, 31709186, 31731136, 31742073, 31871461, 31917406, 31940174, 31942766, 31944927, 31944954, 31945032, 31945057, 31945078, 31945123, 31945182, 31945260, 31945342, 31948590, 31979911, 31997903, 32067350, 32068256, 32090247, 32135800, 32155043, 32234104, 32234160, 32234250, 32234486, 32234536, 32234583, 32234666, 32234710, 32235074, 32235121, 32235168, 32235313, 32235358, 32235546, 32250908, 32253177, 32280609, 32284498, 32304359, 32325935, 32331255, 32371223, 32413659, 32421030, 32459939, 32485135, 32485928, 32488859, 32538281, 32541862, 32600527, 32624418, 32624420, 32624425, 32624427, 32624429, 32624963, 32624966, 32624969, 32625293, 32679807, 32683114, 32692691, 32707589, 32717807, 32774323, 32780893, 32796572, 32806651, 32806990, 32861412, 32919529, 32948155, 32956414, 32973071, 32974828, 33008703, 33008830, 33008921, 33013917, 33026828, 33029686, 33036837, 33042335, 33061795, 33087684, 33089191, 33129141, 33180808, 33184440, 33304570, 33305599, 33359293, 33361465, 33364999, 33412851, 33412977, 33413159, 33413180, 33424512, 33441780, 33503225, 33504455, 33516464, 33553227, 33568150, 33571399, 33575281, 33605770, 33606667, 33633691, 33649321, 33660154, 33677630, 33734417, 33823199, 33875782, 33877752, 33889977, 33904432, 33926117, 33932364, 33980766, 33986110, 34008858, 34012458, 34032786, 34053070, 34070600, 34087777, 34137575, 34146515, 34174819, 34242751, 34268932, 34274076, 34298333, 34349936, 34349938, 34349941, 34349950, 34382716, 34392876, 34463121, 34505122, 34539389, 34555439, 34558486, 34587245, 34611784, 34631259, 34640050, 34644584, 34646769, 34677557, 34714475, 34733784, 34750770, 34798355, 34830481, 34836972, 34877330, 34936516, 34982496, 34999754, 35078404, 35104980, 35118660, 35119963, 35140626, 35143037, 35145947, 35157940, 35162748, 35176175, 35212974, 35256770, 35273376, 35302424, 35332756, 35338083, 35344798, 35362184, 35364203, 35367206, 35367353, 35367609, 35377203, 35394324, 35396160, 35421073, 35441950, 35484494, 35507173, 35507851, 35526085, 35610949, 35612947, 35628530, 35632302, 35632344, 35634457, 35637048, 35644860, 35659168, 35693822, 35724107, 35732109, 35764214, 35822324, 35825085, 35826322, 35855405, 35859555, 35860119, 35876292, 35889138, 35925638, 35927687, 36090396, 36093552, 36111700, 36139698, 36143549, 36163282, 36192472, 36231973, 36256397, 36258613, 36259851, 36291783, 36301731, 36309359, 36310632, 36324929, 36342920, 36346375, 36347815, 36369889, 36377994, 36415579, 36445013, 36446524, 36469116, 36519601, 36556540, 36559163, 36561057, 36561668, 36597869, 36617193, 36617492, 36697451, 36711377, 36732140, 36756084, 36760602, 36784801, 36790110, 36796300, 36803582, 36825895, 36863216, 36863220, 36869704, 36898170, 36900570, 36953210, 36960971, 36967525, 36972460, 36997955, 37011867, 37014677, 37048856, 37085081, 37113944, 37117584, 37137406, 37164265, 37231449, 37318497, 37324008, 37326878, 37344101, 37348417, 37378443, 37386447, 37412883, 37493556, 37507709, 37510618, 37517388, 37528056, 37554677, 37585995, 37590988, 37591658, 37614789, 37643572, 37645132, 37680995, 37762974, 37804394, 37806154, 37834161, 37869132, 37937149, 37959744, 37964946, 37977698, 37995064, 38012872, 38033435, 38082061, 38141656, 38169856, 38214492, 38260444, 38277051, 38339642, 38339700, 38377537, 38422857, 38425685, 38484240, 38485099, 38535377, 38547079, 38576040, 38612673, 38631602, 38632941, 38634976, 38726173, 38754676, 38754914, 38808011, 38819542, 38869887, 38894386, 38903493, 38932703, 38967864, 39026851, 39028077, 39040034, 39040826, 39085563, 39085747, 39096717, 39143576, 39143794, 39173597, 39194258, 39225188, 39267402, 39328397, 39333792, 39431135, 39472215, 39497428, 39524000, 39529278, 39529472, 39543731, 39607939, 39615215, 39630683, 39631953, 39642322, 39664481, 39684058, 39725240, 39752904, 39795182, 39826617, 39830255, 39830817, 39833181, 39834162, 39837835, 39896329, 39933052, 39934996, 39957137, 39969190, 39983652, 40002616, 40044862, 40104344, 40110758, 40139858, 40150321, 40171341, 40191258, 40222708, 40225175, 40231867, 40249718, 40273013, 40296030, 40304099, 40317269, 40335482, 40362812, 40367212, 40368512, 40370727, 40372670, 40381500, 40417258, 40438052, 40486425, 40502734, 40508791, 40525783, 40547032, 40553422, 40559714, 40572114, 40573531, 40591767, 40611323, 40614744, 40626325, 40635712, 40646070, 40651985, 40668309, 40671860, 40712116, 40717994, 40726409, 40745821, 40756989, 40792169, 40798934, 40815993, 40822137, 40832633, 40832877, 40862073, 40894273, 40915515, 40935962, 40960069, 40995518, 41041960, 41141392, 41186155, 41204503, 41254660, 41258369, 41283335, 41329384, 41336570, 41339519, 41363443, 41389444, 41401035, 41448877, 41468606, 41513329, 41514807, 41515131, 41529465, 41548225, 41551571, 41619821, 41660982, 41681293, 41709087, 41710225, 41710302, 41728240, 41754812, 41768028, 41798620, 41831014, 41866521, 41880289, 41931770, 41936070, 41967924, 41972841, 41996133, 41996520, 42015255, 42019965, 42029273, 42109978, 42128777, 42150551, 42166001, 42192150, 42250272, 42251324, 42287405, 42289865, 42312473, 42330275, 42330401, 42367204, 42367653, 42374092, 42393049, 42400434, 42417397, 42432365, 42446188, 42446222, 42446371, 42464907, 42470025, 42479193, 42479237, 42482030, 42510492, 42550739, 42560588, 42615009, 42617346, 42636119, 42658926, 42661731, 42728862, 42801703, 42834134, 43042407, 43049949, 43233137, 43282793, 43306914, 43343986, 43388765, 43388883, 43486642, 43513136, 43574908, 43574912, 43574913, 43574916, 43574919, 43575827, 43575856, 43635845, 43661059, 43673580, 43692585, 43693583, 43699546, 43705764, 43707019, 43707658, 43707910, 43708450, 43709001, 43709075, 43723802, 43733736, 43740697, 43800026, 43800449, 43815087, 43830272, 43841817, 43904607, 43913659, 43919608, 43920891, 43922419, 43925314, 43953543, 43978539, 43990767, 44025149, 44038728, 44067837, 44074430, 44083101, 44085410, 44087085, 44095512, 44130900, 44160789, 44171774, 44184646, 44189424, 44192280, 44269819, 44297369, 44304865, 44310951, 44310953, 44314637, 44331403, 44352581, 44352723, 44352762, 44352837, 44353015, 44365699, 44365715, 44378350, 44384486, 44387773, 44399682, 44423940, 44423961, 44423973, 44448883, 44456510, 44458650, 44485135, 44497608, 44498237, 44526245, 44529802, 44544597, 44550032, 44583132, 44586588, 44587354, 44590513, 44654593, 44675416, 44695126, 44733441, 44880392, 44887624, 44947670, 44955539, 44986373, 44997929, 45045046, 45047727, 45051672, 45051990, 45052084, 45052408, 45053158, 45061006, 45072261, 45094902, 45109092, 45196643, 45210760, 45263913, 45280010, 45311452, 45327372, 45341803, 45356991, 45357811, 45364807, 45366221, 45372746, 45377802, 45394197, 45420897, 45429116, 45457698, 45461175, 45463326, 45464344, 45464448, 45488821, 45539425, 45539466, 45539504, 45539565, 45539609, 45539647, 45539684, 45539735, 45539791, 45539834, 45539870, 45539926, 45586950, 45588996, 45589408, 45589540, 45589621, 45589687, 45589752, 45589826, 45589926, 45600909, 45615057, 45615193, 45615277, 45615306, 45615322, 45635875, 45646002, 45646849, 45694235, 45695711, 45744936, 45763935, 45822528, 45822978, 45836872, 45838899, 45841645, 45889758, 45891001, 45949435, 45953998, 45966716, 45982523, 45998980, 45999354, 46047915, 46115777, 46184998, 46254494, 46345724, 46346104, 46346167, 46346561, 46346815, 46347062, 46347644, 46347796, 46348037, 46348181, 46368959, 46369075, 46369170, 46369237, 46369286, 46374246, 46389970, 46465127, 46478635, 46498605, 46591961, 46591985, 46592004, 46592046, 46592073, 46592126, 46592145, 46592190, 46668387, 46701805, 46705624, 46718762, 46745762, 46773729, 46796165, 47017355, 47017385, 47130044, 47352181, 47404893, 47469046, 47573141, 47573699, 47709909, 47728246, 47810062, 47810074, 47810090, 47839531, 47882460, 47899171, 47917082, 47958892, 47989069, 48004432, 48004711, 48004848, 48004872, 48004925, 48005004, 48005116, 48008046, 48008092, 48008123, 48008144, 48036961, 48037184, 48037288, 48037306, 48037887, 48037901, 48037915, 48127625, 48127633, 48127644, 48127657, 48127663, 48127669, 48127714, 48127716, 48127717, 48127726, 48127732, 48153670, 48202921, 48220980, 48306436, 48362375, 48559369, 48567496, 48583776, 48636182, 48697718, 48708182, 48714757, 48778366, 48818438, 48945665, 48947535, 48949401, 48949415, 48985640, 49008373, 49042011, 49051706, 49052116, 49052224, 49085366, 49119460, 49120098, 49128594, 49156450, 49193866, 49207726, 49318854, 49342367, 49357760, 49375834, 49434019, 49473308, 49473475, 49473555, 49473612, 49473717, 49473775, 49475051, 49478598, 49508887, 49536431, 49560108, 49604175, 49604781, 49607025, 49688654, 49698277, 49700139, 49720365, 49725678, 49739955, 49769129, 49788706, 49820524, 49821276, 49833858, 49843448, 49846930, 49852379, 49880596, 49882262, 49892420, 49898432, 49904641, 49940021, 49940100, 49940198, 49940274, 49940338, 49940408, 49963170, 50021981, 50028362, 50068082, 50068790, 50076767, 50078430, 50079799, 50116117, 50116226, 50123424, 50126016, 50135127, 50150930, 50161619, 50164721, 50165985, 50224331, 50242650, 50243968, 50259605, 50273973, 50324431, 50325628, 50335507, 50341457, 50342109, 50342116, 50351833, 50353348, 50361586, 50369038, 50370847, 50371037, 50372278, 50383849, 50394338, 50397584, 50398449, 50409281, 50416453, 50417783, 50439070, 50451988, 50452179, 50452284, 50452369, 50457012, 50457058, 50459483, 50461393, 50469138, 50511985, 50515860, 50520756, 50522635, 50537139, 50544630, 50557106, 50563868, 50564592, 50568202, 50586333, 50596492, 50605312, 50608863, 50613624, 50625568, 50630087, 50631207, 50648502, 50650213, 50650317, 50664766, 50666229, 50673515, 50694554, 50695485, 50713619, 50739369, 50742990, 50743857, 50749565, 50760230, 50770030, 50806119, 50815719, 50820297, 50824558, 50840324, 50840573, 50840955, 50844052, 50844158, 50848503, 50861438, 50886022, 50894881, 50903699, 50928224, 50948870, 50967357, 50986632, 50987627, 50996767, 50997803, 51011718, 51015371, 51022024, 51031838, 51035287, 51036213, 51055965, 51061195, 51062932, 51100945, 51116938, 51119975, 51121596, 51123644, 51140438, 51144055, 51160914, 51171051, 51202527, 51219225, 51223482, 51241075, 51260710, 51276445, 51276785, 51278872, 51283980, 51297188, 51314809, 51318268, 51380625, 51382300, 51383116, 51404069, 51416595, 51446589, 51447904, 51457335, 51476794, 51477304, 51477345, 51483567, 51501124, 51516943, 51535182, 51546018, 51546609, 51549763, 51558148, 51566951, 51567924, 51572428, 51581410, 51602353, 51631137, 51631847, 51647165, 51675569, 51679327, 51700004, 51701187, 51709813, 51718773, 51740560, 51741714, 51748201, 51760555, 51761424, 51790429, 51809118, 51812668, 51842355, 51853389, 51914508, 51918907, 51938910, 51942332, 51953045, 51961765, 51977144, 51977694, 51984973, 51993975, 51999409, 52082799, 52119180, 52119859, 52120325, 52124179, 52137043, 52141403, 52182300, 52200536, 52231889, 52277444, 52293145, 52329284, 52341614, 52364582, 52378184, 52379595, 52393761, 52397920, 52434885, 52446842, 52447622, 52453800, 52467566, 52481219, 52482358, 52530556, 52531144, 52541885, 52545324, 52546590, 52564798, 52575047, 52576812, 52581242, 52586742, 52587724, 52588678, 52598793, 52630801, 52630965, 52643853, 52645790, 52662633, 52684860, 52685673, 52687629, 52712134, 52716821, 52728249, 52747627, 52771658, 52774228, 52785666, 52818992, 52849571, 52854767, 52855204, 52855263, 52855388, 52855452, 52855508, 52855807, 52855883, 52873136, 52873231, 52873591, 52873660, 52873992, 52874271, 52874661, 52877343, 52890371, 52894862, 52913830, 52927383, 52931273, 52942756, 52944237, 52947886, 52967522, 52976381, 52979602, 52998800, 52998803, 53019422, 53020790, 53039659, 53041583, 53049528, 53061883, 53073076, 53077415, 53101888, 53104553, 53120910, 53121415, 53122889, 53139571, 53139800, 53140075, 53149234, 53150158, 53180397, 53196713, 53202928, 53207696, 53212977, 53214172, 53247167, 53247697, 53248489, 53248887, 53274069, 53285688, 53286589, 53321185, 53338606, 53352974, 53370273, 53381130, 53383112, 53389641, 53390946, 53391192, 53391338, 53391440, 53398317, 53401296, 53424839, 53442790, 53453495, 53470378, 53474727, 53478823, 53495461, 53508687, 53528358, 53544518, 53544817, 53546021, 53559188, 53563435, 53569251, 53578745, 53585990, 53588606, 53598417, 53668495, 53669920, 53677632, 53702944, 53720274, 53736450, 53737795, 53744594, 53762178, 53777552, 53790852, 53803653, 53805044, 53811328, 53811934, 53825405, 53886397, 53897580, 53929419, 53982169, 54003016, 54115977, 54126733, 54139534, 54171843, 54179027, 54188619, 54189040, 54189209, 54203826, 54220198, 54226395, 54239340, 54239496, 54244720, 54271157, 54298841, 54302897, 54311689, 54361387, 54394856, 54407030, 501281870137313788, 515877741103203497, 520893292534740250, 528115351231758926, 528636352894589646, 530432021374749727, 543574017266096903, 546866772550743908, 546897978264603893, 547748558323324810, 547876810495448182, 549012009520442628, 551470103531913655, 552037234042232469, 552703006680953442, 553261226074908416, 553406846725442580, 554125187195453744, 556483754558547811, 557093423441269178, 557658982213555652, 558480112972118314, 559127777385590386, 560681439204626628, 560742014605158658, 560743575785664831, 561377261110332673, 561460182307854931, 562119607971470052, 566557466875252858, 568520730880917893, 568523400177884625, 568561397403760678, 568683128219348239, 569282591407616624, 569457202123189275, 569535770000075953, 570029413851129083, 570339504904660544, 571526139623297641, 572471123023832053, 573483136389747902, 573803425562240254, 574423871863802609, 574644866441306990, 575023950670380431, 575042515086654943, 575048718901768808, 576801261429188355, 577190313072716463, 577331963117660103, 577887066010860721, 577933515685109273, 578754812446163259, 579390826319353837, 579392653502749270, 579400641330519460, 580235273130797322, 580783752645953519, 580870087750124077, 581577886011017374, 582398957093988972, 583090371841085010, 583137206507770352, 583806637571348776, 583906252685120317, 584770390438262895, 585125997570708212, 585169992038326843, 585247724655632639, 585914220965932557, 586257070522452076, 586499695764792130, 586917670534919357, 587385509884588735, 587436553754183598, 587514392024673557, 587718195447695888, 588123344477410536, 588859323308285214, 589607149380794757, 589766359288572451, 590353045193952809, 591245596613998801, 591716565334599367, 592389868426747777, 592398060470692016, 593119225573814452, 593180183681959296, 593246612591764664, 593262445300892211, 594553816419624266, 594722520230602404, 594854298993801505, 595268187100500387, 595443241894471762, 595598653682977026, 596158852834091274, 596389925106125864, 596814118237134461, 597004355411959102, 597470915724140369, 597534556147535926, 597752786821794473, 597767781644386044, 598055204080363568, 598364660031591022, 598406066619688775, 598612684037138242, 599054612718249605, 599095640730147281, 599218861101203441, 600524471532772090, 600545185087393058, 600545421995078797, 600546428941251893, 600546651070729657, 601997657540048927, 602194129214708156, 602210705078950336, 602527153934214960, 602564634587571667, 602856492345055461, 602863093410746913, 602886936540157928, 604014269161909064, 604710022784237976, 604745543366802953, 605508239313800929, 605610375296246237, 606169905637441819, 608536246270837272, 609144376373073488, 609374811502384994, 609918046357545444, 609999757735423530, 610660218154192492, 611230531714056452, 611879303566074240, 612094417027045777, 612191055973104135, 612241358185566923, 612741930550036307, 612771882888379983, 613469769708738317, 613500478135914459, 614943743736248682, 615857574806039717, 615995212766402639, 616361842418467519, 616386590175292607, 616408408099846675, 616458444741659045, 617097891864311863, 617352100838559116, 617354635479845621, 617532827349971988, 618044870846962669, 618071471104515879, 618474414572385604, 618520356924668002, 618617609243506899, 618804692907836170, 619083498750886769, 619259268660062192, 619283373356472530, 619401403184742881, 619478604219809197, 619993167609846775, 620023400983345580, 620061441154294012, 620070034725933753, 620126915169913943, 620327003425007313, 620663767810950300, 620967316656251342, 621500547074685687, 621544295248183694, 622120128447461144, 622220169007249576, 622238287526056184, 622263776078855761, 622354510554545290, 622795760782344487, 622889907692989569, 622916769642472548, 622947567186451732, 623201750975933531, 623857962400569829, 624394690254222967, 625015268274464831, 625174438951669974, 625185444849423243, 625302395492883269, 625308008614060373, 625685977663757826, 625977731759251719, 626569183713845105, 626587062366107498, 626610547000369019, 627169686444873266, 627286755565970242, 627476489305239298, 627519532626395402, 627891417402690059, 628244722853942086, 628589945973519902, 628811916868464597, 628996181635291978, 629329986469778119, 629460941602563897, 629476905961083370, 629488329829725670, 629514341698704548, 629517117901263593, 629532433959172365, 629676597318124080, 630092076020079689, 630184605437817439, 630800519680560015, 630864312147706096, 631007244808405101, 631084538508215083, 631105734755492637, 631198763606520986, 631410245565974891, 631521216552263082, 632250481384780225, 632252825456541774, 632402606851488948, 632507881583895011, 632528409759273128, 633278534286413952, 633796315749177482, 633832803967641553, 633913568632069213, 634085627560067297, 634453552898272361, 634731485567043081, 635252999610530089, 635568307239684295, 635858048233933008, 635933194690460544, 636044704413227178, 636651788208633453, 636664785664832691, 636747446572142340, 636752144003140378, 637434837344309279, 637512874278630453, 637657337500553660, 638234848994365972, 638241595563240026, 638359588804385859, 638394426406130664, 638771349935435180, 638923253439976801, 638943111845174427, 639818375705943065, 640200795441453216, 640454062441222339, 640513271677293480, 640524575959045684, 641131762118036107, 2107131, 43364131, 53577377, 49493100, 29979667, 52998236, 721551, 35284613, 28250151, 30230156, 2667099, 53329944, 21444254, 21766188, 6770035, 28769092, 50193216, 52878730, 53635673, 28769068, 6632081, 593891261618435959, 10311085, 50486260, 621515446402710188, 2306793, 33092917, 51418830, 33950278, 40944828, 26527398, 29499599, 43557102, 50973991, 36291998, 623889535522552113, 44174765, 49493264, 36438581, 594698265684708341, 24841425, 3287537, 33521588, 2203816, 27981057, 46032528, 52919823, 29979592, 41676821, 29553447, 47775661, 6621505, 43475436, 50957764, 24503914, 1910692, 606455633269754357, 43575751, 50335658, 24471898, 33293787, 550401, 22176775, 33092943, 41881450, 605481931318010161, 41942844, 31852191, 5080215, 15005354, 22966959, 32948461, 19234705, 6525679, 21778880, 4286529, 33092889, 33659476, 45049029, 9431320, 35541436, 37377771, 51801912, 24282521, 29345819, 17994728, 17933142, 49376693, 43576006, 29651790, 1353468, 617239931104877381, 17919935, 27459100, 13345207, 35680828, 53460037, 39516887, 51796348, 23347675, 1699370, 18541350, 2588415, 1259343, 34356003, 25776308, 51161993, 42696339, 2568856, 15018653, 42858753, 21794702, 613435506510943235, 39798460, 25045139, 51395892, 39415314, 51637855, 43124143, 22970197, 585126987652879523, 51029289, 44248265, 52275831, 7375698, 43575456, 23069605, 43678670, 22463309, 27133621, 40201943, 19571009, 18889460, 51709293, 44092833, 1817269, 29979551, 40606723, 29979535, 31564490, 50286442, 23577535, 2700444, 30464401, 36494655, 5973578, 20281880, 36381913, 599012351446769782, 40386142, 13724889, 29291959, 33092829, 420095, 33092974, 618774201413529753, 43576148, 27715944, 52050333, 50735423, 17567812, 50286394, 23054469, 40398745, 18323926, 11024345, 620789569856226256, 44062858, 29979611, 6834643, 12334831, 631673851461330200, 25925424, 52998638, 31632825, 18944964, 54290750, 2079114, 27331108, 7136326, 43864315, 13241680, 8573930, 23639176, 54389900, 31261503, 40606610, 40606689, 40606752, 41676601, 7285418, 1715371, 40322573, 40232738, 33508984, 13630147, 39159958, 608323174466251592, 36616151, 47709874, 50432232, 34168773, 34349975, 41629031, 3212754, 33604204, 41142989, 51725004, 20084434, 24627210, 50285002, 629678734621358370, 50859087, 40606574, 40606541, 28768981, 28769123, 48113682, 47352200, 48840480, 47717234, 557194226234491250, 578106411434562834, 53639028, 47775130, 47775552, 48005583, 35760705, 36900951, 2818, 44391, 49552, 55709, 55868, 80635, 97476, 137026, 162467, 168769, 169356, 171054, 179528, 188347, 193038, 214531, 222516, 245927, 252080, 262394, 274688, 286374, 286500, 290701, 291752, 304143, 306852, 307621, 308028, 311124, 327285, 343094, 350271, 367107, 367491, 379885, 396125, 402353, 414865, 437757, 438089, 440992, 441424, 446999, 450767, 462341, 503629, 505012, 505650, 508433, 515749, 515921, 517996, 522471, 538723, 556829, 568446, 570753, 571029, 575603, 582028, 582382, 588020, 590236, 886192, 890355, 895684, 901789, 916096, 919131, 932227, 933523, 937635, 946142, 951483, 957396, 963328, 964986, 978852, 982907, 985155, 989222, 995087, 1005695, 1008006, 1018639, 1018703, 1020477, 1021538, 1036888, 1037485, 1041309, 1044448, 1055703, 1058082, 1064108, 1068565, 1071414, 1072171, 1085099, 1086763, 1086795, 1088859, 1095819, 1102846, 1104125, 1105924, 1113862, 1116446, 1132247, 1145866, 1149694, 1155251, 1155386, 1156220, 1158662, 1631878, 1645011, 1649932, 1657879, 1658094, 1662676, 1681041, 1694534, 1708637, 1713147, 1723463, 1727103, 1731246, 1733772, 1734564, 1734769, 1766570, 1771760, 1792271, 1798944, 1798945, 1812581, 1828391, 1831427, 1835186, 1838751, 1845443, 1849795, 1863996, 1901877, 1912704, 1919184, 1924485, 1927634, 1928474, 1929777, 1943465, 1954182, 1954308, 1957337, 1964479, 1977828, 1983071, 2023961, 2047730, 2065321, 2070211, 2074047, 2080040, 2809026, 2829553, 2830788, 2853285, 2861667, 2892186, 2902819, 2912309, 2921938, 2955804, 2956140, 2965812, 2977065, 2981842, 2981853, 2981861, 2981875, 2984018, 2985952, 3004400, 3036290, 3040900, 3045003, 3048137, 3096518, 3099026, 3099266, 3111787, 3113368, 3120537, 3121979, 3138594, 3163509, 3172327, 3174322, 3180371, 3194778, 3203283, 3206158, 3209240, 3225605, 3229172, 3235970, 3237893, 3244143, 3254077, 3260866, 3261562, 3277053, 3280939, 3282245, 3285009, 3285500, 3308196, 3322840, 3332424, 3347583, 3352657, 3368163, 3383368, 4616816, 4627398, 4635416, 4697911, 4714161, 4743452, 4748130, 4756790, 4761760, 4763419, 4764531, 4774677, 4779111, 4806346, 4815695, 4860508, 4861970, 4864025, 4864384, 4884158, 4892972, 4898741, 4899798, 4919405, 4934646, 4946084, 4949644, 4964816, 4965912, 4969675, 4991085, 5012728, 5027842, 5062713, 5072326, 5114153, 5115463, 5128825, 5132885, 5133110, 5142163, 5177030, 5184303, 5202774, 5260611, 5349374, 5390933, 5401988, 5403528, 5427607, 5444330, 5450176, 5453878, 5474153, 5494065, 5501544, 5503580, 5519881, 5609836, 5617321, 5622623, 5625228, 5629549, 5635872, 5655600, 5663570, 5663785, 5666746, 5671597, 5674097, 5687572, 5706436, 5722319, 5741919, 5744181, 5748017, 5781996, 5809024, 5819801, 5822367, 5832006, 5836359, 5836389, 5865168, 5865654, 5881435, 5882457, 5884996, 5887152, 5902525, 5950023, 5962744, 5981716, 6003944, 6011262, 6629852, 6633038, 6656481, 6668354, 6718474, 6724346, 6727439, 6732776, 6735459, 6745944, 6754992, 6764251, 6778319, 6781848, 6786864, 6801759, 6803889, 6806602, 6816107, 6816936, 6819536, 6819794, 6820290, 6826043, 6830226, 6830331, 6838383, 6845563, 6850043, 6863052, 6867245, 6907368, 6920719, 6934089, 6942100, 6966341, 6982667, 6989796, 7007415, 7015007, 7017061, 7036515, 7042979, 7058094, 7109857, 7111455, 7159415, 7166128, 7201865, 7224738, 7230512, 7260210, 10101483, 10111606, 10119487, 10121407, 10136640, 10145992, 10190247, 10196589, 10204197, 10259094, 10276899, 10290215, 10304861, 10320950, 10366937, 10379281, 10421029, 10468991, 10483201, 10483384, 10492761, 10510906, 10512492, 10522903, 10538208, 10549599, 10569785, 10582203, 10582829, 10593371, 10625213, 10717483, 10799221, 10800247, 10817619, 10823505, 10917343, 10936878, 10944855, 11000373, 11035643, 11054922, 11084718, 11090880, 11098408, 11161348, 11161861, 11165921, 11175840, 11204463, 11217131, 11239298, 11247862, 11306432, 12499692, 12510553, 12548328, 12550957, 12553513, 12558413, 12596322, 12597756, 12598553, 12598630, 12598924, 12599072, 12619145, 12637711, 12661281, 12733599, 12744183, 12761526, 12771666, 12772984, 12808277, 12839333, 12840460, 12885866, 12898795, 12940835, 12959197, 12970674, 13001861, 13017363, 13017542, 13041188, 13049566, 13051355, 13074889, 13094970, 13103861, 13107969, 13127944, 13135409, 13152028, 13169294, 13177928, 13187427, 13188340, 13219341, 13229949, 13245827, 13247212, 13256599, 13272633, 13277304, 13302853, 13314493, 13330153, 13353566, 13389882, 13421459, 13425006, 13428614, 13429174, 13431398, 13439708, 13449471, 13463261, 13471485, 13476691, 13483155, 13486108, 13489366, 13491924, 13509119, 13527219, 13537254, 13537721, 13571617, 13599479, 13612108, 13629998, 13632710, 13647474, 13654387, 13655161, 13678453, 13687342, 13691198, 13708567, 13710865, 13729010, 13760261, 13807292, 13812250, 13812273, 13817814, 13819991, 13825117, 13836709, 13841525, 13852643, 13854126, 13854467, 13873040, 13882569, 13886949, 13889292, 13891719, 13897189, 13897722, 13906273, 13925585, 13933082, 13950958, 13952479, 13966822, 13968358, 13973023, 14011549, 14021891, 14022661, 14034936, 14054326, 14070038, 14079338, 14092826, 14123916, 14146873, 14171624, 14172232, 14182817, 14198060, 14218256, 14244097, 14274504, 14277750, 14325757, 14333038, 14346556, 14355043, 14363151, 14364518, 14394450, 14412610, 14439841, 14461859, 14462366, 14465905, 14548324, 14561871, 14572858, 14591839, 14610851, 14728813, 14745224, 14760457, 14765588, 14815394, 14816635, 14817368, 14821744, 14829461, 14839350, 14845555, 14869289, 14876448, 14879214, 14883807, 14884660, 14890435, 14911690, 14915385, 14921039, 15013026, 15024573, 15033626, 15038140, 15038670, 15045784, 15046252, 15069603, 15081578, 15093623, 15096042, 17505754, 17508421, 17525219, 17536444, 17554758, 17564346, 17565780, 17618917, 17631393, 17643789, 17652095, 17654056, 17678275, 17688373, 17699304, 17724135, 17759347, 17771718, 17777736, 17778084, 17793367, 17821445, 17835965, 17846586, 17871313, 17874135, 17889982, 17900191, 17911026, 17913931, 17917198, 17953351, 17967394, 17968930, 18000413, 18011593, 18014010, 18017858, 18021604, 18032994, 18045687, 18057193, 18059130, 18063880, 18086951, 18107108, 18115300, 18116541, 19572024, 2973384, 34985473, 44174770, 50065811, 51340421, 50472290, 18082645, 47709873]\n"
          ]
        }
      ],
      "source": [
        "# First start by making a copy for debugging purposes\n",
        "calendar_newdf = df_cal.copy()\n",
        "\n",
        "include_list = (\n",
        "    calendar_newdf[calendar_newdf[\"minimum_nights\"] >= 3][\"listing_id\"].unique().tolist()\n",
        ")\n",
        "\n",
        "print(include_list)"
      ]
    },
    {
      "cell_type": "code",
      "source": [
        "# Get all the listings with a minimum nights of 3+\n",
        "# Use the include_list\n",
        "calendar_newdf = calendar_newdf[calendar_newdf['listing_id'].isin(include_list)]\n",
        "calendar_newdf.head()"
      ],
      "metadata": {
        "id": "P_lkhpOtF5ul",
        "colab": {
          "base_uri": "https://localhost:8080/",
          "height": 206
        },
        "outputId": "f87a5a8d-2611-409d-8a5e-98f252e7026b"
      },
      "id": "P_lkhpOtF5ul",
      "execution_count": null,
      "outputs": [
        {
          "output_type": "execute_result",
          "data": {
            "text/plain": [
              "     listing_id       date  available  price_in_dollar  minimum_nights  \\\n",
              "365    35815036 2022-06-05      False           105.00               3   \n",
              "366    35815036 2022-06-06       True           105.00               1   \n",
              "367    35815036 2022-06-07       True           105.00               3   \n",
              "368    35815036 2022-06-08       True           105.00               3   \n",
              "369    35815036 2022-06-09       True           105.00               3   \n",
              "\n",
              "     maximum_nights  \n",
              "365            1125  \n",
              "366            1125  \n",
              "367            1125  \n",
              "368            1125  \n",
              "369            1125  "
            ],
            "text/html": [
              "\n",
              "  <div id=\"df-c7b3f0fb-2923-4fd3-8d32-85bc5324198a\">\n",
              "    <div class=\"colab-df-container\">\n",
              "      <div>\n",
              "<style scoped>\n",
              "    .dataframe tbody tr th:only-of-type {\n",
              "        vertical-align: middle;\n",
              "    }\n",
              "\n",
              "    .dataframe tbody tr th {\n",
              "        vertical-align: top;\n",
              "    }\n",
              "\n",
              "    .dataframe thead th {\n",
              "        text-align: right;\n",
              "    }\n",
              "</style>\n",
              "<table border=\"1\" class=\"dataframe\">\n",
              "  <thead>\n",
              "    <tr style=\"text-align: right;\">\n",
              "      <th></th>\n",
              "      <th>listing_id</th>\n",
              "      <th>date</th>\n",
              "      <th>available</th>\n",
              "      <th>price_in_dollar</th>\n",
              "      <th>minimum_nights</th>\n",
              "      <th>maximum_nights</th>\n",
              "    </tr>\n",
              "  </thead>\n",
              "  <tbody>\n",
              "    <tr>\n",
              "      <th>365</th>\n",
              "      <td>35815036</td>\n",
              "      <td>2022-06-05</td>\n",
              "      <td>False</td>\n",
              "      <td>105.00</td>\n",
              "      <td>3</td>\n",
              "      <td>1125</td>\n",
              "    </tr>\n",
              "    <tr>\n",
              "      <th>366</th>\n",
              "      <td>35815036</td>\n",
              "      <td>2022-06-06</td>\n",
              "      <td>True</td>\n",
              "      <td>105.00</td>\n",
              "      <td>1</td>\n",
              "      <td>1125</td>\n",
              "    </tr>\n",
              "    <tr>\n",
              "      <th>367</th>\n",
              "      <td>35815036</td>\n",
              "      <td>2022-06-07</td>\n",
              "      <td>True</td>\n",
              "      <td>105.00</td>\n",
              "      <td>3</td>\n",
              "      <td>1125</td>\n",
              "    </tr>\n",
              "    <tr>\n",
              "      <th>368</th>\n",
              "      <td>35815036</td>\n",
              "      <td>2022-06-08</td>\n",
              "      <td>True</td>\n",
              "      <td>105.00</td>\n",
              "      <td>3</td>\n",
              "      <td>1125</td>\n",
              "    </tr>\n",
              "    <tr>\n",
              "      <th>369</th>\n",
              "      <td>35815036</td>\n",
              "      <td>2022-06-09</td>\n",
              "      <td>True</td>\n",
              "      <td>105.00</td>\n",
              "      <td>3</td>\n",
              "      <td>1125</td>\n",
              "    </tr>\n",
              "  </tbody>\n",
              "</table>\n",
              "</div>\n",
              "      <button class=\"colab-df-convert\" onclick=\"convertToInteractive('df-c7b3f0fb-2923-4fd3-8d32-85bc5324198a')\"\n",
              "              title=\"Convert this dataframe to an interactive table.\"\n",
              "              style=\"display:none;\">\n",
              "        \n",
              "  <svg xmlns=\"http://www.w3.org/2000/svg\" height=\"24px\"viewBox=\"0 0 24 24\"\n",
              "       width=\"24px\">\n",
              "    <path d=\"M0 0h24v24H0V0z\" fill=\"none\"/>\n",
              "    <path d=\"M18.56 5.44l.94 2.06.94-2.06 2.06-.94-2.06-.94-.94-2.06-.94 2.06-2.06.94zm-11 1L8.5 8.5l.94-2.06 2.06-.94-2.06-.94L8.5 2.5l-.94 2.06-2.06.94zm10 10l.94 2.06.94-2.06 2.06-.94-2.06-.94-.94-2.06-.94 2.06-2.06.94z\"/><path d=\"M17.41 7.96l-1.37-1.37c-.4-.4-.92-.59-1.43-.59-.52 0-1.04.2-1.43.59L10.3 9.45l-7.72 7.72c-.78.78-.78 2.05 0 2.83L4 21.41c.39.39.9.59 1.41.59.51 0 1.02-.2 1.41-.59l7.78-7.78 2.81-2.81c.8-.78.8-2.07 0-2.86zM5.41 20L4 18.59l7.72-7.72 1.47 1.35L5.41 20z\"/>\n",
              "  </svg>\n",
              "      </button>\n",
              "      \n",
              "  <style>\n",
              "    .colab-df-container {\n",
              "      display:flex;\n",
              "      flex-wrap:wrap;\n",
              "      gap: 12px;\n",
              "    }\n",
              "\n",
              "    .colab-df-convert {\n",
              "      background-color: #E8F0FE;\n",
              "      border: none;\n",
              "      border-radius: 50%;\n",
              "      cursor: pointer;\n",
              "      display: none;\n",
              "      fill: #1967D2;\n",
              "      height: 32px;\n",
              "      padding: 0 0 0 0;\n",
              "      width: 32px;\n",
              "    }\n",
              "\n",
              "    .colab-df-convert:hover {\n",
              "      background-color: #E2EBFA;\n",
              "      box-shadow: 0px 1px 2px rgba(60, 64, 67, 0.3), 0px 1px 3px 1px rgba(60, 64, 67, 0.15);\n",
              "      fill: #174EA6;\n",
              "    }\n",
              "\n",
              "    [theme=dark] .colab-df-convert {\n",
              "      background-color: #3B4455;\n",
              "      fill: #D2E3FC;\n",
              "    }\n",
              "\n",
              "    [theme=dark] .colab-df-convert:hover {\n",
              "      background-color: #434B5C;\n",
              "      box-shadow: 0px 1px 3px 1px rgba(0, 0, 0, 0.15);\n",
              "      filter: drop-shadow(0px 1px 2px rgba(0, 0, 0, 0.3));\n",
              "      fill: #FFFFFF;\n",
              "    }\n",
              "  </style>\n",
              "\n",
              "      <script>\n",
              "        const buttonEl =\n",
              "          document.querySelector('#df-c7b3f0fb-2923-4fd3-8d32-85bc5324198a button.colab-df-convert');\n",
              "        buttonEl.style.display =\n",
              "          google.colab.kernel.accessAllowed ? 'block' : 'none';\n",
              "\n",
              "        async function convertToInteractive(key) {\n",
              "          const element = document.querySelector('#df-c7b3f0fb-2923-4fd3-8d32-85bc5324198a');\n",
              "          const dataTable =\n",
              "            await google.colab.kernel.invokeFunction('convertToInteractive',\n",
              "                                                     [key], {});\n",
              "          if (!dataTable) return;\n",
              "\n",
              "          const docLinkHtml = 'Like what you see? Visit the ' +\n",
              "            '<a target=\"_blank\" href=https://colab.research.google.com/notebooks/data_table.ipynb>data table notebook</a>'\n",
              "            + ' to learn more about interactive tables.';\n",
              "          element.innerHTML = '';\n",
              "          dataTable['output_type'] = 'display_data';\n",
              "          await google.colab.output.renderOutput(dataTable, element);\n",
              "          const docLink = document.createElement('div');\n",
              "          docLink.innerHTML = docLinkHtml;\n",
              "          element.appendChild(docLink);\n",
              "        }\n",
              "      </script>\n",
              "    </div>\n",
              "  </div>\n",
              "  "
            ]
          },
          "metadata": {},
          "execution_count": 326
        }
      ]
    },
    {
      "cell_type": "code",
      "source": [
        "#To check if we have data with 3+ nights only\n",
        "(calendar_newdf[\"minimum_nights\"]>=3).value_counts()"
      ],
      "metadata": {
        "colab": {
          "base_uri": "https://localhost:8080/"
        },
        "id": "2PxxDfD-IDDY",
        "outputId": "4b338085-6353-485f-ae92-809c75cc500a"
      },
      "id": "2PxxDfD-IDDY",
      "execution_count": null,
      "outputs": [
        {
          "output_type": "execute_result",
          "data": {
            "text/plain": [
              "True     1155816\n",
              "False     207824\n",
              "Name: minimum_nights, dtype: int64"
            ]
          },
          "metadata": {},
          "execution_count": 327
        }
      ]
    },
    {
      "cell_type": "code",
      "source": [
        "calendar_newdf = calendar_newdf[calendar_newdf['minimum_nights'] >= 3]"
      ],
      "metadata": {
        "id": "reP7NJhdNHOp"
      },
      "id": "reP7NJhdNHOp",
      "execution_count": null,
      "outputs": []
    },
    {
      "cell_type": "code",
      "source": [
        "#To check if we have data with 3+ nights only\n",
        "(calendar_newdf[\"minimum_nights\"]>=3).value_counts()"
      ],
      "metadata": {
        "colab": {
          "base_uri": "https://localhost:8080/"
        },
        "id": "hlKKlODBNStP",
        "outputId": "0331a061-76e8-48c9-f6f3-744e6998e786"
      },
      "id": "hlKKlODBNStP",
      "execution_count": null,
      "outputs": [
        {
          "output_type": "execute_result",
          "data": {
            "text/plain": [
              "True    1155816\n",
              "Name: minimum_nights, dtype: int64"
            ]
          },
          "metadata": {},
          "execution_count": 332
        }
      ]
    },
    {
      "cell_type": "code",
      "source": [
        "calendar_newdf.head()"
      ],
      "metadata": {
        "colab": {
          "base_uri": "https://localhost:8080/",
          "height": 206
        },
        "id": "5BPCcpRyePRq",
        "outputId": "e42ca652-d15e-42f0-cc70-47c9f9fe54dd"
      },
      "id": "5BPCcpRyePRq",
      "execution_count": null,
      "outputs": [
        {
          "output_type": "execute_result",
          "data": {
            "text/plain": [
              "     listing_id       date  available  price_in_dollar  minimum_nights  \\\n",
              "365    35815036 2022-06-05      False           105.00               3   \n",
              "367    35815036 2022-06-07       True           105.00               3   \n",
              "368    35815036 2022-06-08       True           105.00               3   \n",
              "369    35815036 2022-06-09       True           105.00               3   \n",
              "370    35815036 2022-06-10      False           105.00               3   \n",
              "\n",
              "     maximum_nights  \n",
              "365            1125  \n",
              "367            1125  \n",
              "368            1125  \n",
              "369            1125  \n",
              "370            1125  "
            ],
            "text/html": [
              "\n",
              "  <div id=\"df-21280cd4-463f-4211-8388-4f74355297ba\">\n",
              "    <div class=\"colab-df-container\">\n",
              "      <div>\n",
              "<style scoped>\n",
              "    .dataframe tbody tr th:only-of-type {\n",
              "        vertical-align: middle;\n",
              "    }\n",
              "\n",
              "    .dataframe tbody tr th {\n",
              "        vertical-align: top;\n",
              "    }\n",
              "\n",
              "    .dataframe thead th {\n",
              "        text-align: right;\n",
              "    }\n",
              "</style>\n",
              "<table border=\"1\" class=\"dataframe\">\n",
              "  <thead>\n",
              "    <tr style=\"text-align: right;\">\n",
              "      <th></th>\n",
              "      <th>listing_id</th>\n",
              "      <th>date</th>\n",
              "      <th>available</th>\n",
              "      <th>price_in_dollar</th>\n",
              "      <th>minimum_nights</th>\n",
              "      <th>maximum_nights</th>\n",
              "    </tr>\n",
              "  </thead>\n",
              "  <tbody>\n",
              "    <tr>\n",
              "      <th>365</th>\n",
              "      <td>35815036</td>\n",
              "      <td>2022-06-05</td>\n",
              "      <td>False</td>\n",
              "      <td>105.00</td>\n",
              "      <td>3</td>\n",
              "      <td>1125</td>\n",
              "    </tr>\n",
              "    <tr>\n",
              "      <th>367</th>\n",
              "      <td>35815036</td>\n",
              "      <td>2022-06-07</td>\n",
              "      <td>True</td>\n",
              "      <td>105.00</td>\n",
              "      <td>3</td>\n",
              "      <td>1125</td>\n",
              "    </tr>\n",
              "    <tr>\n",
              "      <th>368</th>\n",
              "      <td>35815036</td>\n",
              "      <td>2022-06-08</td>\n",
              "      <td>True</td>\n",
              "      <td>105.00</td>\n",
              "      <td>3</td>\n",
              "      <td>1125</td>\n",
              "    </tr>\n",
              "    <tr>\n",
              "      <th>369</th>\n",
              "      <td>35815036</td>\n",
              "      <td>2022-06-09</td>\n",
              "      <td>True</td>\n",
              "      <td>105.00</td>\n",
              "      <td>3</td>\n",
              "      <td>1125</td>\n",
              "    </tr>\n",
              "    <tr>\n",
              "      <th>370</th>\n",
              "      <td>35815036</td>\n",
              "      <td>2022-06-10</td>\n",
              "      <td>False</td>\n",
              "      <td>105.00</td>\n",
              "      <td>3</td>\n",
              "      <td>1125</td>\n",
              "    </tr>\n",
              "  </tbody>\n",
              "</table>\n",
              "</div>\n",
              "      <button class=\"colab-df-convert\" onclick=\"convertToInteractive('df-21280cd4-463f-4211-8388-4f74355297ba')\"\n",
              "              title=\"Convert this dataframe to an interactive table.\"\n",
              "              style=\"display:none;\">\n",
              "        \n",
              "  <svg xmlns=\"http://www.w3.org/2000/svg\" height=\"24px\"viewBox=\"0 0 24 24\"\n",
              "       width=\"24px\">\n",
              "    <path d=\"M0 0h24v24H0V0z\" fill=\"none\"/>\n",
              "    <path d=\"M18.56 5.44l.94 2.06.94-2.06 2.06-.94-2.06-.94-.94-2.06-.94 2.06-2.06.94zm-11 1L8.5 8.5l.94-2.06 2.06-.94-2.06-.94L8.5 2.5l-.94 2.06-2.06.94zm10 10l.94 2.06.94-2.06 2.06-.94-2.06-.94-.94-2.06-.94 2.06-2.06.94z\"/><path d=\"M17.41 7.96l-1.37-1.37c-.4-.4-.92-.59-1.43-.59-.52 0-1.04.2-1.43.59L10.3 9.45l-7.72 7.72c-.78.78-.78 2.05 0 2.83L4 21.41c.39.39.9.59 1.41.59.51 0 1.02-.2 1.41-.59l7.78-7.78 2.81-2.81c.8-.78.8-2.07 0-2.86zM5.41 20L4 18.59l7.72-7.72 1.47 1.35L5.41 20z\"/>\n",
              "  </svg>\n",
              "      </button>\n",
              "      \n",
              "  <style>\n",
              "    .colab-df-container {\n",
              "      display:flex;\n",
              "      flex-wrap:wrap;\n",
              "      gap: 12px;\n",
              "    }\n",
              "\n",
              "    .colab-df-convert {\n",
              "      background-color: #E8F0FE;\n",
              "      border: none;\n",
              "      border-radius: 50%;\n",
              "      cursor: pointer;\n",
              "      display: none;\n",
              "      fill: #1967D2;\n",
              "      height: 32px;\n",
              "      padding: 0 0 0 0;\n",
              "      width: 32px;\n",
              "    }\n",
              "\n",
              "    .colab-df-convert:hover {\n",
              "      background-color: #E2EBFA;\n",
              "      box-shadow: 0px 1px 2px rgba(60, 64, 67, 0.3), 0px 1px 3px 1px rgba(60, 64, 67, 0.15);\n",
              "      fill: #174EA6;\n",
              "    }\n",
              "\n",
              "    [theme=dark] .colab-df-convert {\n",
              "      background-color: #3B4455;\n",
              "      fill: #D2E3FC;\n",
              "    }\n",
              "\n",
              "    [theme=dark] .colab-df-convert:hover {\n",
              "      background-color: #434B5C;\n",
              "      box-shadow: 0px 1px 3px 1px rgba(0, 0, 0, 0.15);\n",
              "      filter: drop-shadow(0px 1px 2px rgba(0, 0, 0, 0.3));\n",
              "      fill: #FFFFFF;\n",
              "    }\n",
              "  </style>\n",
              "\n",
              "      <script>\n",
              "        const buttonEl =\n",
              "          document.querySelector('#df-21280cd4-463f-4211-8388-4f74355297ba button.colab-df-convert');\n",
              "        buttonEl.style.display =\n",
              "          google.colab.kernel.accessAllowed ? 'block' : 'none';\n",
              "\n",
              "        async function convertToInteractive(key) {\n",
              "          const element = document.querySelector('#df-21280cd4-463f-4211-8388-4f74355297ba');\n",
              "          const dataTable =\n",
              "            await google.colab.kernel.invokeFunction('convertToInteractive',\n",
              "                                                     [key], {});\n",
              "          if (!dataTable) return;\n",
              "\n",
              "          const docLinkHtml = 'Like what you see? Visit the ' +\n",
              "            '<a target=\"_blank\" href=https://colab.research.google.com/notebooks/data_table.ipynb>data table notebook</a>'\n",
              "            + ' to learn more about interactive tables.';\n",
              "          element.innerHTML = '';\n",
              "          dataTable['output_type'] = 'display_data';\n",
              "          await google.colab.output.renderOutput(dataTable, element);\n",
              "          const docLink = document.createElement('div');\n",
              "          docLink.innerHTML = docLinkHtml;\n",
              "          element.appendChild(docLink);\n",
              "        }\n",
              "      </script>\n",
              "    </div>\n",
              "  </div>\n",
              "  "
            ]
          },
          "metadata": {},
          "execution_count": 333
        }
      ]
    },
    {
      "cell_type": "markdown",
      "id": "b181c54a-0339-422e-853f-0e88a212d009",
      "metadata": {
        "id": "b181c54a-0339-422e-853f-0e88a212d009"
      },
      "source": [
        "| Related functions |\n",
        "| ---- |\n",
        "| [isin()](https://pandas.pydata.org/pandas-docs/stable/reference/api/pandas.DataFrame.isin.html): Filter the DataFrame on provided values |\n",
        "| [eq()](https://pandas.pydata.org/pandas-docs/stable/reference/api/pandas.DataFrame.eq.html#pandas.DataFrame.eq): Filter the DataFrame for all values equal to the provided input |\n",
        "| [ne()](https://pandas.pydata.org/pandas-docs/stable/reference/api/pandas.DataFrame.ne.html#pandas.DataFrame.ne): Filter the DataFrame for all values not equal to the provided input |"
      ]
    },
    {
      "cell_type": "code",
      "source": [
        "calendar_newdf[\"five_day_dollar_price\"] = calendar_newdf[\"price_in_dollar\"]*5\n",
        "calendar_newdf.head(3)"
      ],
      "metadata": {
        "id": "0wA7LRZfGOk-",
        "colab": {
          "base_uri": "https://localhost:8080/",
          "height": 187
        },
        "outputId": "597ce487-0631-43dd-ab44-36fffb87e502"
      },
      "id": "0wA7LRZfGOk-",
      "execution_count": null,
      "outputs": [
        {
          "output_type": "execute_result",
          "data": {
            "text/plain": [
              "     listing_id       date  available  price_in_dollar  minimum_nights  \\\n",
              "365    35815036 2022-06-05      False           105.00               3   \n",
              "367    35815036 2022-06-07       True           105.00               3   \n",
              "368    35815036 2022-06-08       True           105.00               3   \n",
              "\n",
              "     maximum_nights  five_day_dollar_price  \n",
              "365            1125                 525.00  \n",
              "367            1125                 525.00  \n",
              "368            1125                 525.00  "
            ],
            "text/html": [
              "\n",
              "  <div id=\"df-bb4e30ef-a371-457a-bdda-9d661f2a59c0\">\n",
              "    <div class=\"colab-df-container\">\n",
              "      <div>\n",
              "<style scoped>\n",
              "    .dataframe tbody tr th:only-of-type {\n",
              "        vertical-align: middle;\n",
              "    }\n",
              "\n",
              "    .dataframe tbody tr th {\n",
              "        vertical-align: top;\n",
              "    }\n",
              "\n",
              "    .dataframe thead th {\n",
              "        text-align: right;\n",
              "    }\n",
              "</style>\n",
              "<table border=\"1\" class=\"dataframe\">\n",
              "  <thead>\n",
              "    <tr style=\"text-align: right;\">\n",
              "      <th></th>\n",
              "      <th>listing_id</th>\n",
              "      <th>date</th>\n",
              "      <th>available</th>\n",
              "      <th>price_in_dollar</th>\n",
              "      <th>minimum_nights</th>\n",
              "      <th>maximum_nights</th>\n",
              "      <th>five_day_dollar_price</th>\n",
              "    </tr>\n",
              "  </thead>\n",
              "  <tbody>\n",
              "    <tr>\n",
              "      <th>365</th>\n",
              "      <td>35815036</td>\n",
              "      <td>2022-06-05</td>\n",
              "      <td>False</td>\n",
              "      <td>105.00</td>\n",
              "      <td>3</td>\n",
              "      <td>1125</td>\n",
              "      <td>525.00</td>\n",
              "    </tr>\n",
              "    <tr>\n",
              "      <th>367</th>\n",
              "      <td>35815036</td>\n",
              "      <td>2022-06-07</td>\n",
              "      <td>True</td>\n",
              "      <td>105.00</td>\n",
              "      <td>3</td>\n",
              "      <td>1125</td>\n",
              "      <td>525.00</td>\n",
              "    </tr>\n",
              "    <tr>\n",
              "      <th>368</th>\n",
              "      <td>35815036</td>\n",
              "      <td>2022-06-08</td>\n",
              "      <td>True</td>\n",
              "      <td>105.00</td>\n",
              "      <td>3</td>\n",
              "      <td>1125</td>\n",
              "      <td>525.00</td>\n",
              "    </tr>\n",
              "  </tbody>\n",
              "</table>\n",
              "</div>\n",
              "      <button class=\"colab-df-convert\" onclick=\"convertToInteractive('df-bb4e30ef-a371-457a-bdda-9d661f2a59c0')\"\n",
              "              title=\"Convert this dataframe to an interactive table.\"\n",
              "              style=\"display:none;\">\n",
              "        \n",
              "  <svg xmlns=\"http://www.w3.org/2000/svg\" height=\"24px\"viewBox=\"0 0 24 24\"\n",
              "       width=\"24px\">\n",
              "    <path d=\"M0 0h24v24H0V0z\" fill=\"none\"/>\n",
              "    <path d=\"M18.56 5.44l.94 2.06.94-2.06 2.06-.94-2.06-.94-.94-2.06-.94 2.06-2.06.94zm-11 1L8.5 8.5l.94-2.06 2.06-.94-2.06-.94L8.5 2.5l-.94 2.06-2.06.94zm10 10l.94 2.06.94-2.06 2.06-.94-2.06-.94-.94-2.06-.94 2.06-2.06.94z\"/><path d=\"M17.41 7.96l-1.37-1.37c-.4-.4-.92-.59-1.43-.59-.52 0-1.04.2-1.43.59L10.3 9.45l-7.72 7.72c-.78.78-.78 2.05 0 2.83L4 21.41c.39.39.9.59 1.41.59.51 0 1.02-.2 1.41-.59l7.78-7.78 2.81-2.81c.8-.78.8-2.07 0-2.86zM5.41 20L4 18.59l7.72-7.72 1.47 1.35L5.41 20z\"/>\n",
              "  </svg>\n",
              "      </button>\n",
              "      \n",
              "  <style>\n",
              "    .colab-df-container {\n",
              "      display:flex;\n",
              "      flex-wrap:wrap;\n",
              "      gap: 12px;\n",
              "    }\n",
              "\n",
              "    .colab-df-convert {\n",
              "      background-color: #E8F0FE;\n",
              "      border: none;\n",
              "      border-radius: 50%;\n",
              "      cursor: pointer;\n",
              "      display: none;\n",
              "      fill: #1967D2;\n",
              "      height: 32px;\n",
              "      padding: 0 0 0 0;\n",
              "      width: 32px;\n",
              "    }\n",
              "\n",
              "    .colab-df-convert:hover {\n",
              "      background-color: #E2EBFA;\n",
              "      box-shadow: 0px 1px 2px rgba(60, 64, 67, 0.3), 0px 1px 3px 1px rgba(60, 64, 67, 0.15);\n",
              "      fill: #174EA6;\n",
              "    }\n",
              "\n",
              "    [theme=dark] .colab-df-convert {\n",
              "      background-color: #3B4455;\n",
              "      fill: #D2E3FC;\n",
              "    }\n",
              "\n",
              "    [theme=dark] .colab-df-convert:hover {\n",
              "      background-color: #434B5C;\n",
              "      box-shadow: 0px 1px 3px 1px rgba(0, 0, 0, 0.15);\n",
              "      filter: drop-shadow(0px 1px 2px rgba(0, 0, 0, 0.3));\n",
              "      fill: #FFFFFF;\n",
              "    }\n",
              "  </style>\n",
              "\n",
              "      <script>\n",
              "        const buttonEl =\n",
              "          document.querySelector('#df-bb4e30ef-a371-457a-bdda-9d661f2a59c0 button.colab-df-convert');\n",
              "        buttonEl.style.display =\n",
              "          google.colab.kernel.accessAllowed ? 'block' : 'none';\n",
              "\n",
              "        async function convertToInteractive(key) {\n",
              "          const element = document.querySelector('#df-bb4e30ef-a371-457a-bdda-9d661f2a59c0');\n",
              "          const dataTable =\n",
              "            await google.colab.kernel.invokeFunction('convertToInteractive',\n",
              "                                                     [key], {});\n",
              "          if (!dataTable) return;\n",
              "\n",
              "          const docLinkHtml = 'Like what you see? Visit the ' +\n",
              "            '<a target=\"_blank\" href=https://colab.research.google.com/notebooks/data_table.ipynb>data table notebook</a>'\n",
              "            + ' to learn more about interactive tables.';\n",
              "          element.innerHTML = '';\n",
              "          dataTable['output_type'] = 'display_data';\n",
              "          await google.colab.output.renderOutput(dataTable, element);\n",
              "          const docLink = document.createElement('div');\n",
              "          docLink.innerHTML = docLinkHtml;\n",
              "          element.appendChild(docLink);\n",
              "        }\n",
              "      </script>\n",
              "    </div>\n",
              "  </div>\n",
              "  "
            ]
          },
          "metadata": {},
          "execution_count": 334
        }
      ]
    },
    {
      "cell_type": "code",
      "source": [
        "calendar_newdf.describe()"
      ],
      "metadata": {
        "colab": {
          "base_uri": "https://localhost:8080/",
          "height": 300
        },
        "id": "-o0AM4prjHCH",
        "outputId": "b0c23a93-6359-43f8-ff56-bbf8e9a69cd1"
      },
      "id": "-o0AM4prjHCH",
      "execution_count": null,
      "outputs": [
        {
          "output_type": "execute_result",
          "data": {
            "text/plain": [
              "                 listing_id  price_in_dollar  minimum_nights  maximum_nights  \\\n",
              "count            1155816.00       1155816.00      1155816.00      1155816.00   \n",
              "mean   47507904620945024.00           230.76            7.39        73987.48   \n",
              "std   162545646784582368.00           538.24           43.45     12514051.69   \n",
              "min                 2818.00            10.00            3.00            1.00   \n",
              "25%             10510906.00           125.00            3.00           30.00   \n",
              "50%             24743141.00           175.00            3.00          365.00   \n",
              "75%             43953543.00           250.00            5.00         1125.00   \n",
              "max   641131762118036096.00         12650.00         1001.00   2147483647.00   \n",
              "\n",
              "       five_day_dollar_price  \n",
              "count             1155816.00  \n",
              "mean                 1153.78  \n",
              "std                  2691.19  \n",
              "min                    50.00  \n",
              "25%                   625.00  \n",
              "50%                   875.00  \n",
              "75%                  1250.00  \n",
              "max                 63250.00  "
            ],
            "text/html": [
              "\n",
              "  <div id=\"df-6d6b40a9-50ff-43ac-9fbd-26834cd36812\">\n",
              "    <div class=\"colab-df-container\">\n",
              "      <div>\n",
              "<style scoped>\n",
              "    .dataframe tbody tr th:only-of-type {\n",
              "        vertical-align: middle;\n",
              "    }\n",
              "\n",
              "    .dataframe tbody tr th {\n",
              "        vertical-align: top;\n",
              "    }\n",
              "\n",
              "    .dataframe thead th {\n",
              "        text-align: right;\n",
              "    }\n",
              "</style>\n",
              "<table border=\"1\" class=\"dataframe\">\n",
              "  <thead>\n",
              "    <tr style=\"text-align: right;\">\n",
              "      <th></th>\n",
              "      <th>listing_id</th>\n",
              "      <th>price_in_dollar</th>\n",
              "      <th>minimum_nights</th>\n",
              "      <th>maximum_nights</th>\n",
              "      <th>five_day_dollar_price</th>\n",
              "    </tr>\n",
              "  </thead>\n",
              "  <tbody>\n",
              "    <tr>\n",
              "      <th>count</th>\n",
              "      <td>1155816.00</td>\n",
              "      <td>1155816.00</td>\n",
              "      <td>1155816.00</td>\n",
              "      <td>1155816.00</td>\n",
              "      <td>1155816.00</td>\n",
              "    </tr>\n",
              "    <tr>\n",
              "      <th>mean</th>\n",
              "      <td>47507904620945024.00</td>\n",
              "      <td>230.76</td>\n",
              "      <td>7.39</td>\n",
              "      <td>73987.48</td>\n",
              "      <td>1153.78</td>\n",
              "    </tr>\n",
              "    <tr>\n",
              "      <th>std</th>\n",
              "      <td>162545646784582368.00</td>\n",
              "      <td>538.24</td>\n",
              "      <td>43.45</td>\n",
              "      <td>12514051.69</td>\n",
              "      <td>2691.19</td>\n",
              "    </tr>\n",
              "    <tr>\n",
              "      <th>min</th>\n",
              "      <td>2818.00</td>\n",
              "      <td>10.00</td>\n",
              "      <td>3.00</td>\n",
              "      <td>1.00</td>\n",
              "      <td>50.00</td>\n",
              "    </tr>\n",
              "    <tr>\n",
              "      <th>25%</th>\n",
              "      <td>10510906.00</td>\n",
              "      <td>125.00</td>\n",
              "      <td>3.00</td>\n",
              "      <td>30.00</td>\n",
              "      <td>625.00</td>\n",
              "    </tr>\n",
              "    <tr>\n",
              "      <th>50%</th>\n",
              "      <td>24743141.00</td>\n",
              "      <td>175.00</td>\n",
              "      <td>3.00</td>\n",
              "      <td>365.00</td>\n",
              "      <td>875.00</td>\n",
              "    </tr>\n",
              "    <tr>\n",
              "      <th>75%</th>\n",
              "      <td>43953543.00</td>\n",
              "      <td>250.00</td>\n",
              "      <td>5.00</td>\n",
              "      <td>1125.00</td>\n",
              "      <td>1250.00</td>\n",
              "    </tr>\n",
              "    <tr>\n",
              "      <th>max</th>\n",
              "      <td>641131762118036096.00</td>\n",
              "      <td>12650.00</td>\n",
              "      <td>1001.00</td>\n",
              "      <td>2147483647.00</td>\n",
              "      <td>63250.00</td>\n",
              "    </tr>\n",
              "  </tbody>\n",
              "</table>\n",
              "</div>\n",
              "      <button class=\"colab-df-convert\" onclick=\"convertToInteractive('df-6d6b40a9-50ff-43ac-9fbd-26834cd36812')\"\n",
              "              title=\"Convert this dataframe to an interactive table.\"\n",
              "              style=\"display:none;\">\n",
              "        \n",
              "  <svg xmlns=\"http://www.w3.org/2000/svg\" height=\"24px\"viewBox=\"0 0 24 24\"\n",
              "       width=\"24px\">\n",
              "    <path d=\"M0 0h24v24H0V0z\" fill=\"none\"/>\n",
              "    <path d=\"M18.56 5.44l.94 2.06.94-2.06 2.06-.94-2.06-.94-.94-2.06-.94 2.06-2.06.94zm-11 1L8.5 8.5l.94-2.06 2.06-.94-2.06-.94L8.5 2.5l-.94 2.06-2.06.94zm10 10l.94 2.06.94-2.06 2.06-.94-2.06-.94-.94-2.06-.94 2.06-2.06.94z\"/><path d=\"M17.41 7.96l-1.37-1.37c-.4-.4-.92-.59-1.43-.59-.52 0-1.04.2-1.43.59L10.3 9.45l-7.72 7.72c-.78.78-.78 2.05 0 2.83L4 21.41c.39.39.9.59 1.41.59.51 0 1.02-.2 1.41-.59l7.78-7.78 2.81-2.81c.8-.78.8-2.07 0-2.86zM5.41 20L4 18.59l7.72-7.72 1.47 1.35L5.41 20z\"/>\n",
              "  </svg>\n",
              "      </button>\n",
              "      \n",
              "  <style>\n",
              "    .colab-df-container {\n",
              "      display:flex;\n",
              "      flex-wrap:wrap;\n",
              "      gap: 12px;\n",
              "    }\n",
              "\n",
              "    .colab-df-convert {\n",
              "      background-color: #E8F0FE;\n",
              "      border: none;\n",
              "      border-radius: 50%;\n",
              "      cursor: pointer;\n",
              "      display: none;\n",
              "      fill: #1967D2;\n",
              "      height: 32px;\n",
              "      padding: 0 0 0 0;\n",
              "      width: 32px;\n",
              "    }\n",
              "\n",
              "    .colab-df-convert:hover {\n",
              "      background-color: #E2EBFA;\n",
              "      box-shadow: 0px 1px 2px rgba(60, 64, 67, 0.3), 0px 1px 3px 1px rgba(60, 64, 67, 0.15);\n",
              "      fill: #174EA6;\n",
              "    }\n",
              "\n",
              "    [theme=dark] .colab-df-convert {\n",
              "      background-color: #3B4455;\n",
              "      fill: #D2E3FC;\n",
              "    }\n",
              "\n",
              "    [theme=dark] .colab-df-convert:hover {\n",
              "      background-color: #434B5C;\n",
              "      box-shadow: 0px 1px 3px 1px rgba(0, 0, 0, 0.15);\n",
              "      filter: drop-shadow(0px 1px 2px rgba(0, 0, 0, 0.3));\n",
              "      fill: #FFFFFF;\n",
              "    }\n",
              "  </style>\n",
              "\n",
              "      <script>\n",
              "        const buttonEl =\n",
              "          document.querySelector('#df-6d6b40a9-50ff-43ac-9fbd-26834cd36812 button.colab-df-convert');\n",
              "        buttonEl.style.display =\n",
              "          google.colab.kernel.accessAllowed ? 'block' : 'none';\n",
              "\n",
              "        async function convertToInteractive(key) {\n",
              "          const element = document.querySelector('#df-6d6b40a9-50ff-43ac-9fbd-26834cd36812');\n",
              "          const dataTable =\n",
              "            await google.colab.kernel.invokeFunction('convertToInteractive',\n",
              "                                                     [key], {});\n",
              "          if (!dataTable) return;\n",
              "\n",
              "          const docLinkHtml = 'Like what you see? Visit the ' +\n",
              "            '<a target=\"_blank\" href=https://colab.research.google.com/notebooks/data_table.ipynb>data table notebook</a>'\n",
              "            + ' to learn more about interactive tables.';\n",
              "          element.innerHTML = '';\n",
              "          dataTable['output_type'] = 'display_data';\n",
              "          await google.colab.output.renderOutput(dataTable, element);\n",
              "          const docLink = document.createElement('div');\n",
              "          docLink.innerHTML = docLinkHtml;\n",
              "          element.appendChild(docLink);\n",
              "        }\n",
              "      </script>\n",
              "    </div>\n",
              "  </div>\n",
              "  "
            ]
          },
          "metadata": {},
          "execution_count": 335
        }
      ]
    },
    {
      "cell_type": "code",
      "source": [
        "calendar_newdf.dtypes"
      ],
      "metadata": {
        "colab": {
          "base_uri": "https://localhost:8080/"
        },
        "id": "ZWCG2N_4aik7",
        "outputId": "0b121c9e-ebc1-42a7-a363-4230356395fa"
      },
      "id": "ZWCG2N_4aik7",
      "execution_count": null,
      "outputs": [
        {
          "output_type": "execute_result",
          "data": {
            "text/plain": [
              "listing_id                        int64\n",
              "date                     datetime64[ns]\n",
              "available                          bool\n",
              "price_in_dollar                 float64\n",
              "minimum_nights                    int64\n",
              "maximum_nights                    int64\n",
              "five_day_dollar_price           float64\n",
              "dtype: object"
            ]
          },
          "metadata": {},
          "execution_count": 336
        }
      ]
    },
    {
      "cell_type": "code",
      "source": [
        "calendar_newdf[\"listing_id\"].unique()"
      ],
      "metadata": {
        "colab": {
          "base_uri": "https://localhost:8080/"
        },
        "id": "6M3HrZwsfgzU",
        "outputId": "ddf8190e-8ea1-430d-fa25-2840a0e44da7"
      },
      "id": "6M3HrZwsfgzU",
      "execution_count": null,
      "outputs": [
        {
          "output_type": "execute_result",
          "data": {
            "text/plain": [
              "array([35815036,   623123,   627213, ..., 50472290, 18082645, 47709873])"
            ]
          },
          "metadata": {},
          "execution_count": 337
        }
      ]
    },
    {
      "cell_type": "markdown",
      "id": "250f2e99-471f-42c2-91b3-7e7176e3f600",
      "metadata": {
        "id": "250f2e99-471f-42c2-91b3-7e7176e3f600"
      },
      "source": [
        "Now let's transform our newly created DataFrame into a **pivot table**, where we aggregate our rows using the `listing_id` as the index, and the columns `available` and `five_day_dollar_price` as values."
      ]
    },
    {
      "cell_type": "code",
      "execution_count": null,
      "id": "23ba3117-bd59-48af-82b4-91bb4562244d",
      "metadata": {
        "id": "23ba3117-bd59-48af-82b4-91bb4562244d",
        "colab": {
          "base_uri": "https://localhost:8080/",
          "height": 175
        },
        "outputId": "a19ffc88-ef6b-4d1b-b5b7-caa941c6ed52"
      },
      "outputs": [
        {
          "output_type": "execute_result",
          "data": {
            "text/plain": [
              "            available  five_day_dollar_price\n",
              "listing_id                                  \n",
              "2818             0.21                 346.90\n",
              "44391            0.00                1200.00\n",
              "49552            0.46                1162.50"
            ],
            "text/html": [
              "\n",
              "  <div id=\"df-87363e4d-a6b4-4a78-af1f-8abdfd66fe86\">\n",
              "    <div class=\"colab-df-container\">\n",
              "      <div>\n",
              "<style scoped>\n",
              "    .dataframe tbody tr th:only-of-type {\n",
              "        vertical-align: middle;\n",
              "    }\n",
              "\n",
              "    .dataframe tbody tr th {\n",
              "        vertical-align: top;\n",
              "    }\n",
              "\n",
              "    .dataframe thead th {\n",
              "        text-align: right;\n",
              "    }\n",
              "</style>\n",
              "<table border=\"1\" class=\"dataframe\">\n",
              "  <thead>\n",
              "    <tr style=\"text-align: right;\">\n",
              "      <th></th>\n",
              "      <th>available</th>\n",
              "      <th>five_day_dollar_price</th>\n",
              "    </tr>\n",
              "    <tr>\n",
              "      <th>listing_id</th>\n",
              "      <th></th>\n",
              "      <th></th>\n",
              "    </tr>\n",
              "  </thead>\n",
              "  <tbody>\n",
              "    <tr>\n",
              "      <th>2818</th>\n",
              "      <td>0.21</td>\n",
              "      <td>346.90</td>\n",
              "    </tr>\n",
              "    <tr>\n",
              "      <th>44391</th>\n",
              "      <td>0.00</td>\n",
              "      <td>1200.00</td>\n",
              "    </tr>\n",
              "    <tr>\n",
              "      <th>49552</th>\n",
              "      <td>0.46</td>\n",
              "      <td>1162.50</td>\n",
              "    </tr>\n",
              "  </tbody>\n",
              "</table>\n",
              "</div>\n",
              "      <button class=\"colab-df-convert\" onclick=\"convertToInteractive('df-87363e4d-a6b4-4a78-af1f-8abdfd66fe86')\"\n",
              "              title=\"Convert this dataframe to an interactive table.\"\n",
              "              style=\"display:none;\">\n",
              "        \n",
              "  <svg xmlns=\"http://www.w3.org/2000/svg\" height=\"24px\"viewBox=\"0 0 24 24\"\n",
              "       width=\"24px\">\n",
              "    <path d=\"M0 0h24v24H0V0z\" fill=\"none\"/>\n",
              "    <path d=\"M18.56 5.44l.94 2.06.94-2.06 2.06-.94-2.06-.94-.94-2.06-.94 2.06-2.06.94zm-11 1L8.5 8.5l.94-2.06 2.06-.94-2.06-.94L8.5 2.5l-.94 2.06-2.06.94zm10 10l.94 2.06.94-2.06 2.06-.94-2.06-.94-.94-2.06-.94 2.06-2.06.94z\"/><path d=\"M17.41 7.96l-1.37-1.37c-.4-.4-.92-.59-1.43-.59-.52 0-1.04.2-1.43.59L10.3 9.45l-7.72 7.72c-.78.78-.78 2.05 0 2.83L4 21.41c.39.39.9.59 1.41.59.51 0 1.02-.2 1.41-.59l7.78-7.78 2.81-2.81c.8-.78.8-2.07 0-2.86zM5.41 20L4 18.59l7.72-7.72 1.47 1.35L5.41 20z\"/>\n",
              "  </svg>\n",
              "      </button>\n",
              "      \n",
              "  <style>\n",
              "    .colab-df-container {\n",
              "      display:flex;\n",
              "      flex-wrap:wrap;\n",
              "      gap: 12px;\n",
              "    }\n",
              "\n",
              "    .colab-df-convert {\n",
              "      background-color: #E8F0FE;\n",
              "      border: none;\n",
              "      border-radius: 50%;\n",
              "      cursor: pointer;\n",
              "      display: none;\n",
              "      fill: #1967D2;\n",
              "      height: 32px;\n",
              "      padding: 0 0 0 0;\n",
              "      width: 32px;\n",
              "    }\n",
              "\n",
              "    .colab-df-convert:hover {\n",
              "      background-color: #E2EBFA;\n",
              "      box-shadow: 0px 1px 2px rgba(60, 64, 67, 0.3), 0px 1px 3px 1px rgba(60, 64, 67, 0.15);\n",
              "      fill: #174EA6;\n",
              "    }\n",
              "\n",
              "    [theme=dark] .colab-df-convert {\n",
              "      background-color: #3B4455;\n",
              "      fill: #D2E3FC;\n",
              "    }\n",
              "\n",
              "    [theme=dark] .colab-df-convert:hover {\n",
              "      background-color: #434B5C;\n",
              "      box-shadow: 0px 1px 3px 1px rgba(0, 0, 0, 0.15);\n",
              "      filter: drop-shadow(0px 1px 2px rgba(0, 0, 0, 0.3));\n",
              "      fill: #FFFFFF;\n",
              "    }\n",
              "  </style>\n",
              "\n",
              "      <script>\n",
              "        const buttonEl =\n",
              "          document.querySelector('#df-87363e4d-a6b4-4a78-af1f-8abdfd66fe86 button.colab-df-convert');\n",
              "        buttonEl.style.display =\n",
              "          google.colab.kernel.accessAllowed ? 'block' : 'none';\n",
              "\n",
              "        async function convertToInteractive(key) {\n",
              "          const element = document.querySelector('#df-87363e4d-a6b4-4a78-af1f-8abdfd66fe86');\n",
              "          const dataTable =\n",
              "            await google.colab.kernel.invokeFunction('convertToInteractive',\n",
              "                                                     [key], {});\n",
              "          if (!dataTable) return;\n",
              "\n",
              "          const docLinkHtml = 'Like what you see? Visit the ' +\n",
              "            '<a target=\"_blank\" href=https://colab.research.google.com/notebooks/data_table.ipynb>data table notebook</a>'\n",
              "            + ' to learn more about interactive tables.';\n",
              "          element.innerHTML = '';\n",
              "          dataTable['output_type'] = 'display_data';\n",
              "          await google.colab.output.renderOutput(dataTable, element);\n",
              "          const docLink = document.createElement('div');\n",
              "          docLink.innerHTML = docLinkHtml;\n",
              "          element.appendChild(docLink);\n",
              "        }\n",
              "      </script>\n",
              "    </div>\n",
              "  </div>\n",
              "  "
            ]
          },
          "metadata": {},
          "execution_count": 338
        }
      ],
      "source": [
        "calendar_summarizeddf = pd.pivot_table(\n",
        "    data=calendar_newdf,\n",
        "    index=[\"listing_id\"],\n",
        "    values=[\"available\", \"five_day_dollar_price\"],\n",
        "    aggfunc=np.mean,  # The default aggregation function used\n",
        "    # for merging multiple related rows of data.\n",
        ")\n",
        "\n",
        "calendar_summarizeddf.head(3)"
      ]
    },
    {
      "cell_type": "markdown",
      "id": "d8d6a84b-1b7d-4d7d-b5b5-ab5b6b039db4",
      "metadata": {
        "id": "d8d6a84b-1b7d-4d7d-b5b5-ab5b6b039db4"
      },
      "source": [
        "#### (Extra Credit) Task 16: Maximum price and date\n",
        "\n",
        "[*\\[Related section on CoRise\\]*](https://corise.com/course/python-for-data-science/v2/module/merging-pros#corise_cl9woiqve006p3b6p0vsdbqge)\n",
        "\n",
        "Can you make a **pivot table** that states the **maximum `price_in_dollar`** for every Airbnb listing?\n",
        "\n",
        "The expected pivot table output should look like.\n",
        "\n",
        "|listing\\_id|price\\_in\\_dollar|\n",
        "|---|---|\n",
        "|2818|80\\.0|\n",
        "|44391|240\\.0|\n",
        "|49552|300\\.0|"
      ]
    },
    {
      "cell_type": "code",
      "source": [
        "temp_sum_df = pd.pivot_table(\n",
        "    data = calendar_newdf,\n",
        "    index = [\"listing_id\"],\n",
        "    values = [\"price_in_dollar\"],\n",
        "    aggfunc = np.max,  #returns the maximum values\n",
        ")\n",
        "\n",
        "temp_sum_df.head(3)"
      ],
      "metadata": {
        "id": "n6p8HXByHsup",
        "colab": {
          "base_uri": "https://localhost:8080/",
          "height": 175
        },
        "outputId": "a10e78eb-dd53-45b7-cd5e-4588480ecf46"
      },
      "id": "n6p8HXByHsup",
      "execution_count": null,
      "outputs": [
        {
          "output_type": "execute_result",
          "data": {
            "text/plain": [
              "            price_in_dollar\n",
              "listing_id                 \n",
              "2818                  80.00\n",
              "44391                240.00\n",
              "49552                300.00"
            ],
            "text/html": [
              "\n",
              "  <div id=\"df-c2902446-1418-423c-81c4-9abae71b172c\">\n",
              "    <div class=\"colab-df-container\">\n",
              "      <div>\n",
              "<style scoped>\n",
              "    .dataframe tbody tr th:only-of-type {\n",
              "        vertical-align: middle;\n",
              "    }\n",
              "\n",
              "    .dataframe tbody tr th {\n",
              "        vertical-align: top;\n",
              "    }\n",
              "\n",
              "    .dataframe thead th {\n",
              "        text-align: right;\n",
              "    }\n",
              "</style>\n",
              "<table border=\"1\" class=\"dataframe\">\n",
              "  <thead>\n",
              "    <tr style=\"text-align: right;\">\n",
              "      <th></th>\n",
              "      <th>price_in_dollar</th>\n",
              "    </tr>\n",
              "    <tr>\n",
              "      <th>listing_id</th>\n",
              "      <th></th>\n",
              "    </tr>\n",
              "  </thead>\n",
              "  <tbody>\n",
              "    <tr>\n",
              "      <th>2818</th>\n",
              "      <td>80.00</td>\n",
              "    </tr>\n",
              "    <tr>\n",
              "      <th>44391</th>\n",
              "      <td>240.00</td>\n",
              "    </tr>\n",
              "    <tr>\n",
              "      <th>49552</th>\n",
              "      <td>300.00</td>\n",
              "    </tr>\n",
              "  </tbody>\n",
              "</table>\n",
              "</div>\n",
              "      <button class=\"colab-df-convert\" onclick=\"convertToInteractive('df-c2902446-1418-423c-81c4-9abae71b172c')\"\n",
              "              title=\"Convert this dataframe to an interactive table.\"\n",
              "              style=\"display:none;\">\n",
              "        \n",
              "  <svg xmlns=\"http://www.w3.org/2000/svg\" height=\"24px\"viewBox=\"0 0 24 24\"\n",
              "       width=\"24px\">\n",
              "    <path d=\"M0 0h24v24H0V0z\" fill=\"none\"/>\n",
              "    <path d=\"M18.56 5.44l.94 2.06.94-2.06 2.06-.94-2.06-.94-.94-2.06-.94 2.06-2.06.94zm-11 1L8.5 8.5l.94-2.06 2.06-.94-2.06-.94L8.5 2.5l-.94 2.06-2.06.94zm10 10l.94 2.06.94-2.06 2.06-.94-2.06-.94-.94-2.06-.94 2.06-2.06.94z\"/><path d=\"M17.41 7.96l-1.37-1.37c-.4-.4-.92-.59-1.43-.59-.52 0-1.04.2-1.43.59L10.3 9.45l-7.72 7.72c-.78.78-.78 2.05 0 2.83L4 21.41c.39.39.9.59 1.41.59.51 0 1.02-.2 1.41-.59l7.78-7.78 2.81-2.81c.8-.78.8-2.07 0-2.86zM5.41 20L4 18.59l7.72-7.72 1.47 1.35L5.41 20z\"/>\n",
              "  </svg>\n",
              "      </button>\n",
              "      \n",
              "  <style>\n",
              "    .colab-df-container {\n",
              "      display:flex;\n",
              "      flex-wrap:wrap;\n",
              "      gap: 12px;\n",
              "    }\n",
              "\n",
              "    .colab-df-convert {\n",
              "      background-color: #E8F0FE;\n",
              "      border: none;\n",
              "      border-radius: 50%;\n",
              "      cursor: pointer;\n",
              "      display: none;\n",
              "      fill: #1967D2;\n",
              "      height: 32px;\n",
              "      padding: 0 0 0 0;\n",
              "      width: 32px;\n",
              "    }\n",
              "\n",
              "    .colab-df-convert:hover {\n",
              "      background-color: #E2EBFA;\n",
              "      box-shadow: 0px 1px 2px rgba(60, 64, 67, 0.3), 0px 1px 3px 1px rgba(60, 64, 67, 0.15);\n",
              "      fill: #174EA6;\n",
              "    }\n",
              "\n",
              "    [theme=dark] .colab-df-convert {\n",
              "      background-color: #3B4455;\n",
              "      fill: #D2E3FC;\n",
              "    }\n",
              "\n",
              "    [theme=dark] .colab-df-convert:hover {\n",
              "      background-color: #434B5C;\n",
              "      box-shadow: 0px 1px 3px 1px rgba(0, 0, 0, 0.15);\n",
              "      filter: drop-shadow(0px 1px 2px rgba(0, 0, 0, 0.3));\n",
              "      fill: #FFFFFF;\n",
              "    }\n",
              "  </style>\n",
              "\n",
              "      <script>\n",
              "        const buttonEl =\n",
              "          document.querySelector('#df-c2902446-1418-423c-81c4-9abae71b172c button.colab-df-convert');\n",
              "        buttonEl.style.display =\n",
              "          google.colab.kernel.accessAllowed ? 'block' : 'none';\n",
              "\n",
              "        async function convertToInteractive(key) {\n",
              "          const element = document.querySelector('#df-c2902446-1418-423c-81c4-9abae71b172c');\n",
              "          const dataTable =\n",
              "            await google.colab.kernel.invokeFunction('convertToInteractive',\n",
              "                                                     [key], {});\n",
              "          if (!dataTable) return;\n",
              "\n",
              "          const docLinkHtml = 'Like what you see? Visit the ' +\n",
              "            '<a target=\"_blank\" href=https://colab.research.google.com/notebooks/data_table.ipynb>data table notebook</a>'\n",
              "            + ' to learn more about interactive tables.';\n",
              "          element.innerHTML = '';\n",
              "          dataTable['output_type'] = 'display_data';\n",
              "          await google.colab.output.renderOutput(dataTable, element);\n",
              "          const docLink = document.createElement('div');\n",
              "          docLink.innerHTML = docLinkHtml;\n",
              "          element.appendChild(docLink);\n",
              "        }\n",
              "      </script>\n",
              "    </div>\n",
              "  </div>\n",
              "  "
            ]
          },
          "metadata": {},
          "execution_count": 339
        }
      ]
    },
    {
      "cell_type": "markdown",
      "id": "5db7aac6-bff7-4e52-b810-5b219bb9985c",
      "metadata": {
        "id": "5db7aac6-bff7-4e52-b810-5b219bb9985c"
      },
      "source": [
        "---\n",
        "\n",
        "## Join Us?!\n",
        "\n",
        "<center>\n",
        "  <img src=https://upload.wikimedia.org/wikipedia/commons/9/95/Merge_left_%28259959%29_-_The_Noun_Project.svg width=\"200\" align=\"center\" />\n",
        "</center>\n",
        "<br/>\n",
        "\n",
        "We are going to merge the pivot table that includes the `five_day_dollar_price` for each listing with `listings_df`. We have to keep in mind that we want to keep only those rows of Airbnb listing IDs that are present in both datasets."
      ]
    },
    {
      "cell_type": "markdown",
      "id": "43c76adb-67da-4c37-ad9d-550b03c1d332",
      "metadata": {
        "id": "43c76adb-67da-4c37-ad9d-550b03c1d332"
      },
      "source": [
        "#### Task 17: Mergin'\n",
        "\n",
        "[*\\[Related section on CoRise\\]*](https://corise.com/course/python-for-data-science/v2/module/merging-pros#corise_cl9wp1zf9007m3b6pfiawiagd)\n",
        "\n",
        "Let's use the [`pd.merge()`](https://pandas.pydata.org/docs/reference/api/pandas.DataFrame.merge.html) operation as was shown on CoRise, with the pivot table on the right and the **Listings DataFrame** on the left. Make sure to provide which columns you want to join on for our pivot table and the DataFrame.\n",
        "\n",
        "\n",
        "The expected merged table should look same as\n",
        "\n",
        "|index|id|host\\_acceptance\\_rate|host\\_is\\_superhost|neighbourhood\\_cleansed|latitude|longitude|room\\_type|accommodates|bedrooms|beds|amenities|price|minimum\\_nights|maximum\\_nights|has\\_availability|availability\\_30|number\\_of\\_reviews\\_l30d|review\\_scores\\_rating|instant\\_bookable|price\\_per\\_person|\n",
        "|---|---|---|---|---|---|---|---|---|---|---|---|---|---|---|---|---|---|---|---|---|\n",
        "|0|35815036|1\\.0|true|Noord-Oost|52\\.42419|4\\.95689|Entire home/apt|2|1|1|5|105\\.0|3|100|true|4|6|4\\.96|false|52\\.5|\n",
        "|1|19572024|1\\.0|false|Watergraafsmeer|52\\.30739|4\\.90833|Entire home/apt|6|3|6|14|279\\.0|3|300|true|6|3|4\\.69|false|46\\.5|\n",
        "|2|2973384|0\\.38|false|Watergraafsmeer|52\\.30989|4\\.90528|Entire home/apt|5|3|3|7|185\\.0|6|21|true|0|0|4\\.83|false|37\\.0|"
      ]
    },
    {
      "cell_type": "code",
      "source": [
        "df_list.head(2)"
      ],
      "metadata": {
        "colab": {
          "base_uri": "https://localhost:8080/",
          "height": 211
        },
        "id": "yB7QhuWMP1eo",
        "outputId": "899323e2-143f-4bc5-dd51-a6759f1e0e14"
      },
      "id": "yB7QhuWMP1eo",
      "execution_count": null,
      "outputs": [
        {
          "output_type": "execute_result",
          "data": {
            "text/plain": [
              "         id  host_acceptance_rate  host_is_superhost  \\\n",
              "0  23726706                  0.95              False   \n",
              "1  35815036                  1.00               True   \n",
              "\n",
              "              neighbourhood  latitude  longitude        room_type  \\\n",
              "0  IJburg - Zeeburgereiland     52.34       4.98     Private room   \n",
              "1                Noord-Oost     52.44       4.96  Entire home/apt   \n",
              "\n",
              "   accommodates  bedrooms  beds  amenities  price_in_dollar  minimum_nights  \\\n",
              "0             2         1     1          6            88.00               2   \n",
              "1             2         1     1          5           105.00               3   \n",
              "\n",
              "   maximum_nights  has_availability  availability_30  number_of_reviews_l30d  \\\n",
              "0              14              True                0                       3   \n",
              "1             100              True                4                       6   \n",
              "\n",
              "   review_scores_rating  instant_bookable  price_per_person  minimum_price  \\\n",
              "0                  4.99              True             44.00         176.00   \n",
              "1                  4.96             False             52.50         315.00   \n",
              "\n",
              "   discount_per_5_days_booked  discount_per_10_days_booked  \\\n",
              "0                        0.05                         0.11   \n",
              "1                        0.05                         0.12   \n",
              "\n",
              "   discount_per_30_and_more_days_booked  service_cost  \n",
              "0                                  0.16          4.99  \n",
              "1                                  0.16          4.99  "
            ],
            "text/html": [
              "\n",
              "  <div id=\"df-801b49b7-9122-4ce6-8e1b-8dd0045377cc\">\n",
              "    <div class=\"colab-df-container\">\n",
              "      <div>\n",
              "<style scoped>\n",
              "    .dataframe tbody tr th:only-of-type {\n",
              "        vertical-align: middle;\n",
              "    }\n",
              "\n",
              "    .dataframe tbody tr th {\n",
              "        vertical-align: top;\n",
              "    }\n",
              "\n",
              "    .dataframe thead th {\n",
              "        text-align: right;\n",
              "    }\n",
              "</style>\n",
              "<table border=\"1\" class=\"dataframe\">\n",
              "  <thead>\n",
              "    <tr style=\"text-align: right;\">\n",
              "      <th></th>\n",
              "      <th>id</th>\n",
              "      <th>host_acceptance_rate</th>\n",
              "      <th>host_is_superhost</th>\n",
              "      <th>neighbourhood</th>\n",
              "      <th>latitude</th>\n",
              "      <th>longitude</th>\n",
              "      <th>room_type</th>\n",
              "      <th>accommodates</th>\n",
              "      <th>bedrooms</th>\n",
              "      <th>beds</th>\n",
              "      <th>amenities</th>\n",
              "      <th>price_in_dollar</th>\n",
              "      <th>minimum_nights</th>\n",
              "      <th>maximum_nights</th>\n",
              "      <th>has_availability</th>\n",
              "      <th>availability_30</th>\n",
              "      <th>number_of_reviews_l30d</th>\n",
              "      <th>review_scores_rating</th>\n",
              "      <th>instant_bookable</th>\n",
              "      <th>price_per_person</th>\n",
              "      <th>minimum_price</th>\n",
              "      <th>discount_per_5_days_booked</th>\n",
              "      <th>discount_per_10_days_booked</th>\n",
              "      <th>discount_per_30_and_more_days_booked</th>\n",
              "      <th>service_cost</th>\n",
              "    </tr>\n",
              "  </thead>\n",
              "  <tbody>\n",
              "    <tr>\n",
              "      <th>0</th>\n",
              "      <td>23726706</td>\n",
              "      <td>0.95</td>\n",
              "      <td>False</td>\n",
              "      <td>IJburg - Zeeburgereiland</td>\n",
              "      <td>52.34</td>\n",
              "      <td>4.98</td>\n",
              "      <td>Private room</td>\n",
              "      <td>2</td>\n",
              "      <td>1</td>\n",
              "      <td>1</td>\n",
              "      <td>6</td>\n",
              "      <td>88.00</td>\n",
              "      <td>2</td>\n",
              "      <td>14</td>\n",
              "      <td>True</td>\n",
              "      <td>0</td>\n",
              "      <td>3</td>\n",
              "      <td>4.99</td>\n",
              "      <td>True</td>\n",
              "      <td>44.00</td>\n",
              "      <td>176.00</td>\n",
              "      <td>0.05</td>\n",
              "      <td>0.11</td>\n",
              "      <td>0.16</td>\n",
              "      <td>4.99</td>\n",
              "    </tr>\n",
              "    <tr>\n",
              "      <th>1</th>\n",
              "      <td>35815036</td>\n",
              "      <td>1.00</td>\n",
              "      <td>True</td>\n",
              "      <td>Noord-Oost</td>\n",
              "      <td>52.44</td>\n",
              "      <td>4.96</td>\n",
              "      <td>Entire home/apt</td>\n",
              "      <td>2</td>\n",
              "      <td>1</td>\n",
              "      <td>1</td>\n",
              "      <td>5</td>\n",
              "      <td>105.00</td>\n",
              "      <td>3</td>\n",
              "      <td>100</td>\n",
              "      <td>True</td>\n",
              "      <td>4</td>\n",
              "      <td>6</td>\n",
              "      <td>4.96</td>\n",
              "      <td>False</td>\n",
              "      <td>52.50</td>\n",
              "      <td>315.00</td>\n",
              "      <td>0.05</td>\n",
              "      <td>0.12</td>\n",
              "      <td>0.16</td>\n",
              "      <td>4.99</td>\n",
              "    </tr>\n",
              "  </tbody>\n",
              "</table>\n",
              "</div>\n",
              "      <button class=\"colab-df-convert\" onclick=\"convertToInteractive('df-801b49b7-9122-4ce6-8e1b-8dd0045377cc')\"\n",
              "              title=\"Convert this dataframe to an interactive table.\"\n",
              "              style=\"display:none;\">\n",
              "        \n",
              "  <svg xmlns=\"http://www.w3.org/2000/svg\" height=\"24px\"viewBox=\"0 0 24 24\"\n",
              "       width=\"24px\">\n",
              "    <path d=\"M0 0h24v24H0V0z\" fill=\"none\"/>\n",
              "    <path d=\"M18.56 5.44l.94 2.06.94-2.06 2.06-.94-2.06-.94-.94-2.06-.94 2.06-2.06.94zm-11 1L8.5 8.5l.94-2.06 2.06-.94-2.06-.94L8.5 2.5l-.94 2.06-2.06.94zm10 10l.94 2.06.94-2.06 2.06-.94-2.06-.94-.94-2.06-.94 2.06-2.06.94z\"/><path d=\"M17.41 7.96l-1.37-1.37c-.4-.4-.92-.59-1.43-.59-.52 0-1.04.2-1.43.59L10.3 9.45l-7.72 7.72c-.78.78-.78 2.05 0 2.83L4 21.41c.39.39.9.59 1.41.59.51 0 1.02-.2 1.41-.59l7.78-7.78 2.81-2.81c.8-.78.8-2.07 0-2.86zM5.41 20L4 18.59l7.72-7.72 1.47 1.35L5.41 20z\"/>\n",
              "  </svg>\n",
              "      </button>\n",
              "      \n",
              "  <style>\n",
              "    .colab-df-container {\n",
              "      display:flex;\n",
              "      flex-wrap:wrap;\n",
              "      gap: 12px;\n",
              "    }\n",
              "\n",
              "    .colab-df-convert {\n",
              "      background-color: #E8F0FE;\n",
              "      border: none;\n",
              "      border-radius: 50%;\n",
              "      cursor: pointer;\n",
              "      display: none;\n",
              "      fill: #1967D2;\n",
              "      height: 32px;\n",
              "      padding: 0 0 0 0;\n",
              "      width: 32px;\n",
              "    }\n",
              "\n",
              "    .colab-df-convert:hover {\n",
              "      background-color: #E2EBFA;\n",
              "      box-shadow: 0px 1px 2px rgba(60, 64, 67, 0.3), 0px 1px 3px 1px rgba(60, 64, 67, 0.15);\n",
              "      fill: #174EA6;\n",
              "    }\n",
              "\n",
              "    [theme=dark] .colab-df-convert {\n",
              "      background-color: #3B4455;\n",
              "      fill: #D2E3FC;\n",
              "    }\n",
              "\n",
              "    [theme=dark] .colab-df-convert:hover {\n",
              "      background-color: #434B5C;\n",
              "      box-shadow: 0px 1px 3px 1px rgba(0, 0, 0, 0.15);\n",
              "      filter: drop-shadow(0px 1px 2px rgba(0, 0, 0, 0.3));\n",
              "      fill: #FFFFFF;\n",
              "    }\n",
              "  </style>\n",
              "\n",
              "      <script>\n",
              "        const buttonEl =\n",
              "          document.querySelector('#df-801b49b7-9122-4ce6-8e1b-8dd0045377cc button.colab-df-convert');\n",
              "        buttonEl.style.display =\n",
              "          google.colab.kernel.accessAllowed ? 'block' : 'none';\n",
              "\n",
              "        async function convertToInteractive(key) {\n",
              "          const element = document.querySelector('#df-801b49b7-9122-4ce6-8e1b-8dd0045377cc');\n",
              "          const dataTable =\n",
              "            await google.colab.kernel.invokeFunction('convertToInteractive',\n",
              "                                                     [key], {});\n",
              "          if (!dataTable) return;\n",
              "\n",
              "          const docLinkHtml = 'Like what you see? Visit the ' +\n",
              "            '<a target=\"_blank\" href=https://colab.research.google.com/notebooks/data_table.ipynb>data table notebook</a>'\n",
              "            + ' to learn more about interactive tables.';\n",
              "          element.innerHTML = '';\n",
              "          dataTable['output_type'] = 'display_data';\n",
              "          await google.colab.output.renderOutput(dataTable, element);\n",
              "          const docLink = document.createElement('div');\n",
              "          docLink.innerHTML = docLinkHtml;\n",
              "          element.appendChild(docLink);\n",
              "        }\n",
              "      </script>\n",
              "    </div>\n",
              "  </div>\n",
              "  "
            ]
          },
          "metadata": {},
          "execution_count": 343
        }
      ]
    },
    {
      "cell_type": "code",
      "source": [
        "final_df = pd.merge(\n",
        "    df_list,\n",
        "    calendar_summarizeddf,\n",
        "    left_on = [\"id\"],\n",
        "    right_on = [\"listing_id\"],\n",
        "    how = \"inner\"    \n",
        "\n",
        ")\n",
        "final_df.head(3)"
      ],
      "metadata": {
        "id": "f0FIdh0CIyY6",
        "colab": {
          "base_uri": "https://localhost:8080/",
          "height": 259
        },
        "outputId": "e3eb7d68-e871-4499-d2fc-f15bf6db50d8"
      },
      "id": "f0FIdh0CIyY6",
      "execution_count": null,
      "outputs": [
        {
          "output_type": "execute_result",
          "data": {
            "text/plain": [
              "         id  host_acceptance_rate  host_is_superhost    neighbourhood  \\\n",
              "0  35815036                  1.00               True       Noord-Oost   \n",
              "1  19572024                  1.00              False  Watergraafsmeer   \n",
              "2   2973384                  0.38              False  Watergraafsmeer   \n",
              "\n",
              "   latitude  longitude        room_type  accommodates  bedrooms  beds  \\\n",
              "0     52.44       4.96  Entire home/apt             2         1     1   \n",
              "1     52.31       4.91  Entire home/apt             6         3     6   \n",
              "2     52.31       4.91  Entire home/apt             5         3     3   \n",
              "\n",
              "   amenities  price_in_dollar  minimum_nights  maximum_nights  \\\n",
              "0          5           105.00               3             100   \n",
              "1         14           279.00               3             300   \n",
              "2          7           185.00               6              21   \n",
              "\n",
              "   has_availability  availability_30  number_of_reviews_l30d  \\\n",
              "0              True                4                       6   \n",
              "1              True                6                       3   \n",
              "2              True                0                       0   \n",
              "\n",
              "   review_scores_rating  instant_bookable  price_per_person  minimum_price  \\\n",
              "0                  4.96             False             52.50         315.00   \n",
              "1                  4.69             False             46.50         837.00   \n",
              "2                  4.83             False             37.00        1110.00   \n",
              "\n",
              "   discount_per_5_days_booked  discount_per_10_days_booked  \\\n",
              "0                        0.05                         0.12   \n",
              "1                        0.09                         0.16   \n",
              "2                        0.06                         0.12   \n",
              "\n",
              "   discount_per_30_and_more_days_booked  service_cost  available  \\\n",
              "0                                  0.16          4.99       0.66   \n",
              "1                                  0.14          4.99       0.82   \n",
              "2                                  0.18          4.99       0.04   \n",
              "\n",
              "   five_day_dollar_price  \n",
              "0                 528.89  \n",
              "1                1496.55  \n",
              "2                 941.30  "
            ],
            "text/html": [
              "\n",
              "  <div id=\"df-200e31f0-cb41-4429-9fcf-78a0a89a9a23\">\n",
              "    <div class=\"colab-df-container\">\n",
              "      <div>\n",
              "<style scoped>\n",
              "    .dataframe tbody tr th:only-of-type {\n",
              "        vertical-align: middle;\n",
              "    }\n",
              "\n",
              "    .dataframe tbody tr th {\n",
              "        vertical-align: top;\n",
              "    }\n",
              "\n",
              "    .dataframe thead th {\n",
              "        text-align: right;\n",
              "    }\n",
              "</style>\n",
              "<table border=\"1\" class=\"dataframe\">\n",
              "  <thead>\n",
              "    <tr style=\"text-align: right;\">\n",
              "      <th></th>\n",
              "      <th>id</th>\n",
              "      <th>host_acceptance_rate</th>\n",
              "      <th>host_is_superhost</th>\n",
              "      <th>neighbourhood</th>\n",
              "      <th>latitude</th>\n",
              "      <th>longitude</th>\n",
              "      <th>room_type</th>\n",
              "      <th>accommodates</th>\n",
              "      <th>bedrooms</th>\n",
              "      <th>beds</th>\n",
              "      <th>amenities</th>\n",
              "      <th>price_in_dollar</th>\n",
              "      <th>minimum_nights</th>\n",
              "      <th>maximum_nights</th>\n",
              "      <th>has_availability</th>\n",
              "      <th>availability_30</th>\n",
              "      <th>number_of_reviews_l30d</th>\n",
              "      <th>review_scores_rating</th>\n",
              "      <th>instant_bookable</th>\n",
              "      <th>price_per_person</th>\n",
              "      <th>minimum_price</th>\n",
              "      <th>discount_per_5_days_booked</th>\n",
              "      <th>discount_per_10_days_booked</th>\n",
              "      <th>discount_per_30_and_more_days_booked</th>\n",
              "      <th>service_cost</th>\n",
              "      <th>available</th>\n",
              "      <th>five_day_dollar_price</th>\n",
              "    </tr>\n",
              "  </thead>\n",
              "  <tbody>\n",
              "    <tr>\n",
              "      <th>0</th>\n",
              "      <td>35815036</td>\n",
              "      <td>1.00</td>\n",
              "      <td>True</td>\n",
              "      <td>Noord-Oost</td>\n",
              "      <td>52.44</td>\n",
              "      <td>4.96</td>\n",
              "      <td>Entire home/apt</td>\n",
              "      <td>2</td>\n",
              "      <td>1</td>\n",
              "      <td>1</td>\n",
              "      <td>5</td>\n",
              "      <td>105.00</td>\n",
              "      <td>3</td>\n",
              "      <td>100</td>\n",
              "      <td>True</td>\n",
              "      <td>4</td>\n",
              "      <td>6</td>\n",
              "      <td>4.96</td>\n",
              "      <td>False</td>\n",
              "      <td>52.50</td>\n",
              "      <td>315.00</td>\n",
              "      <td>0.05</td>\n",
              "      <td>0.12</td>\n",
              "      <td>0.16</td>\n",
              "      <td>4.99</td>\n",
              "      <td>0.66</td>\n",
              "      <td>528.89</td>\n",
              "    </tr>\n",
              "    <tr>\n",
              "      <th>1</th>\n",
              "      <td>19572024</td>\n",
              "      <td>1.00</td>\n",
              "      <td>False</td>\n",
              "      <td>Watergraafsmeer</td>\n",
              "      <td>52.31</td>\n",
              "      <td>4.91</td>\n",
              "      <td>Entire home/apt</td>\n",
              "      <td>6</td>\n",
              "      <td>3</td>\n",
              "      <td>6</td>\n",
              "      <td>14</td>\n",
              "      <td>279.00</td>\n",
              "      <td>3</td>\n",
              "      <td>300</td>\n",
              "      <td>True</td>\n",
              "      <td>6</td>\n",
              "      <td>3</td>\n",
              "      <td>4.69</td>\n",
              "      <td>False</td>\n",
              "      <td>46.50</td>\n",
              "      <td>837.00</td>\n",
              "      <td>0.09</td>\n",
              "      <td>0.16</td>\n",
              "      <td>0.14</td>\n",
              "      <td>4.99</td>\n",
              "      <td>0.82</td>\n",
              "      <td>1496.55</td>\n",
              "    </tr>\n",
              "    <tr>\n",
              "      <th>2</th>\n",
              "      <td>2973384</td>\n",
              "      <td>0.38</td>\n",
              "      <td>False</td>\n",
              "      <td>Watergraafsmeer</td>\n",
              "      <td>52.31</td>\n",
              "      <td>4.91</td>\n",
              "      <td>Entire home/apt</td>\n",
              "      <td>5</td>\n",
              "      <td>3</td>\n",
              "      <td>3</td>\n",
              "      <td>7</td>\n",
              "      <td>185.00</td>\n",
              "      <td>6</td>\n",
              "      <td>21</td>\n",
              "      <td>True</td>\n",
              "      <td>0</td>\n",
              "      <td>0</td>\n",
              "      <td>4.83</td>\n",
              "      <td>False</td>\n",
              "      <td>37.00</td>\n",
              "      <td>1110.00</td>\n",
              "      <td>0.06</td>\n",
              "      <td>0.12</td>\n",
              "      <td>0.18</td>\n",
              "      <td>4.99</td>\n",
              "      <td>0.04</td>\n",
              "      <td>941.30</td>\n",
              "    </tr>\n",
              "  </tbody>\n",
              "</table>\n",
              "</div>\n",
              "      <button class=\"colab-df-convert\" onclick=\"convertToInteractive('df-200e31f0-cb41-4429-9fcf-78a0a89a9a23')\"\n",
              "              title=\"Convert this dataframe to an interactive table.\"\n",
              "              style=\"display:none;\">\n",
              "        \n",
              "  <svg xmlns=\"http://www.w3.org/2000/svg\" height=\"24px\"viewBox=\"0 0 24 24\"\n",
              "       width=\"24px\">\n",
              "    <path d=\"M0 0h24v24H0V0z\" fill=\"none\"/>\n",
              "    <path d=\"M18.56 5.44l.94 2.06.94-2.06 2.06-.94-2.06-.94-.94-2.06-.94 2.06-2.06.94zm-11 1L8.5 8.5l.94-2.06 2.06-.94-2.06-.94L8.5 2.5l-.94 2.06-2.06.94zm10 10l.94 2.06.94-2.06 2.06-.94-2.06-.94-.94-2.06-.94 2.06-2.06.94z\"/><path d=\"M17.41 7.96l-1.37-1.37c-.4-.4-.92-.59-1.43-.59-.52 0-1.04.2-1.43.59L10.3 9.45l-7.72 7.72c-.78.78-.78 2.05 0 2.83L4 21.41c.39.39.9.59 1.41.59.51 0 1.02-.2 1.41-.59l7.78-7.78 2.81-2.81c.8-.78.8-2.07 0-2.86zM5.41 20L4 18.59l7.72-7.72 1.47 1.35L5.41 20z\"/>\n",
              "  </svg>\n",
              "      </button>\n",
              "      \n",
              "  <style>\n",
              "    .colab-df-container {\n",
              "      display:flex;\n",
              "      flex-wrap:wrap;\n",
              "      gap: 12px;\n",
              "    }\n",
              "\n",
              "    .colab-df-convert {\n",
              "      background-color: #E8F0FE;\n",
              "      border: none;\n",
              "      border-radius: 50%;\n",
              "      cursor: pointer;\n",
              "      display: none;\n",
              "      fill: #1967D2;\n",
              "      height: 32px;\n",
              "      padding: 0 0 0 0;\n",
              "      width: 32px;\n",
              "    }\n",
              "\n",
              "    .colab-df-convert:hover {\n",
              "      background-color: #E2EBFA;\n",
              "      box-shadow: 0px 1px 2px rgba(60, 64, 67, 0.3), 0px 1px 3px 1px rgba(60, 64, 67, 0.15);\n",
              "      fill: #174EA6;\n",
              "    }\n",
              "\n",
              "    [theme=dark] .colab-df-convert {\n",
              "      background-color: #3B4455;\n",
              "      fill: #D2E3FC;\n",
              "    }\n",
              "\n",
              "    [theme=dark] .colab-df-convert:hover {\n",
              "      background-color: #434B5C;\n",
              "      box-shadow: 0px 1px 3px 1px rgba(0, 0, 0, 0.15);\n",
              "      filter: drop-shadow(0px 1px 2px rgba(0, 0, 0, 0.3));\n",
              "      fill: #FFFFFF;\n",
              "    }\n",
              "  </style>\n",
              "\n",
              "      <script>\n",
              "        const buttonEl =\n",
              "          document.querySelector('#df-200e31f0-cb41-4429-9fcf-78a0a89a9a23 button.colab-df-convert');\n",
              "        buttonEl.style.display =\n",
              "          google.colab.kernel.accessAllowed ? 'block' : 'none';\n",
              "\n",
              "        async function convertToInteractive(key) {\n",
              "          const element = document.querySelector('#df-200e31f0-cb41-4429-9fcf-78a0a89a9a23');\n",
              "          const dataTable =\n",
              "            await google.colab.kernel.invokeFunction('convertToInteractive',\n",
              "                                                     [key], {});\n",
              "          if (!dataTable) return;\n",
              "\n",
              "          const docLinkHtml = 'Like what you see? Visit the ' +\n",
              "            '<a target=\"_blank\" href=https://colab.research.google.com/notebooks/data_table.ipynb>data table notebook</a>'\n",
              "            + ' to learn more about interactive tables.';\n",
              "          element.innerHTML = '';\n",
              "          dataTable['output_type'] = 'display_data';\n",
              "          await google.colab.output.renderOutput(dataTable, element);\n",
              "          const docLink = document.createElement('div');\n",
              "          docLink.innerHTML = docLinkHtml;\n",
              "          element.appendChild(docLink);\n",
              "        }\n",
              "      </script>\n",
              "    </div>\n",
              "  </div>\n",
              "  "
            ]
          },
          "metadata": {},
          "execution_count": 345
        }
      ]
    },
    {
      "cell_type": "markdown",
      "id": "1c891740-71b1-4617-b41c-a3f310906eb6",
      "metadata": {
        "id": "1c891740-71b1-4617-b41c-a3f310906eb6"
      },
      "source": [
        "---\n",
        "\n",
        "#### (Extra Credit) Task 18: Groups are great\n",
        "\n",
        "[*\\[Related section on CoRise\\]*](https://corise.com/course/python-for-data-science/v2/module/data-explore-stats#corise_cl9wpp3t100n53b6pmv167sm7)\n",
        "\n",
        "Now, let's perform a [`groupby`](https://pandas.pydata.org/docs/reference/api/pandas.DataFrame.groupby.html) where we look at the median values of `five_day_dollar_price` and `review_scores_accuracy` with respect to the `room_type`. Do these results match your intuition?\n",
        "\n",
        "\n",
        "The expected group by table should look same as,\n",
        "\n",
        "|room\\_type|review\\_scores\\_rating|five\\_day\\_dollar\\_price|\n",
        "|---|---|---|\n",
        "|Entire home/apt|4\\.88|972\\.7397260273973|\n",
        "|Hotel room|4\\.5649999999999995|908\\.1575342465753|\n",
        "|Private room|4\\.79|681\\.986301369863|\n",
        "|Shared room|4\\.6|565\\.027397260274|"
      ]
    },
    {
      "cell_type": "code",
      "source": [
        "final_df.groupby(by = [\"room_type\"])[[\n",
        "    \"room_type\",\n",
        "    \"review_scores_rating\",\n",
        "    \"five_day_dollar_price\"\n",
        "]].median().sort_values(\"room_type\")"
      ],
      "metadata": {
        "id": "0wyuhz4wJRgt",
        "colab": {
          "base_uri": "https://localhost:8080/",
          "height": 206
        },
        "outputId": "a89f4eb6-296c-4ea6-874f-f556cd165566"
      },
      "id": "0wyuhz4wJRgt",
      "execution_count": null,
      "outputs": [
        {
          "output_type": "execute_result",
          "data": {
            "text/plain": [
              "                 review_scores_rating  five_day_dollar_price\n",
              "room_type                                                   \n",
              "Entire home/apt                  4.88                 975.00\n",
              "Hotel room                       4.56                1110.16\n",
              "Private room                     4.79                 710.91\n",
              "Shared room                      4.60                 724.11"
            ],
            "text/html": [
              "\n",
              "  <div id=\"df-1651bc52-5b98-4599-8e0d-f915651fe96f\">\n",
              "    <div class=\"colab-df-container\">\n",
              "      <div>\n",
              "<style scoped>\n",
              "    .dataframe tbody tr th:only-of-type {\n",
              "        vertical-align: middle;\n",
              "    }\n",
              "\n",
              "    .dataframe tbody tr th {\n",
              "        vertical-align: top;\n",
              "    }\n",
              "\n",
              "    .dataframe thead th {\n",
              "        text-align: right;\n",
              "    }\n",
              "</style>\n",
              "<table border=\"1\" class=\"dataframe\">\n",
              "  <thead>\n",
              "    <tr style=\"text-align: right;\">\n",
              "      <th></th>\n",
              "      <th>review_scores_rating</th>\n",
              "      <th>five_day_dollar_price</th>\n",
              "    </tr>\n",
              "    <tr>\n",
              "      <th>room_type</th>\n",
              "      <th></th>\n",
              "      <th></th>\n",
              "    </tr>\n",
              "  </thead>\n",
              "  <tbody>\n",
              "    <tr>\n",
              "      <th>Entire home/apt</th>\n",
              "      <td>4.88</td>\n",
              "      <td>975.00</td>\n",
              "    </tr>\n",
              "    <tr>\n",
              "      <th>Hotel room</th>\n",
              "      <td>4.56</td>\n",
              "      <td>1110.16</td>\n",
              "    </tr>\n",
              "    <tr>\n",
              "      <th>Private room</th>\n",
              "      <td>4.79</td>\n",
              "      <td>710.91</td>\n",
              "    </tr>\n",
              "    <tr>\n",
              "      <th>Shared room</th>\n",
              "      <td>4.60</td>\n",
              "      <td>724.11</td>\n",
              "    </tr>\n",
              "  </tbody>\n",
              "</table>\n",
              "</div>\n",
              "      <button class=\"colab-df-convert\" onclick=\"convertToInteractive('df-1651bc52-5b98-4599-8e0d-f915651fe96f')\"\n",
              "              title=\"Convert this dataframe to an interactive table.\"\n",
              "              style=\"display:none;\">\n",
              "        \n",
              "  <svg xmlns=\"http://www.w3.org/2000/svg\" height=\"24px\"viewBox=\"0 0 24 24\"\n",
              "       width=\"24px\">\n",
              "    <path d=\"M0 0h24v24H0V0z\" fill=\"none\"/>\n",
              "    <path d=\"M18.56 5.44l.94 2.06.94-2.06 2.06-.94-2.06-.94-.94-2.06-.94 2.06-2.06.94zm-11 1L8.5 8.5l.94-2.06 2.06-.94-2.06-.94L8.5 2.5l-.94 2.06-2.06.94zm10 10l.94 2.06.94-2.06 2.06-.94-2.06-.94-.94-2.06-.94 2.06-2.06.94z\"/><path d=\"M17.41 7.96l-1.37-1.37c-.4-.4-.92-.59-1.43-.59-.52 0-1.04.2-1.43.59L10.3 9.45l-7.72 7.72c-.78.78-.78 2.05 0 2.83L4 21.41c.39.39.9.59 1.41.59.51 0 1.02-.2 1.41-.59l7.78-7.78 2.81-2.81c.8-.78.8-2.07 0-2.86zM5.41 20L4 18.59l7.72-7.72 1.47 1.35L5.41 20z\"/>\n",
              "  </svg>\n",
              "      </button>\n",
              "      \n",
              "  <style>\n",
              "    .colab-df-container {\n",
              "      display:flex;\n",
              "      flex-wrap:wrap;\n",
              "      gap: 12px;\n",
              "    }\n",
              "\n",
              "    .colab-df-convert {\n",
              "      background-color: #E8F0FE;\n",
              "      border: none;\n",
              "      border-radius: 50%;\n",
              "      cursor: pointer;\n",
              "      display: none;\n",
              "      fill: #1967D2;\n",
              "      height: 32px;\n",
              "      padding: 0 0 0 0;\n",
              "      width: 32px;\n",
              "    }\n",
              "\n",
              "    .colab-df-convert:hover {\n",
              "      background-color: #E2EBFA;\n",
              "      box-shadow: 0px 1px 2px rgba(60, 64, 67, 0.3), 0px 1px 3px 1px rgba(60, 64, 67, 0.15);\n",
              "      fill: #174EA6;\n",
              "    }\n",
              "\n",
              "    [theme=dark] .colab-df-convert {\n",
              "      background-color: #3B4455;\n",
              "      fill: #D2E3FC;\n",
              "    }\n",
              "\n",
              "    [theme=dark] .colab-df-convert:hover {\n",
              "      background-color: #434B5C;\n",
              "      box-shadow: 0px 1px 3px 1px rgba(0, 0, 0, 0.15);\n",
              "      filter: drop-shadow(0px 1px 2px rgba(0, 0, 0, 0.3));\n",
              "      fill: #FFFFFF;\n",
              "    }\n",
              "  </style>\n",
              "\n",
              "      <script>\n",
              "        const buttonEl =\n",
              "          document.querySelector('#df-1651bc52-5b98-4599-8e0d-f915651fe96f button.colab-df-convert');\n",
              "        buttonEl.style.display =\n",
              "          google.colab.kernel.accessAllowed ? 'block' : 'none';\n",
              "\n",
              "        async function convertToInteractive(key) {\n",
              "          const element = document.querySelector('#df-1651bc52-5b98-4599-8e0d-f915651fe96f');\n",
              "          const dataTable =\n",
              "            await google.colab.kernel.invokeFunction('convertToInteractive',\n",
              "                                                     [key], {});\n",
              "          if (!dataTable) return;\n",
              "\n",
              "          const docLinkHtml = 'Like what you see? Visit the ' +\n",
              "            '<a target=\"_blank\" href=https://colab.research.google.com/notebooks/data_table.ipynb>data table notebook</a>'\n",
              "            + ' to learn more about interactive tables.';\n",
              "          element.innerHTML = '';\n",
              "          dataTable['output_type'] = 'display_data';\n",
              "          await google.colab.output.renderOutput(dataTable, element);\n",
              "          const docLink = document.createElement('div');\n",
              "          docLink.innerHTML = docLinkHtml;\n",
              "          element.appendChild(docLink);\n",
              "        }\n",
              "      </script>\n",
              "    </div>\n",
              "  </div>\n",
              "  "
            ]
          },
          "metadata": {},
          "execution_count": 348
        }
      ]
    },
    {
      "cell_type": "markdown",
      "id": "3050a784-f466-48f7-8a39-d86e4be34fcb",
      "metadata": {
        "id": "3050a784-f466-48f7-8a39-d86e4be34fcb"
      },
      "source": [
        "You might have expected that shared rooms are the cheapest and thus have the lowest rating with respect to median scores. The same can't be said for the most expensive option — a hotel room. Will this influence your future considerations when booking 🤔?\n",
        "\n",
        "(But before you let this influence your decisions too much, it might be better to assume that this data might be biased in favor of Airbnb and not hotels in general. 🤷)\n",
        "\n",
        "---"
      ]
    },
    {
      "cell_type": "markdown",
      "source": [
        "You've walked through all the most important parts of Pandas. It's a really easy-to-use library that shares a lot of syntax with NumPy. It is great for analyzing and cleaning datasets, and as you might have discovered with the previous code, Pandas allows you to really go into the nitty-gritty details of your dataset. These skills are invaluable for a data scientist, and will empower you to utilize data where you work now, or even where you could work in the future!\n",
        "\n",
        "The next steps involve downloading the files to your local computer so that you can make an app for your portfolio. After, we will provide some suggestions on how you can extend this project, along with some interesting links to investigate."
      ],
      "metadata": {
        "id": "zskplBMla6zo"
      },
      "id": "zskplBMla6zo"
    },
    {
      "cell_type": "markdown",
      "source": [
        "### Download the Dataset to Your Local Machine\n",
        "\n",
        "Let's first export our final DataFrame."
      ],
      "metadata": {
        "id": "vtFPkCD49UbC"
      },
      "id": "vtFPkCD49UbC"
    },
    {
      "cell_type": "code",
      "source": [
        "final_df.to_csv(\n",
        "    \"WK2_Airbnb_Amsterdam_listings_proj_solution.csv\",\n",
        "    index=True,\n",
        ")"
      ],
      "metadata": {
        "id": "ke4c3potKoCa"
      },
      "id": "ke4c3potKoCa",
      "execution_count": null,
      "outputs": []
    },
    {
      "cell_type": "markdown",
      "source": [
        "Google Colab comes with its own Python packages that allow us to quickly download generated files, like so:"
      ],
      "metadata": {
        "id": "kVpFcu8ULC8-"
      },
      "id": "kVpFcu8ULC8-"
    },
    {
      "cell_type": "code",
      "source": [
        "from google.colab import files\n",
        "\n",
        "# Download the file locally\n",
        "files.download('WK2_Airbnb_Amsterdam_listings_proj_solution.csv')"
      ],
      "metadata": {
        "id": "x0nVFL3_6bCC",
        "colab": {
          "base_uri": "https://localhost:8080/",
          "height": 17
        },
        "outputId": "6028417a-acb3-4a8c-c94e-436ae028b9d0"
      },
      "execution_count": null,
      "outputs": [
        {
          "output_type": "display_data",
          "data": {
            "text/plain": [
              "<IPython.core.display.Javascript object>"
            ],
            "application/javascript": [
              "\n",
              "    async function download(id, filename, size) {\n",
              "      if (!google.colab.kernel.accessAllowed) {\n",
              "        return;\n",
              "      }\n",
              "      const div = document.createElement('div');\n",
              "      const label = document.createElement('label');\n",
              "      label.textContent = `Downloading \"${filename}\": `;\n",
              "      div.appendChild(label);\n",
              "      const progress = document.createElement('progress');\n",
              "      progress.max = size;\n",
              "      div.appendChild(progress);\n",
              "      document.body.appendChild(div);\n",
              "\n",
              "      const buffers = [];\n",
              "      let downloaded = 0;\n",
              "\n",
              "      const channel = await google.colab.kernel.comms.open(id);\n",
              "      // Send a message to notify the kernel that we're ready.\n",
              "      channel.send({})\n",
              "\n",
              "      for await (const message of channel.messages) {\n",
              "        // Send a message to notify the kernel that we're ready.\n",
              "        channel.send({})\n",
              "        if (message.buffers) {\n",
              "          for (const buffer of message.buffers) {\n",
              "            buffers.push(buffer);\n",
              "            downloaded += buffer.byteLength;\n",
              "            progress.value = downloaded;\n",
              "          }\n",
              "        }\n",
              "      }\n",
              "      const blob = new Blob(buffers, {type: 'application/binary'});\n",
              "      const a = document.createElement('a');\n",
              "      a.href = window.URL.createObjectURL(blob);\n",
              "      a.download = filename;\n",
              "      div.appendChild(a);\n",
              "      a.click();\n",
              "      div.remove();\n",
              "    }\n",
              "  "
            ]
          },
          "metadata": {}
        },
        {
          "output_type": "display_data",
          "data": {
            "text/plain": [
              "<IPython.core.display.Javascript object>"
            ],
            "application/javascript": [
              "download(\"download_a9567c0c-6622-4798-ad1b-0f8835866955\", \"WK2_Airbnb_Amsterdam_listings_proj_solution.csv\", 487044)"
            ]
          },
          "metadata": {}
        }
      ],
      "id": "x0nVFL3_6bCC"
    },
    {
      "cell_type": "markdown",
      "source": [
        "### Make an App for Your Portfolio!\n",
        "\n",
        "<center>\n",
        "  <img src=https://griddb-pro.azureedge.net/en/wp-content/uploads/2021/08/streamlit-1160x650.png width=\"500\" align=\"center\" />\n",
        "</center>\n",
        "<br/>\n",
        "\n",
        "**Participants such as yourselves often want to use the weekly CoRise projects for their portfolios. To facilitate that, we've created this section. It might seem like a lot, but it's actually just following instructions and copy-pasting. Reach out on Slack if you get stuck!** \n",
        "\n",
        "You will make an app that visualizes the dataset as a DataFrame and as a geographic visualization like so:\n",
        "\n",
        "<center>\n",
        "  <img src=https://i.ibb.co/N9JKbd8/Screen-Shot-2022-11-10-at-4-07-17-PM.png width=\"500\" align=\"center\" />\n",
        "</center>\n",
        "<br/>\n",
        "\n",
        "To visualize this, we will again use a library called [Streamlit](https://streamlit.io/). For now you are not expected to know how Streamlit works, but you are expected to be able to copy-paste and follow instructions if you want to share this project as part of your portfolio!\n",
        "\n",
        "We are going to use [Streamlit Share](https://share.streamlit.io/) to host your projects. It's a website that allows us to host our interactive projects for free online! Again, we don't expect you to understand how to use and/or modify the code shown below. We do expect you to read the instructions and copy-paste our code to the Streamlit Share platform. Feel free to change it any way you like. Some great starting points are [here](https://python.plainenglish.io/how-to-build-web-app-using-streamlit-pandas-numpy-5e134f0cf552), [here](https://docs.streamlit.io/library/get-started/create-an-app), [here](https://streamlit.io/components), and [here](https://streamlit.io/gallery)!\n",
        "\n",
        "The `app.py` below is based on [this code](https://github.com/tylerjrichards/st-filter-dataframe/blob/main/streamlit_app.py). Feel free to extend it if you like!"
      ],
      "metadata": {
        "id": "Uk00nl03LJtI"
      },
      "id": "Uk00nl03LJtI"
    },
    {
      "cell_type": "code",
      "source": [
        "%%writefile app.py\n",
        "import pandas as pd\n",
        "import streamlit as st\n",
        "from pandas.api.types import (\n",
        "    is_categorical_dtype,\n",
        "    is_datetime64_any_dtype,\n",
        "    is_numeric_dtype,\n",
        "    is_object_dtype\n",
        ")\n",
        "\n",
        "st.title(\"Filter your Airbnb Listings dataframe!\")\n",
        "\n",
        "st.write(\n",
        "    \"\"\"This app is based on this blog [here](https://blog.streamlit.io/auto-generate-a-dataframe-filtering-ui-in-streamlit-with-filter_dataframe/). \n",
        "    Can you think of ways to extend it with visuals?\n",
        "    \"\"\"\n",
        ")\n",
        "\n",
        "\n",
        "def filter_dataframe(df: pd.DataFrame) -> pd.DataFrame:\n",
        "    \"\"\"\n",
        "    Adds a UI on top of a dataframe to let viewers filter columns\n",
        "    Args:\n",
        "        df (pd.DataFrame): Original dataframe\n",
        "    Returns:\n",
        "        pd.DataFrame: Filtered dataframe\n",
        "    \"\"\"\n",
        "    modify = st.checkbox(\"Add filters\")\n",
        "\n",
        "    if not modify:\n",
        "        return df\n",
        "\n",
        "    df = df.copy()\n",
        "\n",
        "    # Try to convert datetimes into a standard format (datetime, no timezone)\n",
        "    for col in df.columns:\n",
        "        if is_object_dtype(df[col]):\n",
        "            try:\n",
        "                df[col] = pd.to_datetime(df[col])\n",
        "            except Exception:\n",
        "                pass\n",
        "\n",
        "        if is_datetime64_any_dtype(df[col]):\n",
        "            df[col] = df[col].dt.tz_localize(None)\n",
        "\n",
        "    modification_container = st.container()\n",
        "\n",
        "    with modification_container:\n",
        "        to_filter_columns = st.multiselect(\"Filter dataframe on\", df.columns)\n",
        "        for column in to_filter_columns:\n",
        "            left, right = st.columns((1, 20))\n",
        "            left.write(\"↳\")\n",
        "            # Treat columns with < 10 unique values as categorical\n",
        "            if is_categorical_dtype(df[column]) or df[column].nunique() < 10:\n",
        "                user_cat_input = right.multiselect(\n",
        "                    f\"Values for {column}\",\n",
        "                    df[column].unique(),\n",
        "                    default=list(df[column].unique()),\n",
        "                )\n",
        "                df = df[df[column].isin(user_cat_input)]\n",
        "            elif is_numeric_dtype(df[column]):\n",
        "                _min = float(df[column].min())\n",
        "                _max = float(df[column].max())\n",
        "                step = (_max - _min) / 100\n",
        "                user_num_input = right.slider(\n",
        "                    f\"Values for {column}\",\n",
        "                    _min,\n",
        "                    _max,\n",
        "                    (_min, _max),\n",
        "                    step=step,\n",
        "                )\n",
        "                df = df[df[column].between(*user_num_input)]\n",
        "            elif is_datetime64_any_dtype(df[column]):\n",
        "                user_date_input = right.date_input(\n",
        "                    f\"Values for {column}\",\n",
        "                    value=(\n",
        "                        df[column].min(),\n",
        "                        df[column].max(),\n",
        "                    ),\n",
        "                )\n",
        "                if len(user_date_input) == 2:\n",
        "                    user_date_input = tuple(map(pd.to_datetime, user_date_input))\n",
        "                    start_date, end_date = user_date_input\n",
        "                    df = df.loc[df[column].between(start_date, end_date)]\n",
        "            else:\n",
        "                user_text_input = right.text_input(\n",
        "                    f\"Substring or regex in {column}\",\n",
        "                )\n",
        "                if user_text_input:\n",
        "                    df = df[df[column].str.contains(user_text_input)]\n",
        "\n",
        "    return df\n",
        "\n",
        "\n",
        "df = pd.read_csv(\n",
        "    \"WK2_Airbnb_Amsterdam_listings_proj_solution.csv\", index_col=0\n",
        ")\n",
        "st.dataframe(filter_dataframe(df))"
      ],
      "metadata": {
        "id": "awNqC9ezLitX",
        "colab": {
          "base_uri": "https://localhost:8080/"
        },
        "outputId": "ae4c485b-d229-4218-90c8-45d63778dc7c"
      },
      "id": "awNqC9ezLitX",
      "execution_count": null,
      "outputs": [
        {
          "output_type": "stream",
          "name": "stdout",
          "text": [
            "Writing app.py\n"
          ]
        }
      ]
    },
    {
      "cell_type": "markdown",
      "source": [
        "The **%%writefile [FILE_NAME].[FILE_EXTENSION]** command let's us save the code written in the cells in your Google Colab instance. Having it saved like that enables us to download it as a file, as seen below."
      ],
      "metadata": {
        "id": "HV5Os71FhUFA"
      },
      "id": "HV5Os71FhUFA"
    },
    {
      "cell_type": "code",
      "source": [
        "from google.colab import files\n",
        "\n",
        "# Download the file locally\n",
        "files.download('app.py')"
      ],
      "metadata": {
        "id": "2MAXRGePLeAR",
        "colab": {
          "base_uri": "https://localhost:8080/",
          "height": 17
        },
        "outputId": "40218cd5-23b4-4b96-e9b8-f67c131c5361"
      },
      "id": "2MAXRGePLeAR",
      "execution_count": null,
      "outputs": [
        {
          "output_type": "display_data",
          "data": {
            "text/plain": [
              "<IPython.core.display.Javascript object>"
            ],
            "application/javascript": [
              "\n",
              "    async function download(id, filename, size) {\n",
              "      if (!google.colab.kernel.accessAllowed) {\n",
              "        return;\n",
              "      }\n",
              "      const div = document.createElement('div');\n",
              "      const label = document.createElement('label');\n",
              "      label.textContent = `Downloading \"${filename}\": `;\n",
              "      div.appendChild(label);\n",
              "      const progress = document.createElement('progress');\n",
              "      progress.max = size;\n",
              "      div.appendChild(progress);\n",
              "      document.body.appendChild(div);\n",
              "\n",
              "      const buffers = [];\n",
              "      let downloaded = 0;\n",
              "\n",
              "      const channel = await google.colab.kernel.comms.open(id);\n",
              "      // Send a message to notify the kernel that we're ready.\n",
              "      channel.send({})\n",
              "\n",
              "      for await (const message of channel.messages) {\n",
              "        // Send a message to notify the kernel that we're ready.\n",
              "        channel.send({})\n",
              "        if (message.buffers) {\n",
              "          for (const buffer of message.buffers) {\n",
              "            buffers.push(buffer);\n",
              "            downloaded += buffer.byteLength;\n",
              "            progress.value = downloaded;\n",
              "          }\n",
              "        }\n",
              "      }\n",
              "      const blob = new Blob(buffers, {type: 'application/binary'});\n",
              "      const a = document.createElement('a');\n",
              "      a.href = window.URL.createObjectURL(blob);\n",
              "      a.download = filename;\n",
              "      div.appendChild(a);\n",
              "      a.click();\n",
              "      div.remove();\n",
              "    }\n",
              "  "
            ]
          },
          "metadata": {}
        },
        {
          "output_type": "display_data",
          "data": {
            "text/plain": [
              "<IPython.core.display.Javascript object>"
            ],
            "application/javascript": [
              "download(\"download_7cbc801b-6761-4622-b8f2-3c79f25240c6\", \"app.py\", 3263)"
            ]
          },
          "metadata": {}
        }
      ]
    },
    {
      "cell_type": "code",
      "source": [
        "%%writefile requirements.txt\n",
        "pandas\n",
        "streamlit"
      ],
      "metadata": {
        "id": "qTjHh6dwLcdy",
        "colab": {
          "base_uri": "https://localhost:8080/"
        },
        "outputId": "46afeb22-1d88-4d53-85b5-d7f39d2c1bb4"
      },
      "id": "qTjHh6dwLcdy",
      "execution_count": null,
      "outputs": [
        {
          "output_type": "stream",
          "name": "stdout",
          "text": [
            "Writing requirements.txt\n"
          ]
        }
      ]
    },
    {
      "cell_type": "code",
      "source": [
        "from google.colab import files\n",
        "\n",
        "# Download the file locally\n",
        "files.download('requirements.txt')"
      ],
      "metadata": {
        "id": "AXjHxtJXNVZf",
        "colab": {
          "base_uri": "https://localhost:8080/",
          "height": 17
        },
        "outputId": "fc8473f2-f6e8-47ed-ec38-1e70c455e36c"
      },
      "execution_count": null,
      "outputs": [
        {
          "output_type": "display_data",
          "data": {
            "text/plain": [
              "<IPython.core.display.Javascript object>"
            ],
            "application/javascript": [
              "\n",
              "    async function download(id, filename, size) {\n",
              "      if (!google.colab.kernel.accessAllowed) {\n",
              "        return;\n",
              "      }\n",
              "      const div = document.createElement('div');\n",
              "      const label = document.createElement('label');\n",
              "      label.textContent = `Downloading \"${filename}\": `;\n",
              "      div.appendChild(label);\n",
              "      const progress = document.createElement('progress');\n",
              "      progress.max = size;\n",
              "      div.appendChild(progress);\n",
              "      document.body.appendChild(div);\n",
              "\n",
              "      const buffers = [];\n",
              "      let downloaded = 0;\n",
              "\n",
              "      const channel = await google.colab.kernel.comms.open(id);\n",
              "      // Send a message to notify the kernel that we're ready.\n",
              "      channel.send({})\n",
              "\n",
              "      for await (const message of channel.messages) {\n",
              "        // Send a message to notify the kernel that we're ready.\n",
              "        channel.send({})\n",
              "        if (message.buffers) {\n",
              "          for (const buffer of message.buffers) {\n",
              "            buffers.push(buffer);\n",
              "            downloaded += buffer.byteLength;\n",
              "            progress.value = downloaded;\n",
              "          }\n",
              "        }\n",
              "      }\n",
              "      const blob = new Blob(buffers, {type: 'application/binary'});\n",
              "      const a = document.createElement('a');\n",
              "      a.href = window.URL.createObjectURL(blob);\n",
              "      a.download = filename;\n",
              "      div.appendChild(a);\n",
              "      a.click();\n",
              "      div.remove();\n",
              "    }\n",
              "  "
            ]
          },
          "metadata": {}
        },
        {
          "output_type": "display_data",
          "data": {
            "text/plain": [
              "<IPython.core.display.Javascript object>"
            ],
            "application/javascript": [
              "download(\"download_9da95a31-4e54-4cde-a3f1-c5bcecc454e5\", \"requirements.txt\", 17)"
            ]
          },
          "metadata": {}
        }
      ],
      "id": "AXjHxtJXNVZf"
    },
    {
      "cell_type": "markdown",
      "source": [
        "Please verify that you've downloaded three files:\n",
        "- `WK2_Airbnb_Amsterdam_listings_proj_solution.csv`\n",
        "- `app.py`\n",
        "- `requirements.txt`\n",
        "\n",
        "Now let's head over to GitHub and [create an account](https://github.com/signup).\n",
        "\n",
        "Then, since you are logged in, [go to GitHub.com](https://github.com) and click on the **+** icon at the top-right corner and select **New repository**.\n",
        "\n",
        "<center>\n",
        "  <img src=https://i.ibb.co/4gkPBCp/Screen-Shot-2022-11-28-at-1-51-02-PM.png width=\"300\" align=\"center\" />\n",
        "</center>\n",
        "<br/>\n",
        "\n",
        "Here you provide:\n",
        "- **Repository name**: Up to you\n",
        "- **License**: Up to you. We recommend **apache-2.0**.\n",
        "\n",
        "- **Public or private?** Public, otherwise you can't host it on [Streamlit Share](https://share.streamlit.io)!\n",
        "\n",
        "<center>\n",
        "  <img src=https://i.ibb.co/0B533dw/Screen-Shot-2022-11-28-at-1-55-14-PM.png width=\"450\" align=\"center\" />\n",
        "</center>\n",
        "<br/>\n",
        "\n",
        "Then upload the three files to this URL below. ***Please modify it before copy-pasting it***.\n",
        "\n",
        "```https://github.com/[YOUR_ACCOUNT_NAME]/[YOUR_REPOSITORY_NAME]/upload/main```\n",
        "\n",
        "<center>\n",
        "  <img src=https://i.ibb.co/jTsrgJw/Screen-Shot-2022-11-28-at-1-58-31-PM.png width=\"500\" align=\"center\" />\n",
        "</center>\n",
        "<br/>\n",
        "\n",
        "Commit directly to the `main` branch, then click **Commit changes**.\n",
        "\n",
        "Next, you have to create an account on [Streamlit Share](https://share.streamlit.io/signup). \n",
        "\n",
        "<center>\n",
        "  <img src=https://i.ibb.co/znFngJc/Screen-Shot-2022-11-28-at-1-59-47-PM.png width=\"500\" align=\"center\" />\n",
        "</center>\n",
        "<br/>\n",
        "\n",
        "It's recommended that you click **Continue with GitHub**. \n",
        "\n",
        "Then, select **New app** **>** **Deploy a new app...** **>** **From existing repo**.\n",
        "\n",
        "<center>\n",
        "  <img src=https://i.ibb.co/VQPQzt3/Screen-Shot-2022-11-28-at-2-05-04-PM.png width=\"500\" align=\"center\" />\n",
        "</center>\n",
        "\n",
        "Followed by providing your:\n",
        "\n",
        "```[GITHUB_ACCOUNT_NAME]/[GITHUB_REPOSITORY]```\n",
        "\n",
        "<center>\n",
        "  <img src=https://i.ibb.co/PDSQccD/Screen-Shot-2022-11-28-at-2-10-47-PM.png width=\"500\" align=\"center\" />\n",
        "</center>\n",
        "\n",
        "You will have to wait around 1-5 minutes, then an automatic hyperlink is generated for your new website. An example is this app:\n",
        "\n",
        "```https://[GITHUB_ACCOUNT_NAME]-[GITHUB_REPOSITORY]-[RANDOM_6_LETTER_STRING].streamlit.app/```\n",
        "\n",
        "***Please modify the link before copy-pasting it.***"
      ],
      "metadata": {
        "id": "pkmVcoiWQL6s"
      },
      "id": "pkmVcoiWQL6s"
    },
    {
      "cell_type": "markdown",
      "id": "cd9b1585-367b-42ed-8a6c-8d6c7eac41eb",
      "metadata": {
        "id": "cd9b1585-367b-42ed-8a6c-8d6c7eac41eb"
      },
      "source": [
        "---\n",
        "\n",
        "# 🎉 CONGRATULATIONS!!!\n",
        "\n",
        "You've made it to the end of the Week 2 assignment! You should be proud. \n",
        "\n",
        "If you have any lingering questions, post them on Slack! As you know, we're always here to help.\n",
        "\n",
        "And if you want any additional challenge questions, check out the bonus extensions below.\n",
        "\n",
        "---\n",
        "\n",
        "## Extensions (Optional)\n",
        "\n",
        "<center>\n",
        "  <img src=https://raw.githubusercontent.com/aschonfeld/dtale-media/master/images/Title.png width=\"500\" align=\"center\" />\n",
        "</center>\n",
        "<br/>\n",
        "\n",
        "Awesome 🎉🎉🎉 you are finished with all the tasks! How about considering running [D-Tale](https://github.com/man-group/dtale) on your DataFrames, so you can interactively explore your dataset? What about getting a visual representation of the data and thus a quick overview of what's goin' on by using [Lux](https://github.com/lux-org/lux) or [Sweetviz](https://pypi.org/project/sweetviz/)?\n",
        "\n",
        "If optimizing code gets you excited, then try to see how you can maximize these performance numbers even more. Maybe it's time to try running this code using [cuDF](https://github.com/rapidsai/cudf), [Polars](https://github.com/pola-rs/polars), or [Vaex](https://github.com/vaexio/vaex)?\n",
        "\n",
        "# Next Up?\n",
        "This is the last project of our course 😭😭. Please do not be sad! We would like to invite you to read the \"What's Next?\" post in Week 3, as it contains great suggestions on how you can proceed with your learning journey at CoRise (yes, please!) or somewhere else!"
      ]
    }
  ],
  "metadata": {
    "kernelspec": {
      "display_name": "Python 3 (ipykernel)",
      "language": "python",
      "name": "python3"
    },
    "language_info": {
      "codemirror_mode": {
        "name": "ipython",
        "version": 3
      },
      "file_extension": ".py",
      "mimetype": "text/x-python",
      "name": "python",
      "nbconvert_exporter": "python",
      "pygments_lexer": "ipython3",
      "version": "3.10.4"
    },
    "colab": {
      "provenance": [],
      "include_colab_link": true
    }
  },
  "nbformat": 4,
  "nbformat_minor": 5
}